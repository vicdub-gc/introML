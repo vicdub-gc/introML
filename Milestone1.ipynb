{
 "cells": [
  {
   "cell_type": "markdown",
   "source": "# Milestone 1",
   "metadata": {
    "tags": [],
    "cell_id": "00000-88c03d0c-bace-497a-a0b7-9b325c51c99b",
    "deepnote_cell_type": "text-cell-h1"
   }
  },
  {
   "cell_type": "markdown",
   "source": "**Dubien** Victor\n\n**Felber** Arnaud\n\n**Preto** Anne-Valérie",
   "metadata": {
    "tags": [],
    "cell_id": "00001-fbe0bdc5-1ab3-499d-8a31-ec0ac55e039a",
    "deepnote_cell_type": "markdown"
   }
  },
  {
   "cell_type": "markdown",
   "source": "_What is your suggested way of processing this problem? That is, which type of an\napproach would you use?_\n\nWe tried a few approach to understand the problem. \nWe are going to present the two approaches that gave us the best results. \nThe first one consists of gradient boosting. It uses the concept of decision tree to create the most accurate prediction possible. \nOur second approach to this problem was to build a __Neural Network__. We started on a Three-Layer-Net basis. We then tried to improve it as much as possible.\n\nIf you run the notebook, it won't predict with the GradientBoosting, but only with the Neural Network. \nThe GradientBoosting part is commented. (We advise you to run only the HistGradientBoosting)",
   "metadata": {
    "tags": [],
    "cell_id": "00001-3343e8f7-0ec6-4d5e-9da6-c493b08e4a17",
    "deepnote_cell_type": "markdown"
   }
  },
  {
   "cell_type": "code",
   "metadata": {
    "tags": [],
    "deepnote_to_be_reexecuted": false,
    "source_hash": "d9b6c1f",
    "execution_millis": 3,
    "execution_start": 1622149279627,
    "cell_id": "00004-b89c429f-1b8d-49dc-bcda-163c41f073c1",
    "deepnote_cell_type": "code"
   },
   "source": "# Function to align all tables to the left (useful for later on)\n#Par soucis de lisibilité, pris des différentes séries 😄 #",
   "execution_count": null,
   "outputs": []
  },
  {
   "cell_type": "code",
   "metadata": {
    "tags": [],
    "deepnote_to_be_reexecuted": false,
    "source_hash": "b3d16ff7",
    "execution_millis": 19,
    "execution_start": 1622149279639,
    "cell_id": "00005-0b26230c-faca-4a47-9794-e22987f33136",
    "deepnote_cell_type": "code"
   },
   "source": "%%html\n<style>\ntable {float:left}\n</style>",
   "execution_count": null,
   "outputs": [
    {
     "data": {
      "text/plain": "<IPython.core.display.HTML object>",
      "text/html": "<style>\ntable {float:left}\n</style>\n"
     },
     "metadata": {},
     "output_type": "display_data"
    }
   ]
  },
  {
   "cell_type": "code",
   "metadata": {
    "tags": [],
    "deepnote_to_be_reexecuted": false,
    "source_hash": "fbf597b9",
    "execution_millis": 4699,
    "execution_start": 1622149279660,
    "cell_id": "00006-f78648cb-6099-4ed8-9f56-f42915661f2c",
    "deepnote_cell_type": "code"
   },
   "source": "#imports\nimport pandas as pd\nimport numpy as np\nimport matplotlib.pyplot as plt\nimport helpers\nimport metrics\nimport seaborn as sn\nfrom typing import Any, Callable\n\n#imports for the GradientBoosting\nfrom sklearn import datasets\nfrom sklearn.tree import DecisionTreeRegressor\nfrom sklearn.ensemble import GradientBoostingRegressor\nfrom sklearn.metrics import mean_squared_error\nfrom sklearn.experimental import enable_hist_gradient_boosting\nfrom sklearn.ensemble import HistGradientBoostingRegressor\n\n\n#imports for the NN\nimport torch\nimport torchvision\nimport torch.nn as nn\nimport torch.nn.functional as F\nimport torch.optim as optim\nimport torchvision\nimport torchvision.transforms as transforms\nfrom tqdm.auto import tqdm\n\nfrom ipywidgets import IntProgress",
   "execution_count": null,
   "outputs": []
  },
  {
   "cell_type": "markdown",
   "source": "## 1. Data loading &amp; pre-processing",
   "metadata": {
    "tags": [],
    "cell_id": "00009-9ac66a20-7f42-4112-9d62-149367a7e5de",
    "deepnote_cell_type": "text-cell-h2"
   }
  },
  {
   "cell_type": "markdown",
   "source": "_What do the features of the dataset look like? How can you pre-process this data?_\n\n__Train and Validation set__\n- There's Spectral accelerations, Sa(T), computed at 105 different periods ranging from 0.01s up to\n10s. \n- Average spectral accelerations, Saavg, in units of g.\n- There's two different measures of ground motion durations (da5_75 and da5_95) in units of seconds. It's important to know how long the ground shaking last.  It damages more the structure the longer it lasts.\n- There's also a filtered incremental velocity, FIV3 (units: cm/s)\n- We can see the output as the\ncollapse capacities (sat1_col) of a 4-story steel structure computed for those ground\nmotions, which is also included in the files.\n\n__Test set__\n\nWe believe the test set is to use at the end of our code with the best method we found on the train and validation set. Only the features are available, we are going to predict the output.",
   "metadata": {
    "tags": [],
    "cell_id": "00008-4176f292-663d-4c9d-923b-647b538ae459",
    "deepnote_cell_type": "markdown"
   }
  },
  {
   "cell_type": "markdown",
   "source": "_Pre-processing the data :_\n\nFirst we will import our data and compare it. We need to check the number of columns each data set has. \nIt seems to us that there is a large number of features. We have chosen to correlate some of these features. \nThis will allow us to gain computational speed and avoid overfit. \nWe also need to separate the data between the inputs and outputs, i.e. the 110 features and the output (collapse capacities).\nFor the following, we are already planning a normalised data on the train. We will therefore be able to compare normalised or non-normalised data, correlated or not.\n",
   "metadata": {
    "tags": [],
    "cell_id": "00008-54104d89-26f3-47e9-8106-3fa1b3bdb2dc",
    "deepnote_cell_type": "markdown"
   }
  },
  {
   "cell_type": "code",
   "metadata": {
    "tags": [],
    "deepnote_to_be_reexecuted": false,
    "source_hash": "161ecda0",
    "execution_millis": 603,
    "execution_start": 1622149284375,
    "cell_id": "00010-758c2e5b-8a6a-4015-8675-3830719c7bcc",
    "deepnote_cell_type": "code"
   },
   "source": "#import our data in panda\ntrain_df = pd.read_csv('data/train_set.csv') \nval_df = pd.read_csv('data/val_set.csv')\ntest_df = pd.read_csv('data/test_set.csv')",
   "execution_count": null,
   "outputs": []
  },
  {
   "cell_type": "code",
   "metadata": {
    "tags": [],
    "cell_id": "00010-bffe7117-e439-4e3e-a08f-56bec4c5f913",
    "deepnote_to_be_reexecuted": false,
    "source_hash": "bc87707f",
    "execution_start": 1622205417288,
    "execution_millis": 196,
    "deepnote_cell_type": "code"
   },
   "source": "#visualize a few to have an idea\ntrain_df.head(5)",
   "execution_count": 1,
   "outputs": [
    {
     "output_type": "error",
     "ename": "NameError",
     "evalue": "name 'train_df' is not defined",
     "traceback": [
      "\u001b[0;31m---------------------------------------------------------------------------\u001b[0m",
      "\u001b[0;31mNameError\u001b[0m                                 Traceback (most recent call last)",
      "\u001b[0;32m<ipython-input-1-5f49d8211ccb>\u001b[0m in \u001b[0;36m<module>\u001b[0;34m\u001b[0m\n\u001b[1;32m      1\u001b[0m \u001b[0;31m#visualize a few to have an idea\u001b[0m\u001b[0;34m\u001b[0m\u001b[0;34m\u001b[0m\u001b[0;34m\u001b[0m\u001b[0m\n\u001b[0;32m----> 2\u001b[0;31m \u001b[0mtrain_df\u001b[0m\u001b[0;34m.\u001b[0m\u001b[0mhead\u001b[0m\u001b[0;34m(\u001b[0m\u001b[0;36m5\u001b[0m\u001b[0;34m)\u001b[0m\u001b[0;34m\u001b[0m\u001b[0;34m\u001b[0m\u001b[0m\n\u001b[0m",
      "\u001b[0;31mNameError\u001b[0m: name 'train_df' is not defined"
     ]
    }
   ]
  },
  {
   "cell_type": "markdown",
   "source": "_Do the trends in the data make sense in your opinion and given your current understanding of the effect of earthquakes on the structures? For instance, what does\nyour intuition tell you the effect of ground motion duration (i.e. how long the earthquake shaking lasts) would be on the collapse capacity of the ground motion?_\n\nIt is complicated to say. Our intuition would say that the larger da5_75 and da5_95 is, the greater the chances of collapse. However, this does not seem to be directly related. There are more parameters to be taken into account.\nThe way in which the acceleration takes place is also important.\nWe notice, however, that the acceleration rises very slowly. We wonder if the curve is not logarithmic. We tried to ",
   "metadata": {
    "tags": [],
    "cell_id": "00011-63888f86-56c6-47de-9c10-c5cf7a443f30",
    "deepnote_cell_type": "markdown"
   }
  },
  {
   "cell_type": "code",
   "metadata": {
    "tags": [],
    "deepnote_to_be_reexecuted": false,
    "source_hash": "fc38a1ad",
    "execution_start": 1622149285578,
    "execution_millis": 568,
    "cell_id": "00011-64c629ad-a298-4319-80cd-a6323a5fede5",
    "deepnote_cell_type": "code"
   },
   "source": "#correlation matrix\n#we make sure we don't lose the output\nfeatures = train_df.drop(columns=\"sat1_col\")\ncorrMatrix = features.corr(method='pearson')",
   "execution_count": null,
   "outputs": []
  },
  {
   "cell_type": "code",
   "metadata": {
    "tags": [],
    "deepnote_to_be_reexecuted": false,
    "source_hash": "92ee708f",
    "execution_start": 1622149286153,
    "execution_millis": 7,
    "cell_id": "00012-f0fd5d1b-fac7-4520-a21c-118515ec35cd",
    "deepnote_cell_type": "code"
   },
   "source": "#print(corrMatrix)",
   "execution_count": null,
   "outputs": []
  },
  {
   "cell_type": "code",
   "metadata": {
    "tags": [],
    "deepnote_to_be_reexecuted": false,
    "source_hash": "65b3df01",
    "execution_start": 1622149286220,
    "execution_millis": 837,
    "cell_id": "00013-e6ccae43-3793-495d-a591-d8f783646d43",
    "deepnote_cell_type": "code"
   },
   "source": "sn.heatmap(corrMatrix ) #how the data is correlated",
   "execution_count": null,
   "outputs": [
    {
     "output_type": "execute_result",
     "execution_count": 8,
     "data": {
      "text/plain": "<AxesSubplot:>"
     },
     "metadata": {}
    },
    {
     "data": {
      "text/plain": "<Figure size 432x288 with 2 Axes>",
      "image/png": "[encoded data removed]"
     },
     "metadata": {
      "needs_background": "light",
      "image/png": {
       "width": 376,
       "height": 277
      }
     },
     "output_type": "display_data"
    }
   ]
  },
  {
   "cell_type": "code",
   "metadata": {
    "tags": [],
    "deepnote_to_be_reexecuted": false,
    "source_hash": "57ed8ce9",
    "execution_start": 1622149287173,
    "execution_millis": 771,
    "cell_id": "00014-e12f2c0a-7118-400e-ac51-b66b8b40e072",
    "deepnote_cell_type": "code"
   },
   "source": "#we can play with the parameter 0.995\ncolumns = np.full((corrMatrix.shape[0],), True, dtype = bool)\nfor i in range(corrMatrix.shape[0]) :\n    for j in range(i, corrMatrix.shape[0]) :\n        if (corrMatrix.iloc[i,j] >= 0.995 or corrMatrix.iloc[i,j] <= -0.995) and (i != j) :\n            if columns[j] :\n                columns[j] = False\n\n#we want to be sure to use the same columns in train,val and test\nselected_columns = features.columns[columns] \n\nfeatures = features[selected_columns]",
   "execution_count": null,
   "outputs": []
  },
  {
   "cell_type": "code",
   "metadata": {
    "tags": [],
    "deepnote_to_be_reexecuted": false,
    "source_hash": "8b79ca65",
    "execution_start": 1622149287962,
    "execution_millis": 377,
    "cell_id": "00015-fb83f43c-76e1-407f-851b-09d1e5d7e4d1",
    "deepnote_cell_type": "code"
   },
   "source": "#\"new\" train set = features + sat1_col\nfeatures[\"sat1_col\"] = train_df[\"sat1_col\"]\ntrain_data_corr = features\ntrain_data_corr.head(5)\n",
   "execution_count": null,
   "outputs": [
    {
     "output_type": "execute_result",
     "execution_count": 10,
     "data": {
      "application/vnd.deepnote.dataframe.v2+json": {
       "row_count": 5,
       "column_count": 78,
       "columns": [
        {
         "name": "0.01",
         "dtype": "float64",
         "stats": {
          "unique_count": 5,
          "nan_count": 0,
          "min": "0.0110748936972309",
          "max": "0.1553801298694446",
          "histogram": [
           {
            "bin_start": 0.0110748936972309,
            "bin_end": 0.02550541731445227,
            "count": 2
           },
           {
            "bin_start": 0.02550541731445227,
            "bin_end": 0.03993594093167364,
            "count": 1
           },
           {
            "bin_start": 0.03993594093167364,
            "bin_end": 0.054366464548895,
            "count": 0
           },
           {
            "bin_start": 0.054366464548895,
            "bin_end": 0.06879698816611637,
            "count": 1
           },
           {
            "bin_start": 0.06879698816611637,
            "bin_end": 0.08322751178333775,
            "count": 0
           },
           {
            "bin_start": 0.08322751178333775,
            "bin_end": 0.0976580354005591,
            "count": 0
           },
           {
            "bin_start": 0.0976580354005591,
            "bin_end": 0.11208855901778048,
            "count": 0
           },
           {
            "bin_start": 0.11208855901778048,
            "bin_end": 0.12651908263500183,
            "count": 0
           },
           {
            "bin_start": 0.12651908263500183,
            "bin_end": 0.1409496062522232,
            "count": 0
           },
           {
            "bin_start": 0.1409496062522232,
            "bin_end": 0.1553801298694446,
            "count": 1
           }
          ]
         }
        },
        {
         "name": "0.02",
         "dtype": "float64",
         "stats": {
          "unique_count": 5,
          "nan_count": 0,
          "min": "0.0111066385955081",
          "max": "0.1530504290117747",
          "histogram": [
           {
            "bin_start": 0.0111066385955081,
            "bin_end": 0.025301017637134764,
            "count": 2
           },
           {
            "bin_start": 0.025301017637134764,
            "bin_end": 0.039495396678761424,
            "count": 1
           },
           {
            "bin_start": 0.039495396678761424,
            "bin_end": 0.05368977572038809,
            "count": 0
           },
           {
            "bin_start": 0.05368977572038809,
            "bin_end": 0.06788415476201475,
            "count": 1
           },
           {
            "bin_start": 0.06788415476201475,
            "bin_end": 0.08207853380364141,
            "count": 0
           },
           {
            "bin_start": 0.08207853380364141,
            "bin_end": 0.09627291284526808,
            "count": 0
           },
           {
            "bin_start": 0.09627291284526808,
            "bin_end": 0.11046729188689473,
            "count": 0
           },
           {
            "bin_start": 0.11046729188689473,
            "bin_end": 0.1246616709285214,
            "count": 0
           },
           {
            "bin_start": 0.1246616709285214,
            "bin_end": 0.13885604997014805,
            "count": 0
           },
           {
            "bin_start": 0.13885604997014805,
            "bin_end": 0.1530504290117747,
            "count": 1
           }
          ]
         }
        },
        {
         "name": "0.029",
         "dtype": "float64",
         "stats": {
          "unique_count": 5,
          "nan_count": 0,
          "min": "0.0112739158812656",
          "max": "0.1610381382069531",
          "histogram": [
           {
            "bin_start": 0.0112739158812656,
            "bin_end": 0.02625033811383435,
            "count": 2
           },
           {
            "bin_start": 0.02625033811383435,
            "bin_end": 0.041226760346403095,
            "count": 1
           },
           {
            "bin_start": 0.041226760346403095,
            "bin_end": 0.05620318257897185,
            "count": 0
           },
           {
            "bin_start": 0.05620318257897185,
            "bin_end": 0.07117960481154059,
            "count": 1
           },
           {
            "bin_start": 0.07117960481154059,
            "bin_end": 0.08615602704410934,
            "count": 0
           },
           {
            "bin_start": 0.08615602704410934,
            "bin_end": 0.1011324492766781,
            "count": 0
           },
           {
            "bin_start": 0.1011324492766781,
            "bin_end": 0.11610887150924684,
            "count": 0
           },
           {
            "bin_start": 0.11610887150924684,
            "bin_end": 0.1310852937418156,
            "count": 0
           },
           {
            "bin_start": 0.1310852937418156,
            "bin_end": 0.14606171597438436,
            "count": 0
           },
           {
            "bin_start": 0.14606171597438436,
            "bin_end": 0.1610381382069531,
            "count": 1
           }
          ]
         }
        },
        {
         "name": "0.035",
         "dtype": "float64",
         "stats": {
          "unique_count": 5,
          "nan_count": 0,
          "min": "0.0113771058191323",
          "max": "0.1661644594739884",
          "histogram": [
           {
            "bin_start": 0.0113771058191323,
            "bin_end": 0.02685584118461791,
            "count": 2
           },
           {
            "bin_start": 0.02685584118461791,
            "bin_end": 0.042334576550103524,
            "count": 1
           },
           {
            "bin_start": 0.042334576550103524,
            "bin_end": 0.05781331191558914,
            "count": 0
           },
           {
            "bin_start": 0.05781331191558914,
            "bin_end": 0.07329204728107475,
            "count": 1
           },
           {
            "bin_start": 0.07329204728107475,
            "bin_end": 0.08877078264656035,
            "count": 0
           },
           {
            "bin_start": 0.08877078264656035,
            "bin_end": 0.10424951801204597,
            "count": 0
           },
           {
            "bin_start": 0.10424951801204597,
            "bin_end": 0.11972825337753158,
            "count": 0
           },
           {
            "bin_start": 0.11972825337753158,
            "bin_end": 0.13520698874301718,
            "count": 0
           },
           {
            "bin_start": 0.13520698874301718,
            "bin_end": 0.15068572410850278,
            "count": 0
           },
           {
            "bin_start": 0.15068572410850278,
            "bin_end": 0.1661644594739884,
            "count": 1
           }
          ]
         }
        },
        {
         "name": "0.04",
         "dtype": "float64",
         "stats": {
          "unique_count": 5,
          "nan_count": 0,
          "min": "0.0115668000802074",
          "max": "0.1747084995978276",
          "histogram": [
           {
            "bin_start": 0.0115668000802074,
            "bin_end": 0.027880970031969418,
            "count": 2
           },
           {
            "bin_start": 0.027880970031969418,
            "bin_end": 0.04419513998373144,
            "count": 1
           },
           {
            "bin_start": 0.04419513998373144,
            "bin_end": 0.06050930993549346,
            "count": 0
           },
           {
            "bin_start": 0.06050930993549346,
            "bin_end": 0.07682347988725548,
            "count": 1
           },
           {
            "bin_start": 0.07682347988725548,
            "bin_end": 0.0931376498390175,
            "count": 0
           },
           {
            "bin_start": 0.0931376498390175,
            "bin_end": 0.10945181979077952,
            "count": 0
           },
           {
            "bin_start": 0.10945181979077952,
            "bin_end": 0.12576598974254155,
            "count": 0
           },
           {
            "bin_start": 0.12576598974254155,
            "bin_end": 0.14208015969430357,
            "count": 0
           },
           {
            "bin_start": 0.14208015969430357,
            "bin_end": 0.1583943296460656,
            "count": 0
           },
           {
            "bin_start": 0.1583943296460656,
            "bin_end": 0.1747084995978276,
            "count": 1
           }
          ]
         }
        },
        {
         "name": "0.055",
         "dtype": "float64",
         "stats": {
          "unique_count": 5,
          "nan_count": 0,
          "min": "0.0114143145065411",
          "max": "0.2671673767872911",
          "histogram": [
           {
            "bin_start": 0.0114143145065411,
            "bin_end": 0.0369896207346161,
            "count": 3
           },
           {
            "bin_start": 0.0369896207346161,
            "bin_end": 0.06256492696269109,
            "count": 1
           },
           {
            "bin_start": 0.06256492696269109,
            "bin_end": 0.08814023319076608,
            "count": 0
           },
           {
            "bin_start": 0.08814023319076608,
            "bin_end": 0.11371553941884108,
            "count": 0
           },
           {
            "bin_start": 0.11371553941884108,
            "bin_end": 0.13929084564691607,
            "count": 0
           },
           {
            "bin_start": 0.13929084564691607,
            "bin_end": 0.16486615187499107,
            "count": 0
           },
           {
            "bin_start": 0.16486615187499107,
            "bin_end": 0.19044145810306606,
            "count": 0
           },
           {
            "bin_start": 0.19044145810306606,
            "bin_end": 0.21601676433114106,
            "count": 0
           },
           {
            "bin_start": 0.21601676433114106,
            "bin_end": 0.24159207055921605,
            "count": 0
           },
           {
            "bin_start": 0.24159207055921605,
            "bin_end": 0.2671673767872911,
            "count": 1
           }
          ]
         }
        },
        {
         "name": "0.06",
         "dtype": "float64",
         "stats": {
          "unique_count": 5,
          "nan_count": 0,
          "min": "0.0115299400581958",
          "max": "0.320193617959872",
          "histogram": [
           {
            "bin_start": 0.0115299400581958,
            "bin_end": 0.04239630784836342,
            "count": 3
           },
           {
            "bin_start": 0.04239630784836342,
            "bin_end": 0.07326267563853105,
            "count": 1
           },
           {
            "bin_start": 0.07326267563853105,
            "bin_end": 0.10412904342869866,
            "count": 0
           },
           {
            "bin_start": 0.10412904342869866,
            "bin_end": 0.1349954112188663,
            "count": 0
           },
           {
            "bin_start": 0.1349954112188663,
            "bin_end": 0.1658617790090339,
            "count": 0
           },
           {
            "bin_start": 0.1658617790090339,
            "bin_end": 0.19672814679920153,
            "count": 0
           },
           {
            "bin_start": 0.19672814679920153,
            "bin_end": 0.22759451458936913,
            "count": 0
           },
           {
            "bin_start": 0.22759451458936913,
            "bin_end": 0.2584608823795368,
            "count": 0
           },
           {
            "bin_start": 0.2584608823795368,
            "bin_end": 0.2893272501697044,
            "count": 0
           },
           {
            "bin_start": 0.2893272501697044,
            "bin_end": 0.320193617959872,
            "count": 1
           }
          ]
         }
        },
        {
         "name": "0.065",
         "dtype": "float64",
         "stats": {
          "unique_count": 5,
          "nan_count": 0,
          "min": "0.0119361467335832",
          "max": "0.4033537416975923",
          "histogram": [
           {
            "bin_start": 0.0119361467335832,
            "bin_end": 0.05107790622998411,
            "count": 3
           },
           {
            "bin_start": 0.05107790622998411,
            "bin_end": 0.09021966572638503,
            "count": 1
           },
           {
            "bin_start": 0.09021966572638503,
            "bin_end": 0.12936142522278593,
            "count": 0
           },
           {
            "bin_start": 0.12936142522278593,
            "bin_end": 0.16850318471918685,
            "count": 0
           },
           {
            "bin_start": 0.16850318471918685,
            "bin_end": 0.20764494421558777,
            "count": 0
           },
           {
            "bin_start": 0.20764494421558777,
            "bin_end": 0.24678670371198866,
            "count": 0
           },
           {
            "bin_start": 0.24678670371198866,
            "bin_end": 0.28592846320838955,
            "count": 0
           },
           {
            "bin_start": 0.28592846320838955,
            "bin_end": 0.32507022270479047,
            "count": 0
           },
           {
            "bin_start": 0.32507022270479047,
            "bin_end": 0.3642119822011914,
            "count": 0
           },
           {
            "bin_start": 0.3642119822011914,
            "bin_end": 0.4033537416975923,
            "count": 1
           }
          ]
         }
        },
        {
         "name": "0.075",
         "dtype": "float64",
         "stats": {
          "unique_count": 5,
          "nan_count": 0,
          "min": "0.0128133130463407",
          "max": "0.7201024958938483",
          "histogram": [
           {
            "bin_start": 0.0128133130463407,
            "bin_end": 0.08354223133109147,
            "count": 4
           },
           {
            "bin_start": 0.08354223133109147,
            "bin_end": 0.15427114961584223,
            "count": 0
           },
           {
            "bin_start": 0.15427114961584223,
            "bin_end": 0.22500006790059301,
            "count": 0
           },
           {
            "bin_start": 0.22500006790059301,
            "bin_end": 0.29572898618534377,
            "count": 0
           },
           {
            "bin_start": 0.29572898618534377,
            "bin_end": 0.3664579044700945,
            "count": 0
           },
           {
            "bin_start": 0.3664579044700945,
            "bin_end": 0.43718682275484533,
            "count": 0
           },
           {
            "bin_start": 0.43718682275484533,
            "bin_end": 0.507915741039596,
            "count": 0
           },
           {
            "bin_start": 0.507915741039596,
            "bin_end": 0.5786446593243468,
            "count": 0
           },
           {
            "bin_start": 0.5786446593243468,
            "bin_end": 0.6493735776090976,
            "count": 0
           },
           {
            "bin_start": 0.6493735776090976,
            "bin_end": 0.7201024958938483,
            "count": 1
           }
          ]
         }
        },
        {
         "name": "0.08",
         "dtype": "float64",
         "stats": {
          "unique_count": 5,
          "nan_count": 0,
          "min": "0.0138782569299738",
          "max": "0.7771735836371358",
          "histogram": [
           {
            "bin_start": 0.0138782569299738,
            "bin_end": 0.09020778960069001,
            "count": 4
           },
           {
            "bin_start": 0.09020778960069001,
            "bin_end": 0.16653732227140622,
            "count": 0
           },
           {
            "bin_start": 0.16653732227140622,
            "bin_end": 0.24286685494212243,
            "count": 0
           },
           {
            "bin_start": 0.24286685494212243,
            "bin_end": 0.31919638761283864,
            "count": 0
           },
           {
            "bin_start": 0.31919638761283864,
            "bin_end": 0.3955259202835548,
            "count": 0
           },
           {
            "bin_start": 0.3955259202835548,
            "bin_end": 0.47185545295427106,
            "count": 0
           },
           {
            "bin_start": 0.47185545295427106,
            "bin_end": 0.5481849856249873,
            "count": 0
           },
           {
            "bin_start": 0.5481849856249873,
            "bin_end": 0.6245145182957035,
            "count": 0
           },
           {
            "bin_start": 0.6245145182957035,
            "bin_end": 0.7008440509664197,
            "count": 0
           },
           {
            "bin_start": 0.7008440509664197,
            "bin_end": 0.7771735836371358,
            "count": 1
           }
          ]
         }
        },
        {
         "name": "0.085",
         "dtype": "float64",
         "stats": {
          "unique_count": 5,
          "nan_count": 0,
          "min": "0.0146614694932001",
          "max": "0.5285879736643574",
          "histogram": [
           {
            "bin_start": 0.0146614694932001,
            "bin_end": 0.06605411991031583,
            "count": 4
           },
           {
            "bin_start": 0.06605411991031583,
            "bin_end": 0.11744677032743156,
            "count": 0
           },
           {
            "bin_start": 0.11744677032743156,
            "bin_end": 0.1688394207445473,
            "count": 0
           },
           {
            "bin_start": 0.1688394207445473,
            "bin_end": 0.22023207116166302,
            "count": 0
           },
           {
            "bin_start": 0.22023207116166302,
            "bin_end": 0.2716247215787787,
            "count": 0
           },
           {
            "bin_start": 0.2716247215787787,
            "bin_end": 0.3230173719958945,
            "count": 0
           },
           {
            "bin_start": 0.3230173719958945,
            "bin_end": 0.3744100224130102,
            "count": 0
           },
           {
            "bin_start": 0.3744100224130102,
            "bin_end": 0.4258026728301259,
            "count": 0
           },
           {
            "bin_start": 0.4258026728301259,
            "bin_end": 0.4771953232472416,
            "count": 0
           },
           {
            "bin_start": 0.4771953232472416,
            "bin_end": 0.5285879736643574,
            "count": 1
           }
          ]
         }
        },
        {
         "name": "0.09",
         "dtype": "float64",
         "stats": {
          "unique_count": 5,
          "nan_count": 0,
          "min": "0.0154042593357484",
          "max": "0.4869595648234077",
          "histogram": [
           {
            "bin_start": 0.0154042593357484,
            "bin_end": 0.06255978988451433,
            "count": 3
           },
           {
            "bin_start": 0.06255978988451433,
            "bin_end": 0.10971532043328026,
            "count": 1
           },
           {
            "bin_start": 0.10971532043328026,
            "bin_end": 0.1568708509820462,
            "count": 0
           },
           {
            "bin_start": 0.1568708509820462,
            "bin_end": 0.20402638153081212,
            "count": 0
           },
           {
            "bin_start": 0.20402638153081212,
            "bin_end": 0.251181912079578,
            "count": 0
           },
           {
            "bin_start": 0.251181912079578,
            "bin_end": 0.298337442628344,
            "count": 0
           },
           {
            "bin_start": 0.298337442628344,
            "bin_end": 0.3454929731771099,
            "count": 0
           },
           {
            "bin_start": 0.3454929731771099,
            "bin_end": 0.39264850372587584,
            "count": 0
           },
           {
            "bin_start": 0.39264850372587584,
            "bin_end": 0.43980403427464176,
            "count": 0
           },
           {
            "bin_start": 0.43980403427464176,
            "bin_end": 0.4869595648234077,
            "count": 1
           }
          ]
         }
        },
        {
         "name": "0.095",
         "dtype": "float64",
         "stats": {
          "unique_count": 5,
          "nan_count": 0,
          "min": "0.0159003997129265",
          "max": "0.4248690477835966",
          "histogram": [
           {
            "bin_start": 0.0159003997129265,
            "bin_end": 0.05679726451999351,
            "count": 3
           },
           {
            "bin_start": 0.05679726451999351,
            "bin_end": 0.09769412932706052,
            "count": 1
           },
           {
            "bin_start": 0.09769412932706052,
            "bin_end": 0.13859099413412754,
            "count": 0
           },
           {
            "bin_start": 0.13859099413412754,
            "bin_end": 0.17948785894119454,
            "count": 0
           },
           {
            "bin_start": 0.17948785894119454,
            "bin_end": 0.22038472374826154,
            "count": 0
           },
           {
            "bin_start": 0.22038472374826154,
            "bin_end": 0.26128158855532857,
            "count": 0
           },
           {
            "bin_start": 0.26128158855532857,
            "bin_end": 0.30217845336239557,
            "count": 0
           },
           {
            "bin_start": 0.30217845336239557,
            "bin_end": 0.3430753181694626,
            "count": 0
           },
           {
            "bin_start": 0.3430753181694626,
            "bin_end": 0.3839721829765296,
            "count": 0
           },
           {
            "bin_start": 0.3839721829765296,
            "bin_end": 0.4248690477835966,
            "count": 1
           }
          ]
         }
        },
        {
         "name": "0.1",
         "dtype": "float64",
         "stats": {
          "unique_count": 5,
          "nan_count": 0,
          "min": "0.016896119615438",
          "max": "0.4592813958897901",
          "histogram": [
           {
            "bin_start": 0.016896119615438,
            "bin_end": 0.06113464724287321,
            "count": 3
           },
           {
            "bin_start": 0.06113464724287321,
            "bin_end": 0.10537317487030842,
            "count": 1
           },
           {
            "bin_start": 0.10537317487030842,
            "bin_end": 0.1496117024977436,
            "count": 0
           },
           {
            "bin_start": 0.1496117024977436,
            "bin_end": 0.19385023012517882,
            "count": 0
           },
           {
            "bin_start": 0.19385023012517882,
            "bin_end": 0.23808875775261404,
            "count": 0
           },
           {
            "bin_start": 0.23808875775261404,
            "bin_end": 0.28232728538004925,
            "count": 0
           },
           {
            "bin_start": 0.28232728538004925,
            "bin_end": 0.3265658130074845,
            "count": 0
           },
           {
            "bin_start": 0.3265658130074845,
            "bin_end": 0.3708043406349197,
            "count": 0
           },
           {
            "bin_start": 0.3708043406349197,
            "bin_end": 0.41504286826235487,
            "count": 0
           },
           {
            "bin_start": 0.41504286826235487,
            "bin_end": 0.4592813958897901,
            "count": 1
           }
          ]
         }
        },
        {
         "name": "0.11",
         "dtype": "float64",
         "stats": {
          "unique_count": 5,
          "nan_count": 0,
          "min": "0.0193447727660188",
          "max": "0.3673170909765867",
          "histogram": [
           {
            "bin_start": 0.0193447727660188,
            "bin_end": 0.05414200458707559,
            "count": 3
           },
           {
            "bin_start": 0.05414200458707559,
            "bin_end": 0.08893923640813238,
            "count": 1
           },
           {
            "bin_start": 0.08893923640813238,
            "bin_end": 0.12373646822918917,
            "count": 0
           },
           {
            "bin_start": 0.12373646822918917,
            "bin_end": 0.15853370005024597,
            "count": 0
           },
           {
            "bin_start": 0.15853370005024597,
            "bin_end": 0.19333093187130274,
            "count": 0
           },
           {
            "bin_start": 0.19333093187130274,
            "bin_end": 0.22812816369235955,
            "count": 0
           },
           {
            "bin_start": 0.22812816369235955,
            "bin_end": 0.2629253955134163,
            "count": 0
           },
           {
            "bin_start": 0.2629253955134163,
            "bin_end": 0.29772262733447313,
            "count": 0
           },
           {
            "bin_start": 0.29772262733447313,
            "bin_end": 0.3325198591555299,
            "count": 0
           },
           {
            "bin_start": 0.3325198591555299,
            "bin_end": 0.3673170909765867,
            "count": 1
           }
          ]
         }
        },
        {
         "name": "0.12",
         "dtype": "float64",
         "stats": {
          "unique_count": 5,
          "nan_count": 0,
          "min": "0.0173416548805842",
          "max": "0.3082355792074275",
          "histogram": [
           {
            "bin_start": 0.0173416548805842,
            "bin_end": 0.04643104731326853,
            "count": 3
           },
           {
            "bin_start": 0.04643104731326853,
            "bin_end": 0.07552043974595286,
            "count": 1
           },
           {
            "bin_start": 0.07552043974595286,
            "bin_end": 0.1046098321786372,
            "count": 0
           },
           {
            "bin_start": 0.1046098321786372,
            "bin_end": 0.13369922461132153,
            "count": 0
           },
           {
            "bin_start": 0.13369922461132153,
            "bin_end": 0.16278861704400585,
            "count": 0
           },
           {
            "bin_start": 0.16278861704400585,
            "bin_end": 0.1918780094766902,
            "count": 0
           },
           {
            "bin_start": 0.1918780094766902,
            "bin_end": 0.22096740190937453,
            "count": 0
           },
           {
            "bin_start": 0.22096740190937453,
            "bin_end": 0.25005679434205885,
            "count": 0
           },
           {
            "bin_start": 0.25005679434205885,
            "bin_end": 0.2791461867747432,
            "count": 0
           },
           {
            "bin_start": 0.2791461867747432,
            "bin_end": 0.3082355792074275,
            "count": 1
           }
          ]
         }
        },
        {
         "name": "0.13",
         "dtype": "float64",
         "stats": {
          "unique_count": 5,
          "nan_count": 0,
          "min": "0.0174380587747489",
          "max": "0.2958014496983495",
          "histogram": [
           {
            "bin_start": 0.0174380587747489,
            "bin_end": 0.04527439786710896,
            "count": 3
           },
           {
            "bin_start": 0.04527439786710896,
            "bin_end": 0.07311073695946901,
            "count": 1
           },
           {
            "bin_start": 0.07311073695946901,
            "bin_end": 0.10094707605182908,
            "count": 0
           },
           {
            "bin_start": 0.10094707605182908,
            "bin_end": 0.12878341514418915,
            "count": 0
           },
           {
            "bin_start": 0.12878341514418915,
            "bin_end": 0.1566197542365492,
            "count": 0
           },
           {
            "bin_start": 0.1566197542365492,
            "bin_end": 0.18445609332890928,
            "count": 0
           },
           {
            "bin_start": 0.18445609332890928,
            "bin_end": 0.21229243242126933,
            "count": 0
           },
           {
            "bin_start": 0.21229243242126933,
            "bin_end": 0.24012877151362938,
            "count": 0
           },
           {
            "bin_start": 0.24012877151362938,
            "bin_end": 0.26796511060598943,
            "count": 0
           },
           {
            "bin_start": 0.26796511060598943,
            "bin_end": 0.2958014496983495,
            "count": 1
           }
          ]
         }
        },
        {
         "name": "0.14",
         "dtype": "float64",
         "stats": {
          "unique_count": 5,
          "nan_count": 0,
          "min": "0.0200399027056096",
          "max": "0.3727616605473265",
          "histogram": [
           {
            "bin_start": 0.0200399027056096,
            "bin_end": 0.055312078489781286,
            "count": 3
           },
           {
            "bin_start": 0.055312078489781286,
            "bin_end": 0.09058425427395297,
            "count": 1
           },
           {
            "bin_start": 0.09058425427395297,
            "bin_end": 0.12585643005812466,
            "count": 0
           },
           {
            "bin_start": 0.12585643005812466,
            "bin_end": 0.16112860584229635,
            "count": 0
           },
           {
            "bin_start": 0.16112860584229635,
            "bin_end": 0.19640078162646804,
            "count": 0
           },
           {
            "bin_start": 0.19640078162646804,
            "bin_end": 0.23167295741063973,
            "count": 0
           },
           {
            "bin_start": 0.23167295741063973,
            "bin_end": 0.26694513319481145,
            "count": 0
           },
           {
            "bin_start": 0.26694513319481145,
            "bin_end": 0.30221730897898313,
            "count": 0
           },
           {
            "bin_start": 0.30221730897898313,
            "bin_end": 0.3374894847631548,
            "count": 0
           },
           {
            "bin_start": 0.3374894847631548,
            "bin_end": 0.3727616605473265,
            "count": 1
           }
          ]
         }
        },
        {
         "name": "0.15",
         "dtype": "float64",
         "stats": {
          "unique_count": 5,
          "nan_count": 0,
          "min": "0.0207123679481881",
          "max": "0.4098066358758644",
          "histogram": [
           {
            "bin_start": 0.0207123679481881,
            "bin_end": 0.05962179474095573,
            "count": 3
           },
           {
            "bin_start": 0.05962179474095573,
            "bin_end": 0.09853122153372337,
            "count": 1
           },
           {
            "bin_start": 0.09853122153372337,
            "bin_end": 0.137440648326491,
            "count": 0
           },
           {
            "bin_start": 0.137440648326491,
            "bin_end": 0.17635007511925863,
            "count": 0
           },
           {
            "bin_start": 0.17635007511925863,
            "bin_end": 0.21525950191202625,
            "count": 0
           },
           {
            "bin_start": 0.21525950191202625,
            "bin_end": 0.2541689287047939,
            "count": 0
           },
           {
            "bin_start": 0.2541689287047939,
            "bin_end": 0.2930783554975615,
            "count": 0
           },
           {
            "bin_start": 0.2930783554975615,
            "bin_end": 0.33198778229032916,
            "count": 0
           },
           {
            "bin_start": 0.33198778229032916,
            "bin_end": 0.3708972090830968,
            "count": 0
           },
           {
            "bin_start": 0.3708972090830968,
            "bin_end": 0.4098066358758644,
            "count": 1
           }
          ]
         }
        },
        {
         "name": "0.16",
         "dtype": "float64",
         "stats": {
          "unique_count": 5,
          "nan_count": 0,
          "min": "0.0264098333707847",
          "max": "0.438455663014216",
          "histogram": [
           {
            "bin_start": 0.0264098333707847,
            "bin_end": 0.06761441633512784,
            "count": 3
           },
           {
            "bin_start": 0.06761441633512784,
            "bin_end": 0.10881899929947098,
            "count": 1
           },
           {
            "bin_start": 0.10881899929947098,
            "bin_end": 0.1500235822638141,
            "count": 0
           },
           {
            "bin_start": 0.1500235822638141,
            "bin_end": 0.19122816522815725,
            "count": 0
           },
           {
            "bin_start": 0.19122816522815725,
            "bin_end": 0.2324327481925004,
            "count": 0
           },
           {
            "bin_start": 0.2324327481925004,
            "bin_end": 0.2736373311568435,
            "count": 0
           },
           {
            "bin_start": 0.2736373311568435,
            "bin_end": 0.3148419141211866,
            "count": 0
           },
           {
            "bin_start": 0.3148419141211866,
            "bin_end": 0.35604649708552977,
            "count": 0
           },
           {
            "bin_start": 0.35604649708552977,
            "bin_end": 0.3972510800498729,
            "count": 0
           },
           {
            "bin_start": 0.3972510800498729,
            "bin_end": 0.438455663014216,
            "count": 1
           }
          ]
         }
        },
        {
         "name": "0.17",
         "dtype": "float64",
         "stats": {
          "unique_count": 5,
          "nan_count": 0,
          "min": "0.0246994884787201",
          "max": "0.4355332679136487",
          "histogram": [
           {
            "bin_start": 0.0246994884787201,
            "bin_end": 0.06578286642221295,
            "count": 3
           },
           {
            "bin_start": 0.06578286642221295,
            "bin_end": 0.10686624436570581,
            "count": 1
           },
           {
            "bin_start": 0.10686624436570581,
            "bin_end": 0.14794962230919867,
            "count": 0
           },
           {
            "bin_start": 0.14794962230919867,
            "bin_end": 0.18903300025269154,
            "count": 0
           },
           {
            "bin_start": 0.18903300025269154,
            "bin_end": 0.2301163781961844,
            "count": 0
           },
           {
            "bin_start": 0.2301163781961844,
            "bin_end": 0.27119975613967723,
            "count": 0
           },
           {
            "bin_start": 0.27119975613967723,
            "bin_end": 0.3122831340831701,
            "count": 0
           },
           {
            "bin_start": 0.3122831340831701,
            "bin_end": 0.35336651202666297,
            "count": 0
           },
           {
            "bin_start": 0.35336651202666297,
            "bin_end": 0.39444988997015584,
            "count": 0
           },
           {
            "bin_start": 0.39444988997015584,
            "bin_end": 0.4355332679136487,
            "count": 1
           }
          ]
         }
        },
        {
         "name": "0.18",
         "dtype": "float64",
         "stats": {
          "unique_count": 5,
          "nan_count": 0,
          "min": "0.0257024399721512",
          "max": "0.4166957069172091",
          "histogram": [
           {
            "bin_start": 0.0257024399721512,
            "bin_end": 0.06480176666665699,
            "count": 3
           },
           {
            "bin_start": 0.06480176666665699,
            "bin_end": 0.10390109336116278,
            "count": 1
           },
           {
            "bin_start": 0.10390109336116278,
            "bin_end": 0.14300042005566857,
            "count": 0
           },
           {
            "bin_start": 0.14300042005566857,
            "bin_end": 0.18209974675017437,
            "count": 0
           },
           {
            "bin_start": 0.18209974675017437,
            "bin_end": 0.22119907344468015,
            "count": 0
           },
           {
            "bin_start": 0.22119907344468015,
            "bin_end": 0.2602984001391859,
            "count": 0
           },
           {
            "bin_start": 0.2602984001391859,
            "bin_end": 0.29939772683369176,
            "count": 0
           },
           {
            "bin_start": 0.29939772683369176,
            "bin_end": 0.33849705352819753,
            "count": 0
           },
           {
            "bin_start": 0.33849705352819753,
            "bin_end": 0.3775963802227033,
            "count": 0
           },
           {
            "bin_start": 0.3775963802227033,
            "bin_end": 0.4166957069172091,
            "count": 1
           }
          ]
         }
        },
        {
         "name": "0.19",
         "dtype": "float64",
         "stats": {
          "unique_count": 5,
          "nan_count": 0,
          "min": "0.0292397500504301",
          "max": "0.3503595487980238",
          "histogram": [
           {
            "bin_start": 0.0292397500504301,
            "bin_end": 0.06135172992518947,
            "count": 2
           },
           {
            "bin_start": 0.06135172992518947,
            "bin_end": 0.09346370979994884,
            "count": 2
           },
           {
            "bin_start": 0.09346370979994884,
            "bin_end": 0.12557568967470822,
            "count": 0
           },
           {
            "bin_start": 0.12557568967470822,
            "bin_end": 0.15768766954946756,
            "count": 0
           },
           {
            "bin_start": 0.15768766954946756,
            "bin_end": 0.18979964942422695,
            "count": 0
           },
           {
            "bin_start": 0.18979964942422695,
            "bin_end": 0.22191162929898633,
            "count": 0
           },
           {
            "bin_start": 0.22191162929898633,
            "bin_end": 0.25402360917374567,
            "count": 0
           },
           {
            "bin_start": 0.25402360917374567,
            "bin_end": 0.28613558904850506,
            "count": 0
           },
           {
            "bin_start": 0.28613558904850506,
            "bin_end": 0.31824756892326445,
            "count": 0
           },
           {
            "bin_start": 0.31824756892326445,
            "bin_end": 0.3503595487980238,
            "count": 1
           }
          ]
         }
        },
        {
         "name": "0.2",
         "dtype": "float64",
         "stats": {
          "unique_count": 5,
          "nan_count": 0,
          "min": "0.0314222446662522",
          "max": "0.2507278385231296",
          "histogram": [
           {
            "bin_start": 0.0314222446662522,
            "bin_end": 0.05335280405193994,
            "count": 2
           },
           {
            "bin_start": 0.05335280405193994,
            "bin_end": 0.07528336343762768,
            "count": 2
           },
           {
            "bin_start": 0.07528336343762768,
            "bin_end": 0.09721392282331542,
            "count": 0
           },
           {
            "bin_start": 0.09721392282331542,
            "bin_end": 0.11914448220900314,
            "count": 0
           },
           {
            "bin_start": 0.11914448220900314,
            "bin_end": 0.1410750415946909,
            "count": 0
           },
           {
            "bin_start": 0.1410750415946909,
            "bin_end": 0.16300560098037864,
            "count": 0
           },
           {
            "bin_start": 0.16300560098037864,
            "bin_end": 0.18493616036606636,
            "count": 0
           },
           {
            "bin_start": 0.18493616036606636,
            "bin_end": 0.2068667197517541,
            "count": 0
           },
           {
            "bin_start": 0.2068667197517541,
            "bin_end": 0.22879727913744186,
            "count": 0
           },
           {
            "bin_start": 0.22879727913744186,
            "bin_end": 0.2507278385231296,
            "count": 1
           }
          ]
         }
        },
        {
         "name": "0.22",
         "dtype": "float64",
         "stats": {
          "unique_count": 5,
          "nan_count": 0,
          "min": "0.0295839843705958",
          "max": "0.2090859564996622",
          "histogram": [
           {
            "bin_start": 0.0295839843705958,
            "bin_end": 0.047534181583502436,
            "count": 2
           },
           {
            "bin_start": 0.047534181583502436,
            "bin_end": 0.06548437879640907,
            "count": 0
           },
           {
            "bin_start": 0.06548437879640907,
            "bin_end": 0.08343457600931571,
            "count": 2
           },
           {
            "bin_start": 0.08343457600931571,
            "bin_end": 0.10138477322222235,
            "count": 0
           },
           {
            "bin_start": 0.10138477322222235,
            "bin_end": 0.11933497043512899,
            "count": 0
           },
           {
            "bin_start": 0.11933497043512899,
            "bin_end": 0.13728516764803564,
            "count": 0
           },
           {
            "bin_start": 0.13728516764803564,
            "bin_end": 0.15523536486094228,
            "count": 0
           },
           {
            "bin_start": 0.15523536486094228,
            "bin_end": 0.17318556207384891,
            "count": 0
           },
           {
            "bin_start": 0.17318556207384891,
            "bin_end": 0.19113575928675555,
            "count": 0
           },
           {
            "bin_start": 0.19113575928675555,
            "bin_end": 0.2090859564996622,
            "count": 1
           }
          ]
         }
        },
        {
         "name": "0.24",
         "dtype": "float64",
         "stats": {
          "unique_count": 5,
          "nan_count": 0,
          "min": "0.0318532560038371",
          "max": "0.1923491179802387",
          "histogram": [
           {
            "bin_start": 0.0318532560038371,
            "bin_end": 0.047902842201477266,
            "count": 2
           },
           {
            "bin_start": 0.047902842201477266,
            "bin_end": 0.06395242839911743,
            "count": 0
           },
           {
            "bin_start": 0.06395242839911743,
            "bin_end": 0.0800020145967576,
            "count": 0
           },
           {
            "bin_start": 0.0800020145967576,
            "bin_end": 0.09605160079439776,
            "count": 2
           },
           {
            "bin_start": 0.09605160079439776,
            "bin_end": 0.11210118699203792,
            "count": 0
           },
           {
            "bin_start": 0.11210118699203792,
            "bin_end": 0.12815077318967807,
            "count": 0
           },
           {
            "bin_start": 0.12815077318967807,
            "bin_end": 0.14420035938731823,
            "count": 0
           },
           {
            "bin_start": 0.14420035938731823,
            "bin_end": 0.1602499455849584,
            "count": 0
           },
           {
            "bin_start": 0.1602499455849584,
            "bin_end": 0.17629953178259855,
            "count": 0
           },
           {
            "bin_start": 0.17629953178259855,
            "bin_end": 0.1923491179802387,
            "count": 1
           }
          ]
         }
        },
        {
         "name": "0.25",
         "dtype": "float64",
         "stats": {
          "unique_count": 5,
          "nan_count": 0,
          "min": "0.0337287636429722",
          "max": "0.16936844871423",
          "histogram": [
           {
            "bin_start": 0.0337287636429722,
            "bin_end": 0.04729273215009798,
            "count": 1
           },
           {
            "bin_start": 0.04729273215009798,
            "bin_end": 0.06085670065722376,
            "count": 1
           },
           {
            "bin_start": 0.06085670065722376,
            "bin_end": 0.07442066916434954,
            "count": 0
           },
           {
            "bin_start": 0.07442066916434954,
            "bin_end": 0.08798463767147532,
            "count": 1
           },
           {
            "bin_start": 0.08798463767147532,
            "bin_end": 0.1015486061786011,
            "count": 1
           },
           {
            "bin_start": 0.1015486061786011,
            "bin_end": 0.11511257468572689,
            "count": 0
           },
           {
            "bin_start": 0.11511257468572689,
            "bin_end": 0.12867654319285265,
            "count": 0
           },
           {
            "bin_start": 0.12867654319285265,
            "bin_end": 0.14224051169997845,
            "count": 0
           },
           {
            "bin_start": 0.14224051169997845,
            "bin_end": 0.15580448020710425,
            "count": 0
           },
           {
            "bin_start": 0.15580448020710425,
            "bin_end": 0.16936844871423,
            "count": 1
           }
          ]
         }
        },
        {
         "name": "0.26",
         "dtype": "float64",
         "stats": {
          "unique_count": 5,
          "nan_count": 0,
          "min": "0.0339352684315561",
          "max": "0.147096925512237",
          "histogram": [
           {
            "bin_start": 0.0339352684315561,
            "bin_end": 0.045251434139624194,
            "count": 1
           },
           {
            "bin_start": 0.045251434139624194,
            "bin_end": 0.05656759984769228,
            "count": 1
           },
           {
            "bin_start": 0.05656759984769228,
            "bin_end": 0.06788376555576037,
            "count": 0
           },
           {
            "bin_start": 0.06788376555576037,
            "bin_end": 0.07919993126382846,
            "count": 0
           },
           {
            "bin_start": 0.07919993126382846,
            "bin_end": 0.09051609697189655,
            "count": 1
           },
           {
            "bin_start": 0.09051609697189655,
            "bin_end": 0.10183226267996463,
            "count": 0
           },
           {
            "bin_start": 0.10183226267996463,
            "bin_end": 0.11314842838803273,
            "count": 1
           },
           {
            "bin_start": 0.11314842838803273,
            "bin_end": 0.12446459409610082,
            "count": 0
           },
           {
            "bin_start": 0.12446459409610082,
            "bin_end": 0.13578075980416893,
            "count": 0
           },
           {
            "bin_start": 0.13578075980416893,
            "bin_end": 0.147096925512237,
            "count": 1
           }
          ]
         }
        },
        {
         "name": "0.28",
         "dtype": "float64",
         "stats": {
          "unique_count": 5,
          "nan_count": 0,
          "min": "0.0337859546530171",
          "max": "0.1193179701895206",
          "histogram": [
           {
            "bin_start": 0.0337859546530171,
            "bin_end": 0.04233915620666745,
            "count": 1
           },
           {
            "bin_start": 0.04233915620666745,
            "bin_end": 0.050892357760317794,
            "count": 0
           },
           {
            "bin_start": 0.050892357760317794,
            "bin_end": 0.059445559313968145,
            "count": 1
           },
           {
            "bin_start": 0.059445559313968145,
            "bin_end": 0.0679987608676185,
            "count": 0
           },
           {
            "bin_start": 0.0679987608676185,
            "bin_end": 0.07655196242126885,
            "count": 0
           },
           {
            "bin_start": 0.07655196242126885,
            "bin_end": 0.08510516397491918,
            "count": 1
           },
           {
            "bin_start": 0.08510516397491918,
            "bin_end": 0.09365836552856954,
            "count": 1
           },
           {
            "bin_start": 0.09365836552856954,
            "bin_end": 0.1022115670822199,
            "count": 0
           },
           {
            "bin_start": 0.1022115670822199,
            "bin_end": 0.11076476863587023,
            "count": 0
           },
           {
            "bin_start": 0.11076476863587023,
            "bin_end": 0.1193179701895206,
            "count": 1
           }
          ]
         }
        },
        {
         "name": "0.29",
         "dtype": "float64",
         "stats": {
          "unique_count": 5,
          "nan_count": 0,
          "min": "0.0371489639157852",
          "max": "0.1158057864490509",
          "histogram": [
           {
            "bin_start": 0.0371489639157852,
            "bin_end": 0.04501464616911177,
            "count": 1
           },
           {
            "bin_start": 0.04501464616911177,
            "bin_end": 0.05288032842243834,
            "count": 1
           },
           {
            "bin_start": 0.05288032842243834,
            "bin_end": 0.060746010675764905,
            "count": 0
           },
           {
            "bin_start": 0.060746010675764905,
            "bin_end": 0.06861169292909147,
            "count": 0
           },
           {
            "bin_start": 0.06861169292909147,
            "bin_end": 0.07647737518241804,
            "count": 1
           },
           {
            "bin_start": 0.07647737518241804,
            "bin_end": 0.08434305743574462,
            "count": 0
           },
           {
            "bin_start": 0.08434305743574462,
            "bin_end": 0.0922087396890712,
            "count": 0
           },
           {
            "bin_start": 0.0922087396890712,
            "bin_end": 0.10007442194239777,
            "count": 1
           },
           {
            "bin_start": 0.10007442194239777,
            "bin_end": 0.10794010419572433,
            "count": 0
           },
           {
            "bin_start": 0.10794010419572433,
            "bin_end": 0.1158057864490509,
            "count": 1
           }
          ]
         }
        },
        {
         "name": "0.32",
         "dtype": "float64",
         "stats": {
          "unique_count": 5,
          "nan_count": 0,
          "min": "0.0387438311504232",
          "max": "0.1108197393825456",
          "histogram": [
           {
            "bin_start": 0.0387438311504232,
            "bin_end": 0.04595142197363544,
            "count": 1
           },
           {
            "bin_start": 0.04595142197363544,
            "bin_end": 0.05315901279684768,
            "count": 1
           },
           {
            "bin_start": 0.05315901279684768,
            "bin_end": 0.06036660362005992,
            "count": 0
           },
           {
            "bin_start": 0.06036660362005992,
            "bin_end": 0.06757419444327216,
            "count": 1
           },
           {
            "bin_start": 0.06757419444327216,
            "bin_end": 0.07478178526648441,
            "count": 0
           },
           {
            "bin_start": 0.07478178526648441,
            "bin_end": 0.08198937608969664,
            "count": 0
           },
           {
            "bin_start": 0.08198937608969664,
            "bin_end": 0.08919696691290888,
            "count": 0
           },
           {
            "bin_start": 0.08919696691290888,
            "bin_end": 0.09640455773612111,
            "count": 1
           },
           {
            "bin_start": 0.09640455773612111,
            "bin_end": 0.10361214855933334,
            "count": 0
           },
           {
            "bin_start": 0.10361214855933334,
            "bin_end": 0.1108197393825456,
            "count": 1
           }
          ]
         }
        },
        {
         "name": "0.34",
         "dtype": "float64",
         "stats": {
          "unique_count": 5,
          "nan_count": 0,
          "min": "0.0348538762227967",
          "max": "0.1320730407247498",
          "histogram": [
           {
            "bin_start": 0.0348538762227967,
            "bin_end": 0.044575792672992005,
            "count": 1
           },
           {
            "bin_start": 0.044575792672992005,
            "bin_end": 0.054297709123187314,
            "count": 1
           },
           {
            "bin_start": 0.054297709123187314,
            "bin_end": 0.06401962557338262,
            "count": 0
           },
           {
            "bin_start": 0.06401962557338262,
            "bin_end": 0.07374154202357794,
            "count": 1
           },
           {
            "bin_start": 0.07374154202357794,
            "bin_end": 0.08346345847377323,
            "count": 0
           },
           {
            "bin_start": 0.08346345847377323,
            "bin_end": 0.09318537492396856,
            "count": 0
           },
           {
            "bin_start": 0.09318537492396856,
            "bin_end": 0.10290729137416385,
            "count": 1
           },
           {
            "bin_start": 0.10290729137416385,
            "bin_end": 0.11262920782435917,
            "count": 0
           },
           {
            "bin_start": 0.11262920782435917,
            "bin_end": 0.12235112427455447,
            "count": 0
           },
           {
            "bin_start": 0.12235112427455447,
            "bin_end": 0.1320730407247498,
            "count": 1
           }
          ]
         }
        },
        {
         "name": "0.38",
         "dtype": "float64",
         "stats": {
          "unique_count": 5,
          "nan_count": 0,
          "min": "0.0376600595566501",
          "max": "0.1285081837633606",
          "histogram": [
           {
            "bin_start": 0.0376600595566501,
            "bin_end": 0.04674487197732115,
            "count": 1
           },
           {
            "bin_start": 0.04674487197732115,
            "bin_end": 0.0558296843979922,
            "count": 1
           },
           {
            "bin_start": 0.0558296843979922,
            "bin_end": 0.06491449681866324,
            "count": 0
           },
           {
            "bin_start": 0.06491449681866324,
            "bin_end": 0.07399930923933429,
            "count": 0
           },
           {
            "bin_start": 0.07399930923933429,
            "bin_end": 0.08308412166000534,
            "count": 0
           },
           {
            "bin_start": 0.08308412166000534,
            "bin_end": 0.09216893408067639,
            "count": 1
           },
           {
            "bin_start": 0.09216893408067639,
            "bin_end": 0.10125374650134744,
            "count": 1
           },
           {
            "bin_start": 0.10125374650134744,
            "bin_end": 0.11033855892201849,
            "count": 0
           },
           {
            "bin_start": 0.11033855892201849,
            "bin_end": 0.11942337134268954,
            "count": 0
           },
           {
            "bin_start": 0.11942337134268954,
            "bin_end": 0.1285081837633606,
            "count": 1
           }
          ]
         }
        },
        {
         "name": "0.4",
         "dtype": "float64",
         "stats": {
          "unique_count": 5,
          "nan_count": 0,
          "min": "0.0379038947570124",
          "max": "0.1410814499279081",
          "histogram": [
           {
            "bin_start": 0.0379038947570124,
            "bin_end": 0.04822165027410197,
            "count": 2
           },
           {
            "bin_start": 0.04822165027410197,
            "bin_end": 0.058539405791191546,
            "count": 0
           },
           {
            "bin_start": 0.058539405791191546,
            "bin_end": 0.06885716130828112,
            "count": 0
           },
           {
            "bin_start": 0.06885716130828112,
            "bin_end": 0.07917491682537069,
            "count": 1
           },
           {
            "bin_start": 0.07917491682537069,
            "bin_end": 0.08949267234246025,
            "count": 1
           },
           {
            "bin_start": 0.08949267234246025,
            "bin_end": 0.09981042785954983,
            "count": 0
           },
           {
            "bin_start": 0.09981042785954983,
            "bin_end": 0.1101281833766394,
            "count": 0
           },
           {
            "bin_start": 0.1101281833766394,
            "bin_end": 0.12044593889372898,
            "count": 0
           },
           {
            "bin_start": 0.12044593889372898,
            "bin_end": 0.13076369441081856,
            "count": 0
           },
           {
            "bin_start": 0.13076369441081856,
            "bin_end": 0.1410814499279081,
            "count": 1
           }
          ]
         }
        },
        {
         "name": "0.42",
         "dtype": "float64",
         "stats": {
          "unique_count": 5,
          "nan_count": 0,
          "min": "0.0351457720222904",
          "max": "0.1376563766003376",
          "histogram": [
           {
            "bin_start": 0.0351457720222904,
            "bin_end": 0.045396832480095115,
            "count": 2
           },
           {
            "bin_start": 0.045396832480095115,
            "bin_end": 0.05564789293789984,
            "count": 0
           },
           {
            "bin_start": 0.05564789293789984,
            "bin_end": 0.06589895339570456,
            "count": 1
           },
           {
            "bin_start": 0.06589895339570456,
            "bin_end": 0.07615001385350928,
            "count": 1
           },
           {
            "bin_start": 0.07615001385350928,
            "bin_end": 0.086401074311314,
            "count": 0
           },
           {
            "bin_start": 0.086401074311314,
            "bin_end": 0.09665213476911871,
            "count": 0
           },
           {
            "bin_start": 0.09665213476911871,
            "bin_end": 0.10690319522692344,
            "count": 0
           },
           {
            "bin_start": 0.10690319522692344,
            "bin_end": 0.11715425568472816,
            "count": 0
           },
           {
            "bin_start": 0.11715425568472816,
            "bin_end": 0.12740531614253287,
            "count": 0
           },
           {
            "bin_start": 0.12740531614253287,
            "bin_end": 0.1376563766003376,
            "count": 1
           }
          ]
         }
        },
        {
         "name": "0.44",
         "dtype": "float64",
         "stats": {
          "unique_count": 5,
          "nan_count": 0,
          "min": "0.0344685156933861",
          "max": "0.1143511631582949",
          "histogram": [
           {
            "bin_start": 0.0344685156933861,
            "bin_end": 0.04245678043987698,
            "count": 2
           },
           {
            "bin_start": 0.04245678043987698,
            "bin_end": 0.05044504518636786,
            "count": 0
           },
           {
            "bin_start": 0.05044504518636786,
            "bin_end": 0.05843330993285874,
            "count": 0
           },
           {
            "bin_start": 0.05843330993285874,
            "bin_end": 0.06642157467934962,
            "count": 1
           },
           {
            "bin_start": 0.06642157467934962,
            "bin_end": 0.07440983942584051,
            "count": 1
           },
           {
            "bin_start": 0.07440983942584051,
            "bin_end": 0.08239810417233139,
            "count": 0
           },
           {
            "bin_start": 0.08239810417233139,
            "bin_end": 0.09038636891882226,
            "count": 0
           },
           {
            "bin_start": 0.09038636891882226,
            "bin_end": 0.09837463366531315,
            "count": 0
           },
           {
            "bin_start": 0.09837463366531315,
            "bin_end": 0.10636289841180402,
            "count": 0
           },
           {
            "bin_start": 0.10636289841180402,
            "bin_end": 0.1143511631582949,
            "count": 1
           }
          ]
         }
        },
        {
         "name": "0.48",
         "dtype": "float64",
         "stats": {
          "unique_count": 5,
          "nan_count": 0,
          "min": "0.034484632672688",
          "max": "0.1634918321749359",
          "histogram": [
           {
            "bin_start": 0.034484632672688,
            "bin_end": 0.04738535262291278,
            "count": 2
           },
           {
            "bin_start": 0.04738535262291278,
            "bin_end": 0.060286072573137575,
            "count": 0
           },
           {
            "bin_start": 0.060286072573137575,
            "bin_end": 0.07318679252336235,
            "count": 2
           },
           {
            "bin_start": 0.07318679252336235,
            "bin_end": 0.08608751247358715,
            "count": 0
           },
           {
            "bin_start": 0.08608751247358715,
            "bin_end": 0.09898823242381194,
            "count": 0
           },
           {
            "bin_start": 0.09898823242381194,
            "bin_end": 0.11188895237403673,
            "count": 0
           },
           {
            "bin_start": 0.11188895237403673,
            "bin_end": 0.12478967232426152,
            "count": 0
           },
           {
            "bin_start": 0.12478967232426152,
            "bin_end": 0.13769039227448632,
            "count": 0
           },
           {
            "bin_start": 0.13769039227448632,
            "bin_end": 0.1505911122247111,
            "count": 0
           },
           {
            "bin_start": 0.1505911122247111,
            "bin_end": 0.1634918321749359,
            "count": 1
           }
          ]
         }
        },
        {
         "name": "0.5",
         "dtype": "float64",
         "stats": {
          "unique_count": 5,
          "nan_count": 0,
          "min": "0.0289664785260319",
          "max": "0.1635169644412949",
          "histogram": [
           {
            "bin_start": 0.0289664785260319,
            "bin_end": 0.0424215271175582,
            "count": 2
           },
           {
            "bin_start": 0.0424215271175582,
            "bin_end": 0.0558765757090845,
            "count": 0
           },
           {
            "bin_start": 0.0558765757090845,
            "bin_end": 0.06933162430061081,
            "count": 0
           },
           {
            "bin_start": 0.06933162430061081,
            "bin_end": 0.0827866728921371,
            "count": 2
           },
           {
            "bin_start": 0.0827866728921371,
            "bin_end": 0.0962417214836634,
            "count": 0
           },
           {
            "bin_start": 0.0962417214836634,
            "bin_end": 0.10969677007518971,
            "count": 0
           },
           {
            "bin_start": 0.10969677007518971,
            "bin_end": 0.12315181866671601,
            "count": 0
           },
           {
            "bin_start": 0.12315181866671601,
            "bin_end": 0.1366068672582423,
            "count": 0
           },
           {
            "bin_start": 0.1366068672582423,
            "bin_end": 0.1500619158497686,
            "count": 0
           },
           {
            "bin_start": 0.1500619158497686,
            "bin_end": 0.1635169644412949,
            "count": 1
           }
          ]
         }
        },
        {
         "name": "0.55",
         "dtype": "float64",
         "stats": {
          "unique_count": 5,
          "nan_count": 0,
          "min": "0.0311985783589428",
          "max": "0.1394601559383565",
          "histogram": [
           {
            "bin_start": 0.0311985783589428,
            "bin_end": 0.04202473611688417,
            "count": 1
           },
           {
            "bin_start": 0.04202473611688417,
            "bin_end": 0.05285089387482554,
            "count": 2
           },
           {
            "bin_start": 0.05285089387482554,
            "bin_end": 0.0636770516327669,
            "count": 0
           },
           {
            "bin_start": 0.0636770516327669,
            "bin_end": 0.07450320939070829,
            "count": 0
           },
           {
            "bin_start": 0.07450320939070829,
            "bin_end": 0.08532936714864965,
            "count": 1
           },
           {
            "bin_start": 0.08532936714864965,
            "bin_end": 0.09615552490659102,
            "count": 0
           },
           {
            "bin_start": 0.09615552490659102,
            "bin_end": 0.1069816826645324,
            "count": 0
           },
           {
            "bin_start": 0.1069816826645324,
            "bin_end": 0.11780784042247376,
            "count": 0
           },
           {
            "bin_start": 0.11780784042247376,
            "bin_end": 0.12863399818041513,
            "count": 0
           },
           {
            "bin_start": 0.12863399818041513,
            "bin_end": 0.1394601559383565,
            "count": 1
           }
          ]
         }
        },
        {
         "name": "0.6",
         "dtype": "float64",
         "stats": {
          "unique_count": 5,
          "nan_count": 0,
          "min": "0.0280005351528867",
          "max": "0.1429448754782555",
          "histogram": [
           {
            "bin_start": 0.0280005351528867,
            "bin_end": 0.03949496918542358,
            "count": 1
           },
           {
            "bin_start": 0.03949496918542358,
            "bin_end": 0.05098940321796046,
            "count": 1
           },
           {
            "bin_start": 0.05098940321796046,
            "bin_end": 0.06248383725049733,
            "count": 1
           },
           {
            "bin_start": 0.06248383725049733,
            "bin_end": 0.07397827128303422,
            "count": 0
           },
           {
            "bin_start": 0.07397827128303422,
            "bin_end": 0.0854727053155711,
            "count": 0
           },
           {
            "bin_start": 0.0854727053155711,
            "bin_end": 0.09696713934810797,
            "count": 1
           },
           {
            "bin_start": 0.09696713934810797,
            "bin_end": 0.10846157338064485,
            "count": 0
           },
           {
            "bin_start": 0.10846157338064485,
            "bin_end": 0.11995600741318173,
            "count": 0
           },
           {
            "bin_start": 0.11995600741318173,
            "bin_end": 0.1314504414457186,
            "count": 0
           },
           {
            "bin_start": 0.1314504414457186,
            "bin_end": 0.1429448754782555,
            "count": 1
           }
          ]
         }
        },
        {
         "name": "0.65",
         "dtype": "float64",
         "stats": {
          "unique_count": 5,
          "nan_count": 0,
          "min": "0.0249676397584693",
          "max": "0.1496835653061423",
          "histogram": [
           {
            "bin_start": 0.0249676397584693,
            "bin_end": 0.0374392323132366,
            "count": 2
           },
           {
            "bin_start": 0.0374392323132366,
            "bin_end": 0.0499108248680039,
            "count": 1
           },
           {
            "bin_start": 0.0499108248680039,
            "bin_end": 0.0623824174227712,
            "count": 0
           },
           {
            "bin_start": 0.0623824174227712,
            "bin_end": 0.0748540099775385,
            "count": 0
           },
           {
            "bin_start": 0.0748540099775385,
            "bin_end": 0.0873256025323058,
            "count": 0
           },
           {
            "bin_start": 0.0873256025323058,
            "bin_end": 0.0997971950870731,
            "count": 1
           },
           {
            "bin_start": 0.0997971950870731,
            "bin_end": 0.1122687876418404,
            "count": 0
           },
           {
            "bin_start": 0.1122687876418404,
            "bin_end": 0.1247403801966077,
            "count": 0
           },
           {
            "bin_start": 0.1247403801966077,
            "bin_end": 0.137211972751375,
            "count": 0
           },
           {
            "bin_start": 0.137211972751375,
            "bin_end": 0.1496835653061423,
            "count": 1
           }
          ]
         }
        },
        {
         "name": "0.7",
         "dtype": "float64",
         "stats": {
          "unique_count": 5,
          "nan_count": 0,
          "min": "0.0201154119418267",
          "max": "0.167163644617717",
          "histogram": [
           {
            "bin_start": 0.0201154119418267,
            "bin_end": 0.034820235209415726,
            "count": 2
           },
           {
            "bin_start": 0.034820235209415726,
            "bin_end": 0.04952505847700476,
            "count": 1
           },
           {
            "bin_start": 0.04952505847700476,
            "bin_end": 0.06422988174459379,
            "count": 0
           },
           {
            "bin_start": 0.06422988174459379,
            "bin_end": 0.07893470501218282,
            "count": 0
           },
           {
            "bin_start": 0.07893470501218282,
            "bin_end": 0.09363952827977184,
            "count": 0
           },
           {
            "bin_start": 0.09363952827977184,
            "bin_end": 0.10834435154736088,
            "count": 1
           },
           {
            "bin_start": 0.10834435154736088,
            "bin_end": 0.12304917481494991,
            "count": 0
           },
           {
            "bin_start": 0.12304917481494991,
            "bin_end": 0.13775399808253894,
            "count": 0
           },
           {
            "bin_start": 0.13775399808253894,
            "bin_end": 0.15245882135012798,
            "count": 0
           },
           {
            "bin_start": 0.15245882135012798,
            "bin_end": 0.167163644617717,
            "count": 1
           }
          ]
         }
        },
        {
         "name": "0.75",
         "dtype": "float64",
         "stats": {
          "unique_count": 5,
          "nan_count": 0,
          "min": "0.0154615060549481",
          "max": "0.1694018543058086",
          "histogram": [
           {
            "bin_start": 0.0154615060549481,
            "bin_end": 0.03085554088003415,
            "count": 2
           },
           {
            "bin_start": 0.03085554088003415,
            "bin_end": 0.0462495757051202,
            "count": 1
           },
           {
            "bin_start": 0.0462495757051202,
            "bin_end": 0.061643610530206255,
            "count": 0
           },
           {
            "bin_start": 0.061643610530206255,
            "bin_end": 0.0770376453552923,
            "count": 0
           },
           {
            "bin_start": 0.0770376453552923,
            "bin_end": 0.09243168018037835,
            "count": 1
           },
           {
            "bin_start": 0.09243168018037835,
            "bin_end": 0.10782571500546441,
            "count": 0
           },
           {
            "bin_start": 0.10782571500546441,
            "bin_end": 0.12321974983055045,
            "count": 0
           },
           {
            "bin_start": 0.12321974983055045,
            "bin_end": 0.1386137846556365,
            "count": 0
           },
           {
            "bin_start": 0.1386137846556365,
            "bin_end": 0.15400781948072254,
            "count": 0
           },
           {
            "bin_start": 0.15400781948072254,
            "bin_end": 0.1694018543058086,
            "count": 1
           }
          ]
         }
        },
        {
         "name": "0.8",
         "dtype": "float64",
         "stats": {
          "unique_count": 5,
          "nan_count": 0,
          "min": "0.013310053806728",
          "max": "0.1950041539038788",
          "histogram": [
           {
            "bin_start": 0.013310053806728,
            "bin_end": 0.03147946381644308,
            "count": 2
           },
           {
            "bin_start": 0.03147946381644308,
            "bin_end": 0.04964887382615816,
            "count": 1
           },
           {
            "bin_start": 0.04964887382615816,
            "bin_end": 0.06781828383587324,
            "count": 1
           },
           {
            "bin_start": 0.06781828383587324,
            "bin_end": 0.08598769384558833,
            "count": 0
           },
           {
            "bin_start": 0.08598769384558833,
            "bin_end": 0.10415710385530341,
            "count": 0
           },
           {
            "bin_start": 0.10415710385530341,
            "bin_end": 0.12232651386501847,
            "count": 0
           },
           {
            "bin_start": 0.12232651386501847,
            "bin_end": 0.14049592387473356,
            "count": 0
           },
           {
            "bin_start": 0.14049592387473356,
            "bin_end": 0.15866533388444864,
            "count": 0
           },
           {
            "bin_start": 0.15866533388444864,
            "bin_end": 0.17683474389416373,
            "count": 0
           },
           {
            "bin_start": 0.17683474389416373,
            "bin_end": 0.1950041539038788,
            "count": 1
           }
          ]
         }
        },
        {
         "name": "0.85",
         "dtype": "float64",
         "stats": {
          "unique_count": 5,
          "nan_count": 0,
          "min": "0.0105862586429288",
          "max": "0.1954903234709311",
          "histogram": [
           {
            "bin_start": 0.0105862586429288,
            "bin_end": 0.029076665125729026,
            "count": 2
           },
           {
            "bin_start": 0.029076665125729026,
            "bin_end": 0.04756707160852926,
            "count": 1
           },
           {
            "bin_start": 0.04756707160852926,
            "bin_end": 0.06605747809132947,
            "count": 0
           },
           {
            "bin_start": 0.06605747809132947,
            "bin_end": 0.0845478845741297,
            "count": 1
           },
           {
            "bin_start": 0.0845478845741297,
            "bin_end": 0.10303829105692994,
            "count": 0
           },
           {
            "bin_start": 0.10303829105692994,
            "bin_end": 0.12152869753973015,
            "count": 0
           },
           {
            "bin_start": 0.12152869753973015,
            "bin_end": 0.1400191040225304,
            "count": 0
           },
           {
            "bin_start": 0.1400191040225304,
            "bin_end": 0.15850951050533063,
            "count": 0
           },
           {
            "bin_start": 0.15850951050533063,
            "bin_end": 0.17699991698813086,
            "count": 0
           },
           {
            "bin_start": 0.17699991698813086,
            "bin_end": 0.1954903234709311,
            "count": 1
           }
          ]
         }
        },
        {
         "name": "0.9",
         "dtype": "float64",
         "stats": {
          "unique_count": 5,
          "nan_count": 0,
          "min": "0.0097294762278562",
          "max": "0.1695907533858265",
          "histogram": [
           {
            "bin_start": 0.0097294762278562,
            "bin_end": 0.02571560394365323,
            "count": 2
           },
           {
            "bin_start": 0.02571560394365323,
            "bin_end": 0.04170173165945026,
            "count": 0
           },
           {
            "bin_start": 0.04170173165945026,
            "bin_end": 0.057687859375247286,
            "count": 2
           },
           {
            "bin_start": 0.057687859375247286,
            "bin_end": 0.07367398709104431,
            "count": 0
           },
           {
            "bin_start": 0.07367398709104431,
            "bin_end": 0.08966011480684133,
            "count": 0
           },
           {
            "bin_start": 0.08966011480684133,
            "bin_end": 0.10564624252263838,
            "count": 0
           },
           {
            "bin_start": 0.10564624252263838,
            "bin_end": 0.1216323702384354,
            "count": 0
           },
           {
            "bin_start": 0.1216323702384354,
            "bin_end": 0.13761849795423242,
            "count": 0
           },
           {
            "bin_start": 0.13761849795423242,
            "bin_end": 0.15360462567002944,
            "count": 0
           },
           {
            "bin_start": 0.15360462567002944,
            "bin_end": 0.1695907533858265,
            "count": 1
           }
          ]
         }
        },
        {
         "name": "0.95",
         "dtype": "float64",
         "stats": {
          "unique_count": 5,
          "nan_count": 0,
          "min": "0.0092066150851285",
          "max": "0.1782017978994109",
          "histogram": [
           {
            "bin_start": 0.0092066150851285,
            "bin_end": 0.02610613336655674,
            "count": 2
           },
           {
            "bin_start": 0.02610613336655674,
            "bin_end": 0.04300565164798498,
            "count": 1
           },
           {
            "bin_start": 0.04300565164798498,
            "bin_end": 0.05990516992941322,
            "count": 1
           },
           {
            "bin_start": 0.05990516992941322,
            "bin_end": 0.07680468821084147,
            "count": 0
           },
           {
            "bin_start": 0.07680468821084147,
            "bin_end": 0.09370420649226971,
            "count": 0
           },
           {
            "bin_start": 0.09370420649226971,
            "bin_end": 0.11060372477369794,
            "count": 0
           },
           {
            "bin_start": 0.11060372477369794,
            "bin_end": 0.12750324305512617,
            "count": 0
           },
           {
            "bin_start": 0.12750324305512617,
            "bin_end": 0.1444027613365544,
            "count": 0
           },
           {
            "bin_start": 0.1444027613365544,
            "bin_end": 0.16130227961798266,
            "count": 0
           },
           {
            "bin_start": 0.16130227961798266,
            "bin_end": 0.1782017978994109,
            "count": 1
           }
          ]
         }
        },
        {
         "name": "1.0",
         "dtype": "float64",
         "stats": {
          "unique_count": 5,
          "nan_count": 0,
          "min": "0.0104780656449238",
          "max": "0.2041249779335343",
          "histogram": [
           {
            "bin_start": 0.0104780656449238,
            "bin_end": 0.02984275687378485,
            "count": 2
           },
           {
            "bin_start": 0.02984275687378485,
            "bin_end": 0.049207448102645907,
            "count": 1
           },
           {
            "bin_start": 0.049207448102645907,
            "bin_end": 0.06857213933150695,
            "count": 1
           },
           {
            "bin_start": 0.06857213933150695,
            "bin_end": 0.08793683056036801,
            "count": 0
           },
           {
            "bin_start": 0.08793683056036801,
            "bin_end": 0.10730152178922907,
            "count": 0
           },
           {
            "bin_start": 0.10730152178922907,
            "bin_end": 0.1266662130180901,
            "count": 0
           },
           {
            "bin_start": 0.1266662130180901,
            "bin_end": 0.14603090424695114,
            "count": 0
           },
           {
            "bin_start": 0.14603090424695114,
            "bin_end": 0.1653955954758122,
            "count": 0
           },
           {
            "bin_start": 0.1653955954758122,
            "bin_end": 0.18476028670467326,
            "count": 0
           },
           {
            "bin_start": 0.18476028670467326,
            "bin_end": 0.2041249779335343,
            "count": 1
           }
          ]
         }
        },
        {
         "name": "1.1",
         "dtype": "float64",
         "stats": {
          "unique_count": 5,
          "nan_count": 0,
          "min": "0.0083235584336483",
          "max": "0.2549451253333212",
          "histogram": [
           {
            "bin_start": 0.0083235584336483,
            "bin_end": 0.03298571512361559,
            "count": 2
           },
           {
            "bin_start": 0.03298571512361559,
            "bin_end": 0.05764787181358288,
            "count": 2
           },
           {
            "bin_start": 0.05764787181358288,
            "bin_end": 0.08231002850355015,
            "count": 0
           },
           {
            "bin_start": 0.08231002850355015,
            "bin_end": 0.10697218519351745,
            "count": 0
           },
           {
            "bin_start": 0.10697218519351745,
            "bin_end": 0.13163434188348475,
            "count": 0
           },
           {
            "bin_start": 0.13163434188348475,
            "bin_end": 0.15629649857345201,
            "count": 0
           },
           {
            "bin_start": 0.15629649857345201,
            "bin_end": 0.1809586552634193,
            "count": 0
           },
           {
            "bin_start": 0.1809586552634193,
            "bin_end": 0.2056208119533866,
            "count": 0
           },
           {
            "bin_start": 0.2056208119533866,
            "bin_end": 0.2302829686433539,
            "count": 0
           },
           {
            "bin_start": 0.2302829686433539,
            "bin_end": 0.2549451253333212,
            "count": 1
           }
          ]
         }
        },
        {
         "name": "1.2",
         "dtype": "float64",
         "stats": {
          "unique_count": 5,
          "nan_count": 0,
          "min": "0.0083410757170176",
          "max": "0.1965067796925538",
          "histogram": [
           {
            "bin_start": 0.0083410757170176,
            "bin_end": 0.02715764611457122,
            "count": 2
           },
           {
            "bin_start": 0.02715764611457122,
            "bin_end": 0.04597421651212485,
            "count": 1
           },
           {
            "bin_start": 0.04597421651212485,
            "bin_end": 0.06479078690967847,
            "count": 1
           },
           {
            "bin_start": 0.06479078690967847,
            "bin_end": 0.0836073573072321,
            "count": 0
           },
           {
            "bin_start": 0.0836073573072321,
            "bin_end": 0.10242392770478571,
            "count": 0
           },
           {
            "bin_start": 0.10242392770478571,
            "bin_end": 0.12124049810233935,
            "count": 0
           },
           {
            "bin_start": 0.12124049810233935,
            "bin_end": 0.14005706849989294,
            "count": 0
           },
           {
            "bin_start": 0.14005706849989294,
            "bin_end": 0.15887363889744657,
            "count": 0
           },
           {
            "bin_start": 0.15887363889744657,
            "bin_end": 0.1776902092950002,
            "count": 0
           },
           {
            "bin_start": 0.1776902092950002,
            "bin_end": 0.1965067796925538,
            "count": 1
           }
          ]
         }
        },
        {
         "name": "1.3",
         "dtype": "float64",
         "stats": {
          "unique_count": 5,
          "nan_count": 0,
          "min": "0.0089955903980091",
          "max": "0.1710519564927258",
          "histogram": [
           {
            "bin_start": 0.0089955903980091,
            "bin_end": 0.025201227007480773,
            "count": 2
           },
           {
            "bin_start": 0.025201227007480773,
            "bin_end": 0.04140686361695244,
            "count": 1
           },
           {
            "bin_start": 0.04140686361695244,
            "bin_end": 0.05761250022642411,
            "count": 1
           },
           {
            "bin_start": 0.05761250022642411,
            "bin_end": 0.07381813683589578,
            "count": 0
           },
           {
            "bin_start": 0.07381813683589578,
            "bin_end": 0.09002377344536744,
            "count": 0
           },
           {
            "bin_start": 0.09002377344536744,
            "bin_end": 0.10622941005483912,
            "count": 0
           },
           {
            "bin_start": 0.10622941005483912,
            "bin_end": 0.12243504666431079,
            "count": 0
           },
           {
            "bin_start": 0.12243504666431079,
            "bin_end": 0.13864068327378246,
            "count": 0
           },
           {
            "bin_start": 0.13864068327378246,
            "bin_end": 0.15484631988325412,
            "count": 0
           },
           {
            "bin_start": 0.15484631988325412,
            "bin_end": 0.1710519564927258,
            "count": 1
           }
          ]
         }
        },
        {
         "name": "1.4",
         "dtype": "float64",
         "stats": {
          "unique_count": 5,
          "nan_count": 0,
          "min": "0.00930654905487",
          "max": "0.156909483619481",
          "histogram": [
           {
            "bin_start": 0.00930654905487,
            "bin_end": 0.0240668425113311,
            "count": 2
           },
           {
            "bin_start": 0.0240668425113311,
            "bin_end": 0.038827135967792206,
            "count": 1
           },
           {
            "bin_start": 0.038827135967792206,
            "bin_end": 0.05358742942425331,
            "count": 1
           },
           {
            "bin_start": 0.05358742942425331,
            "bin_end": 0.0683477228807144,
            "count": 0
           },
           {
            "bin_start": 0.0683477228807144,
            "bin_end": 0.0831080163371755,
            "count": 0
           },
           {
            "bin_start": 0.0831080163371755,
            "bin_end": 0.09786830979363662,
            "count": 0
           },
           {
            "bin_start": 0.09786830979363662,
            "bin_end": 0.11262860325009771,
            "count": 0
           },
           {
            "bin_start": 0.11262860325009771,
            "bin_end": 0.1273888967065588,
            "count": 0
           },
           {
            "bin_start": 0.1273888967065588,
            "bin_end": 0.1421491901630199,
            "count": 0
           },
           {
            "bin_start": 0.1421491901630199,
            "bin_end": 0.156909483619481,
            "count": 1
           }
          ]
         }
        },
        {
         "name": "1.5",
         "dtype": "float64",
         "stats": {
          "unique_count": 5,
          "nan_count": 0,
          "min": "0.0081424423168048",
          "max": "0.1023488426561226",
          "histogram": [
           {
            "bin_start": 0.0081424423168048,
            "bin_end": 0.01756308235073658,
            "count": 2
           },
           {
            "bin_start": 0.01756308235073658,
            "bin_end": 0.026983722384668354,
            "count": 1
           },
           {
            "bin_start": 0.026983722384668354,
            "bin_end": 0.036404362418600136,
            "count": 0
           },
           {
            "bin_start": 0.036404362418600136,
            "bin_end": 0.04582500245253191,
            "count": 0
           },
           {
            "bin_start": 0.04582500245253191,
            "bin_end": 0.05524564248646369,
            "count": 1
           },
           {
            "bin_start": 0.05524564248646369,
            "bin_end": 0.06466628252039547,
            "count": 0
           },
           {
            "bin_start": 0.06466628252039547,
            "bin_end": 0.07408692255432725,
            "count": 0
           },
           {
            "bin_start": 0.07408692255432725,
            "bin_end": 0.08350756258825903,
            "count": 0
           },
           {
            "bin_start": 0.08350756258825903,
            "bin_end": 0.09292820262219081,
            "count": 0
           },
           {
            "bin_start": 0.09292820262219081,
            "bin_end": 0.1023488426561226,
            "count": 1
           }
          ]
         }
        },
        {
         "name": "1.6",
         "dtype": "float64",
         "stats": {
          "unique_count": 5,
          "nan_count": 0,
          "min": "0.0082271748897881",
          "max": "0.0839728647708245",
          "histogram": [
           {
            "bin_start": 0.0082271748897881,
            "bin_end": 0.01580174387789174,
            "count": 2
           },
           {
            "bin_start": 0.01580174387789174,
            "bin_end": 0.02337631286599538,
            "count": 1
           },
           {
            "bin_start": 0.02337631286599538,
            "bin_end": 0.03095088185409902,
            "count": 0
           },
           {
            "bin_start": 0.03095088185409902,
            "bin_end": 0.03852545084220266,
            "count": 0
           },
           {
            "bin_start": 0.03852545084220266,
            "bin_end": 0.0461000198303063,
            "count": 0
           },
           {
            "bin_start": 0.0461000198303063,
            "bin_end": 0.05367458881840994,
            "count": 1
           },
           {
            "bin_start": 0.05367458881840994,
            "bin_end": 0.061249157806513584,
            "count": 0
           },
           {
            "bin_start": 0.061249157806513584,
            "bin_end": 0.06882372679461722,
            "count": 0
           },
           {
            "bin_start": 0.06882372679461722,
            "bin_end": 0.07639829578272085,
            "count": 0
           },
           {
            "bin_start": 0.07639829578272085,
            "bin_end": 0.0839728647708245,
            "count": 1
           }
          ]
         }
        },
        {
         "name": "1.7",
         "dtype": "float64",
         "stats": {
          "unique_count": 5,
          "nan_count": 0,
          "min": "0.0074202093420768",
          "max": "0.0877419190683105",
          "histogram": [
           {
            "bin_start": 0.0074202093420768,
            "bin_end": 0.01545238031470017,
            "count": 2
           },
           {
            "bin_start": 0.01545238031470017,
            "bin_end": 0.02348455128732354,
            "count": 1
           },
           {
            "bin_start": 0.02348455128732354,
            "bin_end": 0.031516722259946915,
            "count": 0
           },
           {
            "bin_start": 0.031516722259946915,
            "bin_end": 0.039548893232570284,
            "count": 1
           },
           {
            "bin_start": 0.039548893232570284,
            "bin_end": 0.04758106420519365,
            "count": 0
           },
           {
            "bin_start": 0.04758106420519365,
            "bin_end": 0.05561323517781703,
            "count": 0
           },
           {
            "bin_start": 0.05561323517781703,
            "bin_end": 0.0636454061504404,
            "count": 0
           },
           {
            "bin_start": 0.0636454061504404,
            "bin_end": 0.07167757712306376,
            "count": 0
           },
           {
            "bin_start": 0.07167757712306376,
            "bin_end": 0.07970974809568714,
            "count": 0
           },
           {
            "bin_start": 0.07970974809568714,
            "bin_end": 0.0877419190683105,
            "count": 1
           }
          ]
         }
        },
        {
         "name": "1.8",
         "dtype": "float64",
         "stats": {
          "unique_count": 5,
          "nan_count": 0,
          "min": "0.0062971382073653",
          "max": "0.0854536027884366",
          "histogram": [
           {
            "bin_start": 0.0062971382073653,
            "bin_end": 0.01421278466547243,
            "count": 2
           },
           {
            "bin_start": 0.01421278466547243,
            "bin_end": 0.02212843112357956,
            "count": 1
           },
           {
            "bin_start": 0.02212843112357956,
            "bin_end": 0.03004407758168669,
            "count": 1
           },
           {
            "bin_start": 0.03004407758168669,
            "bin_end": 0.03795972403979382,
            "count": 0
           },
           {
            "bin_start": 0.03795972403979382,
            "bin_end": 0.045875370497900955,
            "count": 0
           },
           {
            "bin_start": 0.045875370497900955,
            "bin_end": 0.05379101695600808,
            "count": 0
           },
           {
            "bin_start": 0.05379101695600808,
            "bin_end": 0.06170666341411521,
            "count": 0
           },
           {
            "bin_start": 0.06170666341411521,
            "bin_end": 0.06962230987222234,
            "count": 0
           },
           {
            "bin_start": 0.06962230987222234,
            "bin_end": 0.07753795633032948,
            "count": 0
           },
           {
            "bin_start": 0.07753795633032948,
            "bin_end": 0.0854536027884366,
            "count": 1
           }
          ]
         }
        },
        {
         "name": "1.9",
         "dtype": "float64",
         "stats": {
          "unique_count": 5,
          "nan_count": 0,
          "min": "0.0050782637351141",
          "max": "0.08662558184405",
          "histogram": [
           {
            "bin_start": 0.0050782637351141,
            "bin_end": 0.013232995546007691,
            "count": 2
           },
           {
            "bin_start": 0.013232995546007691,
            "bin_end": 0.02138772735690128,
            "count": 2
           },
           {
            "bin_start": 0.02138772735690128,
            "bin_end": 0.029542459167794872,
            "count": 0
           },
           {
            "bin_start": 0.029542459167794872,
            "bin_end": 0.03769719097868846,
            "count": 0
           },
           {
            "bin_start": 0.03769719097868846,
            "bin_end": 0.04585192278958205,
            "count": 0
           },
           {
            "bin_start": 0.04585192278958205,
            "bin_end": 0.05400665460047564,
            "count": 0
           },
           {
            "bin_start": 0.05400665460047564,
            "bin_end": 0.062161386411369236,
            "count": 0
           },
           {
            "bin_start": 0.062161386411369236,
            "bin_end": 0.07031611822226282,
            "count": 0
           },
           {
            "bin_start": 0.07031611822226282,
            "bin_end": 0.0784708500331564,
            "count": 0
           },
           {
            "bin_start": 0.0784708500331564,
            "bin_end": 0.08662558184405,
            "count": 1
           }
          ]
         }
        },
        {
         "name": "2.0",
         "dtype": "float64",
         "stats": {
          "unique_count": 5,
          "nan_count": 0,
          "min": "0.0047043622053295",
          "max": "0.0739054114851457",
          "histogram": [
           {
            "bin_start": 0.0047043622053295,
            "bin_end": 0.011624467133311122,
            "count": 2
           },
           {
            "bin_start": 0.011624467133311122,
            "bin_end": 0.018544572061292744,
            "count": 2
           },
           {
            "bin_start": 0.018544572061292744,
            "bin_end": 0.025464676989274362,
            "count": 0
           },
           {
            "bin_start": 0.025464676989274362,
            "bin_end": 0.03238478191725598,
            "count": 0
           },
           {
            "bin_start": 0.03238478191725598,
            "bin_end": 0.039304886845237606,
            "count": 0
           },
           {
            "bin_start": 0.039304886845237606,
            "bin_end": 0.046224991773219225,
            "count": 0
           },
           {
            "bin_start": 0.046224991773219225,
            "bin_end": 0.05314509670120085,
            "count": 0
           },
           {
            "bin_start": 0.05314509670120085,
            "bin_end": 0.06006520162918247,
            "count": 0
           },
           {
            "bin_start": 0.06006520162918247,
            "bin_end": 0.06698530655716409,
            "count": 0
           },
           {
            "bin_start": 0.06698530655716409,
            "bin_end": 0.0739054114851457,
            "count": 1
           }
          ]
         }
        },
        {
         "name": "2.2",
         "dtype": "float64",
         "stats": {
          "unique_count": 5,
          "nan_count": 0,
          "min": "0.0042504026908246",
          "max": "0.0600391305911141",
          "histogram": [
           {
            "bin_start": 0.0042504026908246,
            "bin_end": 0.00982927548085355,
            "count": 2
           },
           {
            "bin_start": 0.00982927548085355,
            "bin_end": 0.0154081482708825,
            "count": 2
           },
           {
            "bin_start": 0.0154081482708825,
            "bin_end": 0.020987021060911448,
            "count": 0
           },
           {
            "bin_start": 0.020987021060911448,
            "bin_end": 0.026565893850940398,
            "count": 0
           },
           {
            "bin_start": 0.026565893850940398,
            "bin_end": 0.03214476664096935,
            "count": 0
           },
           {
            "bin_start": 0.03214476664096935,
            "bin_end": 0.037723639430998296,
            "count": 0
           },
           {
            "bin_start": 0.037723639430998296,
            "bin_end": 0.043302512221027246,
            "count": 0
           },
           {
            "bin_start": 0.043302512221027246,
            "bin_end": 0.0488813850110562,
            "count": 0
           },
           {
            "bin_start": 0.0488813850110562,
            "bin_end": 0.05446025780108515,
            "count": 0
           },
           {
            "bin_start": 0.05446025780108515,
            "bin_end": 0.0600391305911141,
            "count": 1
           }
          ]
         }
        },
        {
         "name": "2.4",
         "dtype": "float64",
         "stats": {
          "unique_count": 5,
          "nan_count": 0,
          "min": "0.0041741492657614",
          "max": "0.0524053252418629",
          "histogram": [
           {
            "bin_start": 0.0041741492657614,
            "bin_end": 0.00899726686337155,
            "count": 3
           },
           {
            "bin_start": 0.00899726686337155,
            "bin_end": 0.013820384460981699,
            "count": 1
           },
           {
            "bin_start": 0.013820384460981699,
            "bin_end": 0.01864350205859185,
            "count": 0
           },
           {
            "bin_start": 0.01864350205859185,
            "bin_end": 0.023466619656202,
            "count": 0
           },
           {
            "bin_start": 0.023466619656202,
            "bin_end": 0.02828973725381215,
            "count": 0
           },
           {
            "bin_start": 0.02828973725381215,
            "bin_end": 0.0331128548514223,
            "count": 0
           },
           {
            "bin_start": 0.0331128548514223,
            "bin_end": 0.03793597244903245,
            "count": 0
           },
           {
            "bin_start": 0.03793597244903245,
            "bin_end": 0.0427590900466426,
            "count": 0
           },
           {
            "bin_start": 0.0427590900466426,
            "bin_end": 0.04758220764425275,
            "count": 0
           },
           {
            "bin_start": 0.04758220764425275,
            "bin_end": 0.0524053252418629,
            "count": 1
           }
          ]
         }
        },
        {
         "name": "2.8",
         "dtype": "float64",
         "stats": {
          "unique_count": 5,
          "nan_count": 0,
          "min": "0.0022320613258273",
          "max": "0.0521349866105211",
          "histogram": [
           {
            "bin_start": 0.0022320613258273,
            "bin_end": 0.007222353854296679,
            "count": 2
           },
           {
            "bin_start": 0.007222353854296679,
            "bin_end": 0.012212646382766059,
            "count": 2
           },
           {
            "bin_start": 0.012212646382766059,
            "bin_end": 0.01720293891123544,
            "count": 0
           },
           {
            "bin_start": 0.01720293891123544,
            "bin_end": 0.02219323143970482,
            "count": 0
           },
           {
            "bin_start": 0.02219323143970482,
            "bin_end": 0.027183523968174198,
            "count": 0
           },
           {
            "bin_start": 0.027183523968174198,
            "bin_end": 0.03217381649664358,
            "count": 0
           },
           {
            "bin_start": 0.03217381649664358,
            "bin_end": 0.03716410902511296,
            "count": 0
           },
           {
            "bin_start": 0.03716410902511296,
            "bin_end": 0.04215440155358234,
            "count": 0
           },
           {
            "bin_start": 0.04215440155358234,
            "bin_end": 0.04714469408205172,
            "count": 0
           },
           {
            "bin_start": 0.04714469408205172,
            "bin_end": 0.0521349866105211,
            "count": 1
           }
          ]
         }
        },
        {
         "name": "3.0",
         "dtype": "float64",
         "stats": {
          "unique_count": 5,
          "nan_count": 0,
          "min": "0.0016325740477939",
          "max": "0.0426146887026964",
          "histogram": [
           {
            "bin_start": 0.0016325740477939,
            "bin_end": 0.00573078551328415,
            "count": 2
           },
           {
            "bin_start": 0.00573078551328415,
            "bin_end": 0.0098289969787744,
            "count": 1
           },
           {
            "bin_start": 0.0098289969787744,
            "bin_end": 0.01392720844426465,
            "count": 1
           },
           {
            "bin_start": 0.01392720844426465,
            "bin_end": 0.018025419909754897,
            "count": 0
           },
           {
            "bin_start": 0.018025419909754897,
            "bin_end": 0.022123631375245145,
            "count": 0
           },
           {
            "bin_start": 0.022123631375245145,
            "bin_end": 0.026221842840735397,
            "count": 0
           },
           {
            "bin_start": 0.026221842840735397,
            "bin_end": 0.030320054306225648,
            "count": 0
           },
           {
            "bin_start": 0.030320054306225648,
            "bin_end": 0.034418265771715896,
            "count": 0
           },
           {
            "bin_start": 0.034418265771715896,
            "bin_end": 0.038516477237206144,
            "count": 0
           },
           {
            "bin_start": 0.038516477237206144,
            "bin_end": 0.0426146887026964,
            "count": 1
           }
          ]
         }
        },
        {
         "name": "3.2",
         "dtype": "float64",
         "stats": {
          "unique_count": 5,
          "nan_count": 0,
          "min": "0.0012756714797412",
          "max": "0.0444435127120495",
          "histogram": [
           {
            "bin_start": 0.0012756714797412,
            "bin_end": 0.0055924556029720305,
            "count": 2
           },
           {
            "bin_start": 0.0055924556029720305,
            "bin_end": 0.009909239726202862,
            "count": 2
           },
           {
            "bin_start": 0.009909239726202862,
            "bin_end": 0.014226023849433693,
            "count": 0
           },
           {
            "bin_start": 0.014226023849433693,
            "bin_end": 0.018542807972664523,
            "count": 0
           },
           {
            "bin_start": 0.018542807972664523,
            "bin_end": 0.022859592095895356,
            "count": 0
           },
           {
            "bin_start": 0.022859592095895356,
            "bin_end": 0.027176376219126185,
            "count": 0
           },
           {
            "bin_start": 0.027176376219126185,
            "bin_end": 0.03149316034235701,
            "count": 0
           },
           {
            "bin_start": 0.03149316034235701,
            "bin_end": 0.03580994446558784,
            "count": 0
           },
           {
            "bin_start": 0.03580994446558784,
            "bin_end": 0.040126728588818675,
            "count": 0
           },
           {
            "bin_start": 0.040126728588818675,
            "bin_end": 0.0444435127120495,
            "count": 1
           }
          ]
         }
        },
        {
         "name": "3.4",
         "dtype": "float64",
         "stats": {
          "unique_count": 5,
          "nan_count": 0,
          "min": "0.0011271252642582",
          "max": "0.0511211112384468",
          "histogram": [
           {
            "bin_start": 0.0011271252642582,
            "bin_end": 0.0061265238616770605,
            "count": 2
           },
           {
            "bin_start": 0.0061265238616770605,
            "bin_end": 0.011125922459095921,
            "count": 2
           },
           {
            "bin_start": 0.011125922459095921,
            "bin_end": 0.016125321056514784,
            "count": 0
           },
           {
            "bin_start": 0.016125321056514784,
            "bin_end": 0.021124719653933643,
            "count": 0
           },
           {
            "bin_start": 0.021124719653933643,
            "bin_end": 0.026124118251352503,
            "count": 0
           },
           {
            "bin_start": 0.026124118251352503,
            "bin_end": 0.031123516848771363,
            "count": 0
           },
           {
            "bin_start": 0.031123516848771363,
            "bin_end": 0.03612291544619022,
            "count": 0
           },
           {
            "bin_start": 0.03612291544619022,
            "bin_end": 0.04112231404360908,
            "count": 0
           },
           {
            "bin_start": 0.04112231404360908,
            "bin_end": 0.04612171264102794,
            "count": 0
           },
           {
            "bin_start": 0.04612171264102794,
            "bin_end": 0.0511211112384468,
            "count": 1
           }
          ]
         }
        },
        {
         "name": "3.8",
         "dtype": "float64",
         "stats": {
          "unique_count": 5,
          "nan_count": 0,
          "min": "0.0011379905386957",
          "max": "0.0578338082591286",
          "histogram": [
           {
            "bin_start": 0.0011379905386957,
            "bin_end": 0.0068075723107389905,
            "count": 2
           },
           {
            "bin_start": 0.0068075723107389905,
            "bin_end": 0.01247715408278228,
            "count": 2
           },
           {
            "bin_start": 0.01247715408278228,
            "bin_end": 0.018146735854825572,
            "count": 0
           },
           {
            "bin_start": 0.018146735854825572,
            "bin_end": 0.023816317626868862,
            "count": 0
           },
           {
            "bin_start": 0.023816317626868862,
            "bin_end": 0.029485899398912153,
            "count": 0
           },
           {
            "bin_start": 0.029485899398912153,
            "bin_end": 0.03515548117095544,
            "count": 0
           },
           {
            "bin_start": 0.03515548117095544,
            "bin_end": 0.04082506294299873,
            "count": 0
           },
           {
            "bin_start": 0.04082506294299873,
            "bin_end": 0.04649464471504202,
            "count": 0
           },
           {
            "bin_start": 0.04649464471504202,
            "bin_end": 0.05216422648708531,
            "count": 0
           },
           {
            "bin_start": 0.05216422648708531,
            "bin_end": 0.0578338082591286,
            "count": 1
           }
          ]
         }
        },
        {
         "name": "4.0",
         "dtype": "float64",
         "stats": {
          "unique_count": 5,
          "nan_count": 0,
          "min": "0.0010929795730711",
          "max": "0.0479935220444683",
          "histogram": [
           {
            "bin_start": 0.0010929795730711,
            "bin_end": 0.00578303382021082,
            "count": 2
           },
           {
            "bin_start": 0.00578303382021082,
            "bin_end": 0.01047308806735054,
            "count": 1
           },
           {
            "bin_start": 0.01047308806735054,
            "bin_end": 0.01516314231449026,
            "count": 1
           },
           {
            "bin_start": 0.01516314231449026,
            "bin_end": 0.01985319656162998,
            "count": 0
           },
           {
            "bin_start": 0.01985319656162998,
            "bin_end": 0.0245432508087697,
            "count": 0
           },
           {
            "bin_start": 0.0245432508087697,
            "bin_end": 0.029233305055909417,
            "count": 0
           },
           {
            "bin_start": 0.029233305055909417,
            "bin_end": 0.03392335930304914,
            "count": 0
           },
           {
            "bin_start": 0.03392335930304914,
            "bin_end": 0.03861341355018886,
            "count": 0
           },
           {
            "bin_start": 0.03861341355018886,
            "bin_end": 0.043303467797328576,
            "count": 0
           },
           {
            "bin_start": 0.043303467797328576,
            "bin_end": 0.0479935220444683,
            "count": 1
           }
          ]
         }
        },
        {
         "name": "4.2",
         "dtype": "float64",
         "stats": {
          "unique_count": 5,
          "nan_count": 0,
          "min": "0.0008993521481322",
          "max": "0.0428524938786049",
          "histogram": [
           {
            "bin_start": 0.0008993521481322,
            "bin_end": 0.0050946663211794705,
            "count": 2
           },
           {
            "bin_start": 0.0050946663211794705,
            "bin_end": 0.009289980494226741,
            "count": 1
           },
           {
            "bin_start": 0.009289980494226741,
            "bin_end": 0.013485294667274012,
            "count": 1
           },
           {
            "bin_start": 0.013485294667274012,
            "bin_end": 0.017680608840321282,
            "count": 0
           },
           {
            "bin_start": 0.017680608840321282,
            "bin_end": 0.02187592301336855,
            "count": 0
           },
           {
            "bin_start": 0.02187592301336855,
            "bin_end": 0.026071237186415824,
            "count": 0
           },
           {
            "bin_start": 0.026071237186415824,
            "bin_end": 0.030266551359463094,
            "count": 0
           },
           {
            "bin_start": 0.030266551359463094,
            "bin_end": 0.03446186553251036,
            "count": 0
           },
           {
            "bin_start": 0.03446186553251036,
            "bin_end": 0.03865717970555763,
            "count": 0
           },
           {
            "bin_start": 0.03865717970555763,
            "bin_end": 0.0428524938786049,
            "count": 1
           }
          ]
         }
        },
        {
         "name": "5.5",
         "dtype": "float64",
         "stats": {
          "unique_count": 5,
          "nan_count": 0,
          "min": "0.0004856927156904",
          "max": "0.0261067732922177",
          "histogram": [
           {
            "bin_start": 0.0004856927156904,
            "bin_end": 0.0030478007733431302,
            "count": 2
           },
           {
            "bin_start": 0.0030478007733431302,
            "bin_end": 0.005609908830995861,
            "count": 1
           },
           {
            "bin_start": 0.005609908830995861,
            "bin_end": 0.008172016888648591,
            "count": 1
           },
           {
            "bin_start": 0.008172016888648591,
            "bin_end": 0.010734124946301321,
            "count": 0
           },
           {
            "bin_start": 0.010734124946301321,
            "bin_end": 0.013296233003954052,
            "count": 0
           },
           {
            "bin_start": 0.013296233003954052,
            "bin_end": 0.01585834106160678,
            "count": 0
           },
           {
            "bin_start": 0.01585834106160678,
            "bin_end": 0.01842044911925951,
            "count": 0
           },
           {
            "bin_start": 0.01842044911925951,
            "bin_end": 0.02098255717691224,
            "count": 0
           },
           {
            "bin_start": 0.02098255717691224,
            "bin_end": 0.02354466523456497,
            "count": 0
           },
           {
            "bin_start": 0.02354466523456497,
            "bin_end": 0.0261067732922177,
            "count": 1
           }
          ]
         }
        },
        {
         "name": "6.0",
         "dtype": "float64",
         "stats": {
          "unique_count": 5,
          "nan_count": 0,
          "min": "0.0003886481238679",
          "max": "0.0318444532424868",
          "histogram": [
           {
            "bin_start": 0.0003886481238679,
            "bin_end": 0.0035342286357297904,
            "count": 2
           },
           {
            "bin_start": 0.0035342286357297904,
            "bin_end": 0.00667980914759168,
            "count": 1
           },
           {
            "bin_start": 0.00667980914759168,
            "bin_end": 0.009825389659453572,
            "count": 1
           },
           {
            "bin_start": 0.009825389659453572,
            "bin_end": 0.012970970171315462,
            "count": 0
           },
           {
            "bin_start": 0.012970970171315462,
            "bin_end": 0.016116550683177352,
            "count": 0
           },
           {
            "bin_start": 0.016116550683177352,
            "bin_end": 0.019262131195039243,
            "count": 0
           },
           {
            "bin_start": 0.019262131195039243,
            "bin_end": 0.02240771170690113,
            "count": 0
           },
           {
            "bin_start": 0.02240771170690113,
            "bin_end": 0.025553292218763023,
            "count": 0
           },
           {
            "bin_start": 0.025553292218763023,
            "bin_end": 0.028698872730624915,
            "count": 0
           },
           {
            "bin_start": 0.028698872730624915,
            "bin_end": 0.0318444532424868,
            "count": 1
           }
          ]
         }
        },
        {
         "name": "6.5",
         "dtype": "float64",
         "stats": {
          "unique_count": 5,
          "nan_count": 0,
          "min": "0.0003674086209486",
          "max": "0.0294566530741034",
          "histogram": [
           {
            "bin_start": 0.0003674086209486,
            "bin_end": 0.00327633306626408,
            "count": 2
           },
           {
            "bin_start": 0.00327633306626408,
            "bin_end": 0.00618525751157956,
            "count": 1
           },
           {
            "bin_start": 0.00618525751157956,
            "bin_end": 0.00909418195689504,
            "count": 1
           },
           {
            "bin_start": 0.00909418195689504,
            "bin_end": 0.01200310640221052,
            "count": 0
           },
           {
            "bin_start": 0.01200310640221052,
            "bin_end": 0.014912030847525999,
            "count": 0
           },
           {
            "bin_start": 0.014912030847525999,
            "bin_end": 0.017820955292841483,
            "count": 0
           },
           {
            "bin_start": 0.017820955292841483,
            "bin_end": 0.020729879738156962,
            "count": 0
           },
           {
            "bin_start": 0.020729879738156962,
            "bin_end": 0.02363880418347244,
            "count": 0
           },
           {
            "bin_start": 0.02363880418347244,
            "bin_end": 0.02654772862878792,
            "count": 0
           },
           {
            "bin_start": 0.02654772862878792,
            "bin_end": 0.0294566530741034,
            "count": 1
           }
          ]
         }
        },
        {
         "name": "7.0",
         "dtype": "float64",
         "stats": {
          "unique_count": 5,
          "nan_count": 0,
          "min": "0.0003155819810195",
          "max": "0.0242088341857304",
          "histogram": [
           {
            "bin_start": 0.0003155819810195,
            "bin_end": 0.0027049072014905897,
            "count": 2
           },
           {
            "bin_start": 0.0027049072014905897,
            "bin_end": 0.005094232421961679,
            "count": 1
           },
           {
            "bin_start": 0.005094232421961679,
            "bin_end": 0.0074835576424327685,
            "count": 0
           },
           {
            "bin_start": 0.0074835576424327685,
            "bin_end": 0.009872882862903859,
            "count": 1
           },
           {
            "bin_start": 0.009872882862903859,
            "bin_end": 0.01226220808337495,
            "count": 0
           },
           {
            "bin_start": 0.01226220808337495,
            "bin_end": 0.014651533303846038,
            "count": 0
           },
           {
            "bin_start": 0.014651533303846038,
            "bin_end": 0.017040858524317127,
            "count": 0
           },
           {
            "bin_start": 0.017040858524317127,
            "bin_end": 0.019430183744788217,
            "count": 0
           },
           {
            "bin_start": 0.019430183744788217,
            "bin_end": 0.021819508965259308,
            "count": 0
           },
           {
            "bin_start": 0.021819508965259308,
            "bin_end": 0.0242088341857304,
            "count": 1
           }
          ]
         }
        },
        {
         "name": "7.5",
         "dtype": "float64",
         "stats": {
          "unique_count": 5,
          "nan_count": 0,
          "min": "0.0002621690813361",
          "max": "0.0196639698193984",
          "histogram": [
           {
            "bin_start": 0.0002621690813361,
            "bin_end": 0.0022023491551423297,
            "count": 2
           },
           {
            "bin_start": 0.0022023491551423297,
            "bin_end": 0.00414252922894856,
            "count": 1
           },
           {
            "bin_start": 0.00414252922894856,
            "bin_end": 0.0060827093027547895,
            "count": 0
           },
           {
            "bin_start": 0.0060827093027547895,
            "bin_end": 0.00802288937656102,
            "count": 1
           },
           {
            "bin_start": 0.00802288937656102,
            "bin_end": 0.00996306945036725,
            "count": 0
           },
           {
            "bin_start": 0.00996306945036725,
            "bin_end": 0.01190324952417348,
            "count": 0
           },
           {
            "bin_start": 0.01190324952417348,
            "bin_end": 0.01384342959797971,
            "count": 0
           },
           {
            "bin_start": 0.01384342959797971,
            "bin_end": 0.01578360967178594,
            "count": 0
           },
           {
            "bin_start": 0.01578360967178594,
            "bin_end": 0.01772378974559217,
            "count": 0
           },
           {
            "bin_start": 0.01772378974559217,
            "bin_end": 0.0196639698193984,
            "count": 1
           }
          ]
         }
        },
        {
         "name": "sa_avg",
         "dtype": "float64",
         "stats": {
          "unique_count": 5,
          "nan_count": 0,
          "min": "0.0101691664551378",
          "max": "0.0984251870699982",
          "histogram": [
           {
            "bin_start": 0.0101691664551378,
            "bin_end": 0.01899476851662384,
            "count": 2
           },
           {
            "bin_start": 0.01899476851662384,
            "bin_end": 0.02782037057810988,
            "count": 0
           },
           {
            "bin_start": 0.02782037057810988,
            "bin_end": 0.03664597263959592,
            "count": 1
           },
           {
            "bin_start": 0.03664597263959592,
            "bin_end": 0.04547157470108196,
            "count": 1
           },
           {
            "bin_start": 0.04547157470108196,
            "bin_end": 0.054297176762568,
            "count": 0
           },
           {
            "bin_start": 0.054297176762568,
            "bin_end": 0.06312277882405404,
            "count": 0
           },
           {
            "bin_start": 0.06312277882405404,
            "bin_end": 0.07194838088554008,
            "count": 0
           },
           {
            "bin_start": 0.07194838088554008,
            "bin_end": 0.08077398294702612,
            "count": 0
           },
           {
            "bin_start": 0.08077398294702612,
            "bin_end": 0.08959958500851216,
            "count": 0
           },
           {
            "bin_start": 0.08959958500851216,
            "bin_end": 0.0984251870699982,
            "count": 1
           }
          ]
         }
        },
        {
         "name": "da5_75",
         "dtype": "float64",
         "stats": {
          "unique_count": 5,
          "nan_count": 0,
          "min": "7.32",
          "max": "28.005000000000003",
          "histogram": [
           {
            "bin_start": 7.32,
            "bin_end": 9.3885,
            "count": 1
           },
           {
            "bin_start": 9.3885,
            "bin_end": 11.457,
            "count": 0
           },
           {
            "bin_start": 11.457,
            "bin_end": 13.525500000000001,
            "count": 0
           },
           {
            "bin_start": 13.525500000000001,
            "bin_end": 15.594000000000001,
            "count": 2
           },
           {
            "bin_start": 15.594000000000001,
            "bin_end": 17.6625,
            "count": 1
           },
           {
            "bin_start": 17.6625,
            "bin_end": 19.731,
            "count": 0
           },
           {
            "bin_start": 19.731,
            "bin_end": 21.799500000000002,
            "count": 0
           },
           {
            "bin_start": 21.799500000000002,
            "bin_end": 23.868000000000002,
            "count": 0
           },
           {
            "bin_start": 23.868000000000002,
            "bin_end": 25.936500000000002,
            "count": 0
           },
           {
            "bin_start": 25.936500000000002,
            "bin_end": 28.005000000000003,
            "count": 1
           }
          ]
         }
        },
        {
         "name": "da5_95",
         "dtype": "float64",
         "stats": {
          "unique_count": 5,
          "nan_count": 0,
          "min": "17.37",
          "max": "41.635000000000005",
          "histogram": [
           {
            "bin_start": 17.37,
            "bin_end": 19.7965,
            "count": 2
           },
           {
            "bin_start": 19.7965,
            "bin_end": 22.223000000000003,
            "count": 1
           },
           {
            "bin_start": 22.223000000000003,
            "bin_end": 24.649500000000003,
            "count": 0
           },
           {
            "bin_start": 24.649500000000003,
            "bin_end": 27.076,
            "count": 0
           },
           {
            "bin_start": 27.076,
            "bin_end": 29.502500000000005,
            "count": 0
           },
           {
            "bin_start": 29.502500000000005,
            "bin_end": 31.929000000000002,
            "count": 0
           },
           {
            "bin_start": 31.929000000000002,
            "bin_end": 34.355500000000006,
            "count": 0
           },
           {
            "bin_start": 34.355500000000006,
            "bin_end": 36.782000000000004,
            "count": 1
           },
           {
            "bin_start": 36.782000000000004,
            "bin_end": 39.2085,
            "count": 0
           },
           {
            "bin_start": 39.2085,
            "bin_end": 41.635000000000005,
            "count": 1
           }
          ]
         }
        },
        {
         "name": "fiv3",
         "dtype": "float64",
         "stats": {
          "unique_count": 5,
          "nan_count": 0,
          "min": "2.59960466235771",
          "max": "42.21886767576784",
          "histogram": [
           {
            "bin_start": 2.59960466235771,
            "bin_end": 6.561530963698722,
            "count": 2
           },
           {
            "bin_start": 6.561530963698722,
            "bin_end": 10.523457265039735,
            "count": 1
           },
           {
            "bin_start": 10.523457265039735,
            "bin_end": 14.485383566380747,
            "count": 1
           },
           {
            "bin_start": 14.485383566380747,
            "bin_end": 18.44730986772176,
            "count": 0
           },
           {
            "bin_start": 18.44730986772176,
            "bin_end": 22.409236169062773,
            "count": 0
           },
           {
            "bin_start": 22.409236169062773,
            "bin_end": 26.371162470403785,
            "count": 0
           },
           {
            "bin_start": 26.371162470403785,
            "bin_end": 30.333088771744798,
            "count": 0
           },
           {
            "bin_start": 30.333088771744798,
            "bin_end": 34.295015073085814,
            "count": 0
           },
           {
            "bin_start": 34.295015073085814,
            "bin_end": 38.25694137442682,
            "count": 0
           },
           {
            "bin_start": 38.25694137442682,
            "bin_end": 42.21886767576784,
            "count": 1
           }
          ]
         }
        },
        {
         "name": "sa_ratio",
         "dtype": "float64",
         "stats": {
          "unique_count": 5,
          "nan_count": 0,
          "min": "0.8322373470920671",
          "max": "1.7378880506579757",
          "histogram": [
           {
            "bin_start": 0.8322373470920671,
            "bin_end": 0.922802417448658,
            "count": 1
           },
           {
            "bin_start": 0.922802417448658,
            "bin_end": 1.0133674878052488,
            "count": 2
           },
           {
            "bin_start": 1.0133674878052488,
            "bin_end": 1.1039325581618398,
            "count": 0
           },
           {
            "bin_start": 1.1039325581618398,
            "bin_end": 1.1944976285184306,
            "count": 0
           },
           {
            "bin_start": 1.1944976285184306,
            "bin_end": 1.2850626988750213,
            "count": 0
           },
           {
            "bin_start": 1.2850626988750213,
            "bin_end": 1.3756277692316123,
            "count": 1
           },
           {
            "bin_start": 1.3756277692316123,
            "bin_end": 1.4661928395882031,
            "count": 0
           },
           {
            "bin_start": 1.4661928395882031,
            "bin_end": 1.556757909944794,
            "count": 0
           },
           {
            "bin_start": 1.556757909944794,
            "bin_end": 1.647322980301385,
            "count": 0
           },
           {
            "bin_start": 1.647322980301385,
            "bin_end": 1.7378880506579757,
            "count": 1
           }
          ]
         }
        },
        {
         "name": "sat1_col",
         "dtype": "float64",
         "stats": {
          "unique_count": 5,
          "nan_count": 0,
          "min": "0.78",
          "max": "1.97",
          "histogram": [
           {
            "bin_start": 0.78,
            "bin_end": 0.899,
            "count": 1
           },
           {
            "bin_start": 0.899,
            "bin_end": 1.018,
            "count": 0
           },
           {
            "bin_start": 1.018,
            "bin_end": 1.137,
            "count": 0
           },
           {
            "bin_start": 1.137,
            "bin_end": 1.256,
            "count": 0
           },
           {
            "bin_start": 1.256,
            "bin_end": 1.375,
            "count": 0
           },
           {
            "bin_start": 1.375,
            "bin_end": 1.494,
            "count": 2
           },
           {
            "bin_start": 1.494,
            "bin_end": 1.613,
            "count": 0
           },
           {
            "bin_start": 1.613,
            "bin_end": 1.732,
            "count": 0
           },
           {
            "bin_start": 1.732,
            "bin_end": 1.851,
            "count": 0
           },
           {
            "bin_start": 1.851,
            "bin_end": 1.97,
            "count": 2
           }
          ]
         }
        },
        {
         "name": "_deepnote_index_column",
         "dtype": "int64"
        }
       ],
       "rows_top": [
        {
         "0.01": 0.0110748936972309,
         "0.02": 0.0111066385955081,
         "0.029": 0.0112739158812656,
         "0.035": 0.0113771058191323,
         "0.04": 0.0115668000802074,
         "0.055": 0.0114143145065411,
         "0.06": 0.0115299400581958,
         "0.065": 0.0119361467335832,
         "0.075": 0.0128133130463407,
         "0.08": 0.0138782569299738,
         "0.085": 0.0146614694932001,
         "0.09": 0.0154042593357484,
         "0.095": 0.0159003997129265,
         "0.1": 0.016896119615438,
         "0.11": 0.0193447727660188,
         "0.12": 0.0173416548805842,
         "0.13": 0.0174380587747489,
         "0.14": 0.0200399027056096,
         "0.15": 0.0207123679481881,
         "0.16": 0.0264098333707847,
         "0.17": 0.0246994884787201,
         "0.18": 0.0257024399721512,
         "0.19": 0.0292397500504301,
         "0.2": 0.0314222446662522,
         "0.22": 0.0295839843705958,
         "0.24": 0.0318532560038371,
         "0.25": 0.0337287636429722,
         "0.26": 0.0339352684315561,
         "0.28": 0.0337859546530171,
         "0.29": 0.0371489639157852,
         "0.32": 0.0387438311504232,
         "0.34": 0.0348538762227967,
         "0.38": 0.0376600595566501,
         "0.4": 0.0379038947570124,
         "0.42": 0.0351457720222904,
         "0.44": 0.0344685156933861,
         "0.48": 0.0413222757254667,
         "0.5": 0.041357893949437,
         "0.55": 0.0434410709574006,
         "0.6": 0.0408199168871767,
         "0.65": 0.0342845914947339,
         "0.7": 0.0249350237005833,
         "0.75": 0.0192988295851471,
         "0.8": 0.0157371239653718,
         "0.85": 0.0105862586429288,
         "0.9": 0.0097294762278562,
         "0.95": 0.0099639446323876,
         "1.0": 0.0111496776925079,
         "1.1": 0.0101522132750125,
         "1.2": 0.0083410757170176,
         "1.3": 0.0089955903980091,
         "1.4": 0.00930654905487,
         "1.5": 0.0081424423168048,
         "1.6": 0.0082271748897881,
         "1.7": 0.0077395824622439,
         "1.8": 0.0062971382073653,
         "1.9": 0.0050782637351141,
         "2.0": 0.0047043622053295,
         "2.2": 0.0042504026908246,
         "2.4": 0.0047884200952746,
         "2.8": 0.004151675582455,
         "3.0": 0.0032726181867857,
         "3.2": 0.0026240406495894,
         "3.4": 0.0022375177165521,
         "3.8": 0.0015490509774271,
         "4.0": 0.001283461777371,
         "4.2": 0.0010315828805334,
         "5.5": 0.0008127119968469,
         "6.0": 0.0007697981270331,
         "6.5": 0.0006482798573385,
         "7.0": 0.0004719296374629,
         "7.5": 0.0003274108663506,
         "sa_avg": 0.0108089241962534,
         "da5_75": 14.484000000000002,
         "da5_95": 21.416,
         "fiv3": 2.8817972307762902,
         "sa_ratio": 0.8322373470920671,
         "sat1_col": 0.78,
         "_deepnote_index_column": 0
        },
        {
         "0.01": 0.1553801298694446,
         "0.02": 0.1530504290117747,
         "0.029": 0.1610381382069531,
         "0.035": 0.1661644594739884,
         "0.04": 0.1747084995978276,
         "0.055": 0.2671673767872911,
         "0.06": 0.320193617959872,
         "0.065": 0.4033537416975923,
         "0.075": 0.7201024958938483,
         "0.08": 0.7771735836371358,
         "0.085": 0.5285879736643574,
         "0.09": 0.4869595648234077,
         "0.095": 0.4248690477835966,
         "0.1": 0.4592813958897901,
         "0.11": 0.3673170909765867,
         "0.12": 0.3082355792074275,
         "0.13": 0.2958014496983495,
         "0.14": 0.3727616605473265,
         "0.15": 0.4098066358758644,
         "0.16": 0.438455663014216,
         "0.17": 0.4355332679136487,
         "0.18": 0.4166957069172091,
         "0.19": 0.3503595487980238,
         "0.2": 0.2507278385231296,
         "0.22": 0.2090859564996622,
         "0.24": 0.1923491179802387,
         "0.25": 0.16936844871423,
         "0.26": 0.147096925512237,
         "0.28": 0.1193179701895206,
         "0.29": 0.1158057864490509,
         "0.32": 0.1108197393825456,
         "0.34": 0.1320730407247498,
         "0.38": 0.0957741803583803,
         "0.4": 0.0803919245109372,
         "0.42": 0.0706359129921519,
         "0.44": 0.0706755491291763,
         "0.48": 0.0726678101125864,
         "0.5": 0.0721360408972341,
         "0.55": 0.0519539565450126,
         "0.6": 0.0552327856196202,
         "0.65": 0.0476579234825349,
         "0.7": 0.0455232700452454,
         "0.75": 0.0444583589812307,
         "0.8": 0.0443426751924249,
         "0.85": 0.0440493425126346,
         "0.9": 0.041934282534623,
         "0.95": 0.0392327174799348,
         "1.0": 0.0415797732408563,
         "1.1": 0.0401609730082166,
         "1.2": 0.0351615960941388,
         "1.3": 0.0298526395365752,
         "1.4": 0.0251002585430248,
         "1.5": 0.0214819284684496,
         "1.6": 0.0185732476848734,
         "1.7": 0.0167628344535435,
         "1.8": 0.01564959080827,
         "1.9": 0.0141199756734683,
         "2.0": 0.0126935721835262,
         "2.2": 0.01023760507231,
         "2.4": 0.0080613437941444,
         "2.8": 0.0105185021461014,
         "3.0": 0.0107574925922985,
         "3.2": 0.0098017454889168,
         "3.4": 0.0095147532900499,
         "3.8": 0.0075595516953909,
         "4.0": 0.006558967754348,
         "4.2": 0.0060974574753658,
         "5.5": 0.0052713207586685,
         "6.0": 0.0049322599089885,
         "6.5": 0.0042199935079378,
         "7.0": 0.0035899554730861,
         "7.5": 0.0031063542350346,
         "sa_avg": 0.031043518220914,
         "da5_75": 14.43,
         "da5_95": 18.27,
         "fiv3": 7.64205938302815,
         "sa_ratio": 0.961638411089098,
         "sat1_col": 1.96,
         "_deepnote_index_column": 1
        },
        {
         "0.01": 0.0607742472246517,
         "0.02": 0.0607827239768009,
         "0.029": 0.0607994911216228,
         "0.035": 0.0607938036006594,
         "0.04": 0.0607980091370839,
         "0.055": 0.0608555639370787,
         "0.06": 0.0608755785354243,
         "0.065": 0.0608169042033579,
         "0.075": 0.0607453129068407,
         "0.08": 0.0612995533062232,
         "0.085": 0.0622408888016436,
         "0.09": 0.0629059635644357,
         "0.095": 0.063311690854441,
         "0.1": 0.0647301508749053,
         "0.11": 0.0672932410228404,
         "0.12": 0.0667688740735741,
         "0.13": 0.067806237417653,
         "0.14": 0.0655361641648025,
         "0.15": 0.0683234759854683,
         "0.16": 0.0723535677530472,
         "0.17": 0.0708081918311286,
         "0.18": 0.0718035008621534,
         "0.19": 0.0649598179534403,
         "0.2": 0.064895793304364,
         "0.22": 0.0789088124011538,
         "0.24": 0.0847814163943321,
         "0.25": 0.0978244035848697,
         "0.26": 0.106613651048093,
         "0.28": 0.0934004409217711,
         "0.29": 0.0991895730552073,
         "0.32": 0.0963943388373215,
         "0.34": 0.0982577127825357,
         "0.38": 0.1285081837633606,
         "0.4": 0.1410814499279081,
         "0.42": 0.1376563766003376,
         "0.44": 0.1143511631582949,
         "0.48": 0.1634918321749359,
         "0.5": 0.1635169644412949,
         "0.55": 0.1394601559383565,
         "0.6": 0.1429448754782555,
         "0.65": 0.1496835653061423,
         "0.7": 0.167163644617717,
         "0.75": 0.1694018543058086,
         "0.8": 0.1950041539038788,
         "0.85": 0.1954903234709311,
         "0.9": 0.1695907533858265,
         "0.95": 0.1782017978994109,
         "1.0": 0.2041249779335343,
         "1.1": 0.2549451253333212,
         "1.2": 0.1965067796925538,
         "1.3": 0.1710519564927258,
         "1.4": 0.156909483619481,
         "1.5": 0.1023488426561226,
         "1.6": 0.0839728647708245,
         "1.7": 0.0877419190683105,
         "1.8": 0.0854536027884366,
         "1.9": 0.08662558184405,
         "2.0": 0.0739054114851457,
         "2.2": 0.0600391305911141,
         "2.4": 0.0524053252418629,
         "2.8": 0.0521349866105211,
         "3.0": 0.0426146887026964,
         "3.2": 0.0444435127120495,
         "3.4": 0.0511211112384468,
         "3.8": 0.0578338082591286,
         "4.0": 0.0479935220444683,
         "4.2": 0.0428524938786049,
         "5.5": 0.0261067732922177,
         "6.0": 0.0318444532424868,
         "6.5": 0.0294566530741034,
         "7.0": 0.0242088341857304,
         "7.5": 0.0196639698193984,
         "sa_avg": 0.0984251870699982,
         "da5_75": 16.699999999999996,
         "da5_95": 35.105000000000004,
         "fiv3": 42.21886767576784,
         "sa_ratio": 1.7378880506579757,
         "sat1_col": 1.39,
         "_deepnote_index_column": 2
        },
        {
         "0.01": 0.0160161390373322,
         "0.02": 0.0160880764232804,
         "0.029": 0.0161978515061311,
         "0.035": 0.0164014128624529,
         "0.04": 0.0165954128721047,
         "0.055": 0.016825304051379,
         "0.06": 0.0172843394402421,
         "0.065": 0.0181748916389542,
         "0.075": 0.0186696264980651,
         "0.08": 0.0200364871252694,
         "0.085": 0.0213954886652802,
         "0.09": 0.0224579066526883,
         "0.095": 0.0232598396356798,
         "0.1": 0.0222303640851655,
         "0.11": 0.0218104075027041,
         "0.12": 0.0257380154926209,
         "0.13": 0.0280523618102531,
         "0.14": 0.027328074938625,
         "0.15": 0.0319180873835127,
         "0.16": 0.0375355677585784,
         "0.17": 0.0313246331363432,
         "0.18": 0.0337530191493142,
         "0.19": 0.041307758898774,
         "0.2": 0.0474901848549854,
         "0.22": 0.0403129198189567,
         "0.24": 0.045507664076229,
         "0.25": 0.0563364241936087,
         "0.26": 0.055429690043827,
         "0.28": 0.0545236287052447,
         "0.29": 0.0511168415617433,
         "0.32": 0.0480597405691277,
         "0.34": 0.0509838178360491,
         "0.38": 0.0474478523890209,
         "0.4": 0.0409096645715772,
         "0.42": 0.0371773896608162,
         "0.44": 0.0347659826191919,
         "0.48": 0.034484632672688,
         "0.5": 0.0289664785260319,
         "0.55": 0.0311985783589428,
         "0.6": 0.0280005351528867,
         "0.65": 0.0249676397584693,
         "0.7": 0.0201154119418267,
         "0.75": 0.0154615060549481,
         "0.8": 0.013310053806728,
         "0.85": 0.0108454285613588,
         "0.9": 0.0108017325237564,
         "0.95": 0.0092066150851285,
         "1.0": 0.0104780656449238,
         "1.1": 0.0083235584336483,
         "1.2": 0.0087543438042405,
         "1.3": 0.0101747659687363,
         "1.4": 0.0108595564468049,
         "1.5": 0.0103500321388506,
         "1.6": 0.0085929178806418,
         "1.7": 0.0074202093420768,
         "1.8": 0.0070285297190388,
         "1.9": 0.0062282442756622,
         "2.0": 0.005715528030409,
         "2.2": 0.0048772647027694,
         "2.4": 0.0041741492657614,
         "2.8": 0.0022320613258273,
         "3.0": 0.0016325740477939,
         "3.2": 0.0012756714797412,
         "3.4": 0.0011271252642582,
         "3.8": 0.0011379905386957,
         "4.0": 0.0010929795730711,
         "4.2": 0.0008993521481322,
         "5.5": 0.0004856927156904,
         "6.0": 0.0003886481238679,
         "6.5": 0.0003674086209486,
         "7.0": 0.0003155819810195,
         "7.5": 0.0002621690813361,
         "sa_avg": 0.0101691664551378,
         "da5_75": 7.32,
         "da5_95": 17.37,
         "fiv3": 2.59960466235771,
         "sa_ratio": 1.0005506364384114,
         "sat1_col": 1.97,
         "_deepnote_index_column": 3
        },
        {
         "0.01": 0.0306318973685385,
         "0.02": 0.0306989172626288,
         "0.029": 0.0307853792203991,
         "0.035": 0.0308183244852732,
         "0.04": 0.0310137287560835,
         "0.055": 0.0314105372890607,
         "0.06": 0.0316844878947155,
         "0.065": 0.0316479254614853,
         "0.075": 0.0317076759699844,
         "0.08": 0.031598747237255,
         "0.085": 0.0327686629907673,
         "0.09": 0.0342550454534904,
         "0.095": 0.0363341005259248,
         "0.1": 0.0384893262987015,
         "0.11": 0.0389220434110106,
         "0.12": 0.0443157983374604,
         "0.13": 0.0387503978533543,
         "0.14": 0.0428713182580095,
         "0.15": 0.0475422426638632,
         "0.16": 0.0557632277524899,
         "0.17": 0.0533151836644841,
         "0.18": 0.0600288624500801,
         "0.19": 0.0731852896075769,
         "0.2": 0.0706998307324405,
         "0.22": 0.0706260590736498,
         "0.24": 0.0841476962304976,
         "0.25": 0.0824497691785194,
         "0.26": 0.0840760620008618,
         "0.28": 0.0806094678314023,
         "0.29": 0.0686961418405733,
         "0.32": 0.06344611181531,
         "0.34": 0.0723725385155662,
         "0.38": 0.0860814131126165,
         "0.4": 0.0730613118769812,
         "0.42": 0.0583827676919694,
         "0.44": 0.058768230275525,
         "0.48": 0.0643492190082924,
         "0.5": 0.0736690554910936,
         "0.55": 0.0802353177082845,
         "0.6": 0.0969609068226436,
         "0.65": 0.0963834356112258,
         "0.7": 0.108056020560344,
         "0.75": 0.0828814519880619,
         "0.8": 0.0648479025409369,
         "0.85": 0.0694341648876034,
         "0.9": 0.0571190340048987,
         "0.95": 0.0554186255237233,
         "1.0": 0.0581292526391254,
         "1.1": 0.0504971384117262,
         "1.2": 0.0542332792044613,
         "1.3": 0.0512526799502457,
         "1.4": 0.0449980754516657,
         "1.5": 0.0492047483989837,
         "1.6": 0.0486393542631818,
         "1.7": 0.0372119550972248,
         "1.8": 0.0253899421511593,
         "1.9": 0.0181758199422017,
         "2.0": 0.0154591270221605,
         "2.2": 0.0151366821969465,
         "2.4": 0.0128191199091732,
         "2.8": 0.0105452289596922,
         "3.0": 0.0071606168580129,
         "3.2": 0.0088238778398201,
         "3.4": 0.009484771115752,
         "3.8": 0.0114358225885282,
         "4.0": 0.0122801320766076,
         "4.2": 0.0119912518621797,
         "5.5": 0.0070263415380379,
         "6.0": 0.0071075919918,
         "6.5": 0.0079511377137317,
         "7.0": 0.0079529159645006,
         "7.5": 0.0065373320767217,
         "sa_avg": 0.0373749826270409,
         "da5_75": 28.005000000000003,
         "da5_95": 41.635000000000005,
         "fiv3": 11.43450671148276,
         "sa_ratio": 1.371309799972032,
         "sat1_col": 1.43,
         "_deepnote_index_column": 4
        }
       ],
       "rows_bottom": null
      },
      "text/plain": "       0.01      0.02     0.029     0.035      0.04     0.055      0.06  \\\n0  0.011075  0.011107  0.011274  0.011377  0.011567  0.011414  0.011530   \n1  0.155380  0.153050  0.161038  0.166164  0.174708  0.267167  0.320194   \n2  0.060774  0.060783  0.060799  0.060794  0.060798  0.060856  0.060876   \n3  0.016016  0.016088  0.016198  0.016401  0.016595  0.016825  0.017284   \n4  0.030632  0.030699  0.030785  0.030818  0.031014  0.031411  0.031684   \n\n      0.065     0.075      0.08  ...       6.0       6.5       7.0       7.5  \\\n0  0.011936  0.012813  0.013878  ...  0.000770  0.000648  0.000472  0.000327   \n1  0.403354  0.720102  0.777174  ...  0.004932  0.004220  0.003590  0.003106   \n2  0.060817  0.060745  0.061300  ...  0.031844  0.029457  0.024209  0.019664   \n3  0.018175  0.018670  0.020036  ...  0.000389  0.000367  0.000316  0.000262   \n4  0.031648  0.031708  0.031599  ...  0.007108  0.007951  0.007953  0.006537   \n\n     sa_avg  da5_75  da5_95       fiv3  sa_ratio  sat1_col  \n0  0.010809  14.484  21.416   2.881797  0.832237      0.78  \n1  0.031044  14.430  18.270   7.642059  0.961638      1.96  \n2  0.098425  16.700  35.105  42.218868  1.737888      1.39  \n3  0.010169   7.320  17.370   2.599605  1.000551      1.97  \n4  0.037375  28.005  41.635  11.434507  1.371310      1.43  \n\n[5 rows x 78 columns]",
      "text/html": "<div>\n<style scoped>\n    .dataframe tbody tr th:only-of-type {\n        vertical-align: middle;\n    }\n\n    .dataframe tbody tr th {\n        vertical-align: top;\n    }\n\n    .dataframe thead th {\n        text-align: right;\n    }\n</style>\n<table border=\"1\" class=\"dataframe\">\n  <thead>\n    <tr style=\"text-align: right;\">\n      <th></th>\n      <th>0.01</th>\n      <th>0.02</th>\n      <th>0.029</th>\n      <th>0.035</th>\n      <th>0.04</th>\n      <th>0.055</th>\n      <th>0.06</th>\n      <th>0.065</th>\n      <th>0.075</th>\n      <th>0.08</th>\n      <th>...</th>\n      <th>6.0</th>\n      <th>6.5</th>\n      <th>7.0</th>\n      <th>7.5</th>\n      <th>sa_avg</th>\n      <th>da5_75</th>\n      <th>da5_95</th>\n      <th>fiv3</th>\n      <th>sa_ratio</th>\n      <th>sat1_col</th>\n    </tr>\n  </thead>\n  <tbody>\n    <tr>\n      <th>0</th>\n      <td>0.011075</td>\n      <td>0.011107</td>\n      <td>0.011274</td>\n      <td>0.011377</td>\n      <td>0.011567</td>\n      <td>0.011414</td>\n      <td>0.011530</td>\n      <td>0.011936</td>\n      <td>0.012813</td>\n      <td>0.013878</td>\n      <td>...</td>\n      <td>0.000770</td>\n      <td>0.000648</td>\n      <td>0.000472</td>\n      <td>0.000327</td>\n      <td>0.010809</td>\n      <td>14.484</td>\n      <td>21.416</td>\n      <td>2.881797</td>\n      <td>0.832237</td>\n      <td>0.78</td>\n    </tr>\n    <tr>\n      <th>1</th>\n      <td>0.155380</td>\n      <td>0.153050</td>\n      <td>0.161038</td>\n      <td>0.166164</td>\n      <td>0.174708</td>\n      <td>0.267167</td>\n      <td>0.320194</td>\n      <td>0.403354</td>\n      <td>0.720102</td>\n      <td>0.777174</td>\n      <td>...</td>\n      <td>0.004932</td>\n      <td>0.004220</td>\n      <td>0.003590</td>\n      <td>0.003106</td>\n      <td>0.031044</td>\n      <td>14.430</td>\n      <td>18.270</td>\n      <td>7.642059</td>\n      <td>0.961638</td>\n      <td>1.96</td>\n    </tr>\n    <tr>\n      <th>2</th>\n      <td>0.060774</td>\n      <td>0.060783</td>\n      <td>0.060799</td>\n      <td>0.060794</td>\n      <td>0.060798</td>\n      <td>0.060856</td>\n      <td>0.060876</td>\n      <td>0.060817</td>\n      <td>0.060745</td>\n      <td>0.061300</td>\n      <td>...</td>\n      <td>0.031844</td>\n      <td>0.029457</td>\n      <td>0.024209</td>\n      <td>0.019664</td>\n      <td>0.098425</td>\n      <td>16.700</td>\n      <td>35.105</td>\n      <td>42.218868</td>\n      <td>1.737888</td>\n      <td>1.39</td>\n    </tr>\n    <tr>\n      <th>3</th>\n      <td>0.016016</td>\n      <td>0.016088</td>\n      <td>0.016198</td>\n      <td>0.016401</td>\n      <td>0.016595</td>\n      <td>0.016825</td>\n      <td>0.017284</td>\n      <td>0.018175</td>\n      <td>0.018670</td>\n      <td>0.020036</td>\n      <td>...</td>\n      <td>0.000389</td>\n      <td>0.000367</td>\n      <td>0.000316</td>\n      <td>0.000262</td>\n      <td>0.010169</td>\n      <td>7.320</td>\n      <td>17.370</td>\n      <td>2.599605</td>\n      <td>1.000551</td>\n      <td>1.97</td>\n    </tr>\n    <tr>\n      <th>4</th>\n      <td>0.030632</td>\n      <td>0.030699</td>\n      <td>0.030785</td>\n      <td>0.030818</td>\n      <td>0.031014</td>\n      <td>0.031411</td>\n      <td>0.031684</td>\n      <td>0.031648</td>\n      <td>0.031708</td>\n      <td>0.031599</td>\n      <td>...</td>\n      <td>0.007108</td>\n      <td>0.007951</td>\n      <td>0.007953</td>\n      <td>0.006537</td>\n      <td>0.037375</td>\n      <td>28.005</td>\n      <td>41.635</td>\n      <td>11.434507</td>\n      <td>1.371310</td>\n      <td>1.43</td>\n    </tr>\n  </tbody>\n</table>\n<p>5 rows × 78 columns</p>\n</div>"
     },
     "metadata": {}
    }
   ]
  },
  {
   "cell_type": "code",
   "metadata": {
    "tags": [],
    "deepnote_to_be_reexecuted": false,
    "source_hash": "37ec3fef",
    "execution_start": 1622149288329,
    "execution_millis": 3,
    "cell_id": "00016-09a3390f-7a46-4fc2-bb4f-9cd80a0cc56c",
    "deepnote_cell_type": "code"
   },
   "source": "#We use the train correlation to have the same columns on the validation set. \n#Be careful, it is necessary to remove the output before.\n\nfeatures_val = val_df.drop(columns=\"sat1_col\")\nselected_columns_val = features_val.columns[columns]\n\n# add the output\nfeatures_val = features_val[selected_columns_val]\nfeatures_val[\"sat1_col\"] = val_df[\"sat1_col\"]\nval_data_corr = features_val",
   "execution_count": null,
   "outputs": []
  },
  {
   "cell_type": "code",
   "metadata": {
    "tags": [],
    "deepnote_to_be_reexecuted": false,
    "source_hash": "e5efec0e",
    "execution_start": 1622149288336,
    "execution_millis": 8,
    "cell_id": "00017-eb3af664-ab8b-48bb-ab4f-46f5df28bbf0",
    "deepnote_cell_type": "code"
   },
   "source": "#test correlation\nselected_columns_test = test_df.columns[columns]\n\ntest_data_corr = test_df[selected_columns_test]",
   "execution_count": null,
   "outputs": []
  },
  {
   "cell_type": "code",
   "metadata": {
    "tags": [],
    "deepnote_to_be_reexecuted": false,
    "source_hash": "115364c8",
    "execution_start": 1622149288349,
    "execution_millis": 10,
    "cell_id": "00018-0fd1365d-8680-4ed2-a539-6eb5db1d440d",
    "deepnote_cell_type": "code"
   },
   "source": "##preprocessing the data into a numpy ndarray\ntrain_data = train_df.to_numpy()\ntest_data = test_df.to_numpy()\nval_data = val_df.to_numpy()\n\ntrain_data_corr = train_data_corr.to_numpy()\nval_data_corr = val_data_corr.to_numpy()\ntest_data_corr = test_data_corr.to_numpy()",
   "execution_count": null,
   "outputs": []
  },
  {
   "cell_type": "code",
   "metadata": {
    "tags": [],
    "cell_id": "00020-69e7cf29-4bd3-42db-8ad3-49ee95225a56",
    "deepnote_to_be_reexecuted": false,
    "source_hash": "4a6602dd",
    "execution_start": 1622149288366,
    "execution_millis": 60,
    "deepnote_cell_type": "code"
   },
   "source": "#from np to torch tensors\ntrain_data_t = torch.from_numpy(train_data)\ntest_data_t = torch.from_numpy(test_data)\nval_data_t = torch.from_numpy(val_data)\nprint(train_data.shape)",
   "execution_count": null,
   "outputs": [
    {
     "name": "stdout",
     "text": "(12646, 111)\n",
     "output_type": "stream"
    }
   ]
  },
  {
   "cell_type": "code",
   "metadata": {
    "tags": [],
    "deepnote_to_be_reexecuted": false,
    "source_hash": "40c2c83c",
    "execution_start": 1622149288462,
    "execution_millis": 6,
    "cell_id": "00019-c83c16d5-2ef0-4662-a09a-c8a596dffc72",
    "deepnote_cell_type": "code"
   },
   "source": "#Shape of the correlate data set (so we can change the correlation without changing the code)\nS= train_data_corr.shape\nN=S[1]-1\nprint(N)",
   "execution_count": null,
   "outputs": [
    {
     "name": "stdout",
     "text": "77\n",
     "output_type": "stream"
    }
   ]
  },
  {
   "cell_type": "code",
   "metadata": {
    "tags": [],
    "deepnote_to_be_reexecuted": false,
    "source_hash": "56d4b272",
    "execution_start": 1622149288463,
    "execution_millis": 80,
    "cell_id": "00020-46c6e884-5d4a-4822-9ca4-bf71945cc663",
    "deepnote_cell_type": "code"
   },
   "source": "\n##splitting the ndarrays to get the inputs and the ouputs\n\n# after training a while, we figured the best way to have linear features\n# was to take the log. We tried with exponential or log, log was the best one (as expected)\n\nX_train = train_data[:, :110]\nX_train = np.log(X_train)\ny_train = train_data[:, 110]\n\nX_train_corr = train_data_corr[:, :N]\nX_train_corr = np.log(X_train_corr)\ny_train_corr = train_data_corr[:, N]\n\nprint(f'Shape of X_train: {X_train.shape}')\nprint(f'Shape of y_train: {y_train.shape}')\nprint(f'Shape of X_train_corr: {X_train_corr.shape}')\nprint(f'Shape of y_train_corr: {y_train_corr.shape}')",
   "execution_count": null,
   "outputs": [
    {
     "name": "stdout",
     "text": "Shape of X_train: (12646, 110)\nShape of y_train: (12646,)\nShape of X_train_corr: (12646, 77)\nShape of y_train_corr: (12646,)\n",
     "output_type": "stream"
    }
   ]
  },
  {
   "cell_type": "code",
   "metadata": {
    "tags": [],
    "cell_id": "00023-d519071f-d65f-4a56-8130-1fc18db7dccf",
    "deepnote_to_be_reexecuted": false,
    "source_hash": "20862dbd",
    "execution_start": 1622149288582,
    "execution_millis": 8,
    "deepnote_cell_type": "code"
   },
   "source": "X_val = val_data[:, :110]\nX_val =np.log(X_val)\ny_val = val_data[:, 110]\n\nX_val_corr = val_data_corr[:, :N]\nX_val_corr = np.log(X_val_corr)\ny_val_corr = val_data_corr[:, N]\nprint(f'Shape of X_val: {X_val.shape}')\nprint(f'Shape of y_val: {y_val.shape}')\nprint(f'Shape of X_val_corr: {X_val_corr.shape}')\nprint(f'Shape of y_val_corr: {y_val_corr.shape}')",
   "execution_count": null,
   "outputs": [
    {
     "name": "stdout",
     "text": "Shape of X_val: (1500, 110)\nShape of y_val: (1500,)\nShape of X_val_corr: (1500, 77)\nShape of y_val_corr: (1500,)\n",
     "output_type": "stream"
    }
   ]
  },
  {
   "cell_type": "code",
   "metadata": {
    "tags": [],
    "cell_id": "00024-87e3c60f-f5ec-430a-9e07-7f7d7906cffc",
    "deepnote_to_be_reexecuted": false,
    "source_hash": "ca4caf0b",
    "execution_start": 1622149288583,
    "execution_millis": 53,
    "deepnote_cell_type": "code"
   },
   "source": "X_test = test_data[:, :110]\nX_test =np.log(X_test)\n\nX_test_corr = test_data_corr[:, :N]\nX_test_corr = np.log(X_test_corr)\nprint(f'Shape of X_test: {X_test.shape}')\nprint(f'Shape of X_test_corr: {X_test_corr.shape}')",
   "execution_count": null,
   "outputs": [
    {
     "name": "stdout",
     "text": "Shape of X_test: (3000, 110)\nShape of X_test_corr: (3000, 77)\n",
     "output_type": "stream"
    }
   ]
  },
  {
   "cell_type": "code",
   "metadata": {
    "tags": [],
    "cell_id": "00019-4ddde544-5e08-4dd7-839c-24a4f9ee7e59",
    "deepnote_to_be_reexecuted": false,
    "source_hash": "d0d983dd",
    "execution_start": 1622149288630,
    "execution_millis": 27,
    "deepnote_cell_type": "code"
   },
   "source": "##implementing the normalization function for the non-correlate data and the correlate one\n\nmean = X_train.mean(axis=0)\nstd = X_train.std(axis=0)\n\nmean_c=X_train_corr.mean(axis=0)\nstd_c = X_train_corr.std(axis=0)\n\ndef normalize(X: np.ndarray, mean: np.ndarray, std: np.ndarray):\n    X_normalized = (X-mean)/std\n    return X_normalized\n\n##normalizing the data\nX_train = normalize(X_train, mean, std)\nX_val = normalize(X_val, mean, std)\nX_test = normalize(X_test, mean, std)\n\nX_train_corr = normalize(X_train_corr, mean_c, std_c)\nX_val_corr = normalize(X_val_corr, mean_c, std_c)\nX_test_corr = normalize(X_test_corr, mean_c, std_c)",
   "execution_count": null,
   "outputs": []
  },
  {
   "cell_type": "markdown",
   "source": "Our data is now ready to be used. It has been correlated or not, separated into input and output. \nWe have also applied the logarithm to the inputs. \nFinally, it has been normalised. \nWe can then use the correlated data for GradientBoosting to gain computational speed.",
   "metadata": {
    "tags": [],
    "cell_id": "00026-f68ee752-b960-4af7-ab62-f7df17126eae",
    "deepnote_cell_type": "markdown"
   }
  },
  {
   "cell_type": "markdown",
   "source": "## 2. Gradient Boosting",
   "metadata": {
    "tags": [],
    "cell_id": "00022-9fcce376-cbed-4930-9e9b-6f8b2d0553fc",
    "deepnote_cell_type": "text-cell-h2"
   }
  },
  {
   "cell_type": "markdown",
   "source": "The principle of Gradient Boosting is to use Decision Trees. \nIt will create several different trees with different parameters and try to predict as best as possible what is required. \nTo use this technique, we need to \"fit\" the function to our train data. This does not give us an MSE value.\nThen predict on the value and get an idea of the errors by comparing it with the output. \n\nWe initially used Gradient Boosting but it takes too long to run, which is why we commented it. We advise you to run __HistGradientBoosting__ instead.",
   "metadata": {
    "tags": [],
    "cell_id": "00028-bb4f7d75-667a-43f9-b692-26e170b6cc51",
    "deepnote_cell_type": "markdown"
   }
  },
  {
   "cell_type": "code",
   "metadata": {
    "tags": [],
    "deepnote_to_be_reexecuted": false,
    "source_hash": "a94e66d7",
    "execution_start": 1622149288713,
    "execution_millis": 1,
    "cell_id": "00022-de92c396-d7cc-4182-92b3-2be489fc948c",
    "deepnote_cell_type": "code"
   },
   "source": "#use of the GradientBoosting (slow compared to the HistGradientBoosting)\n#better with few features -> correlation\n\ngbr = GradientBoostingRegressor(loss='ls', \nlearning_rate=0.05, \nn_estimators=500, \ncriterion='friedman_mse')\n\n#gbr.fit(X_train_corr, y_train)\n#ypred = gbr.predict(X_val_corr)\n#mse1 = mean_squared_error(y_val,ypred)\n#print(\"MSE: %.4f\" % mse1)",
   "execution_count": null,
   "outputs": []
  },
  {
   "cell_type": "code",
   "metadata": {
    "tags": [],
    "deepnote_to_be_reexecuted": false,
    "source_hash": "1d01d2d2",
    "execution_start": 1622149288714,
    "execution_millis": 0,
    "cell_id": "00024-47f1d942-4ff2-4a4f-acd9-a21a4a47d243",
    "deepnote_cell_type": "code"
   },
   "source": "#y_test=gbr.predict(X_test_corr)\n#np.savetxt('GradientBoosting8.csv', y_test, delimiter = ',')",
   "execution_count": null,
   "outputs": []
  },
  {
   "cell_type": "code",
   "metadata": {
    "tags": [],
    "deepnote_to_be_reexecuted": false,
    "source_hash": "b6f1219d",
    "execution_start": 1622149288747,
    "execution_millis": 0,
    "cell_id": "00028-e1cda73b-5e56-4775-8c9b-144a1cf6eda2",
    "deepnote_cell_type": "code"
   },
   "source": "reg=HistGradientBoostingRegressor(loss='least_squares', \nlearning_rate=0.005, \nmax_iter=800, max_leaf_nodes=20, \nmax_depth=30, min_samples_leaf=100)\n\n#reg.fit(X_train_corr,y_train) #take out the # to run the gradient boosting\n\n#y_hat=reg.predict(X_val_corr)\n\n#mse=mean_squared_error(y_val,y_hat)\n#print(\"MSE: %.4f\" % mse)",
   "execution_count": null,
   "outputs": []
  },
  {
   "cell_type": "code",
   "metadata": {
    "tags": [],
    "deepnote_to_be_reexecuted": false,
    "source_hash": "d800d2d0",
    "execution_start": 1622149288747,
    "execution_millis": 1,
    "cell_id": "00029-8e34e719-0f4f-4fee-8ec0-49eeadbf2f6d",
    "deepnote_cell_type": "code"
   },
   "source": "#y_Htest=reg.predict(X_test_corr)\n#np.savetxt('HGB1468.csv', y_Htest, delimiter = ',', header='sat1_col')",
   "execution_count": null,
   "outputs": []
  },
  {
   "cell_type": "markdown",
   "source": "Be careful, we always check the csv on excel.",
   "metadata": {
    "tags": [],
    "cell_id": "00033-e0dcfb51-dc9d-48cc-a6b8-3a23b834cd8e",
    "deepnote_cell_type": "markdown"
   }
  },
  {
   "cell_type": "markdown",
   "source": "_Description of the parameters_\n\n- __learning_rate__ \nfloat, default=0.1\nThe learning rate, also known as shrinkage. This is used as a multiplicative factor for the leaves values. Use 1 for no shrinkage.\n\n- __max_iter__\nint, default=100\nThe maximum number of iterations of the boosting process, i.e. the maximum number of trees.\n\n- __max_leaf_nodes__ \nint or None, default=31\nThe maximum number of leaves for each tree. Must be strictly greater than 1. If None, there is no maximum limit.\n\n- __max_depth__ \nint or None, default=None\nThe maximum depth of each tree. The depth of a tree is the number of edges to go from the root to the deepest leaf. Depth isn’t constrained by default.\n\n- __min_samples_leaf__ \nint, default=20\nThe minimum number of samples per leaf. For small datasets with less than a few hundred samples, it is recommended to lower this value since only very shallow trees would be built.",
   "metadata": {
    "tags": [],
    "cell_id": "00027-d9b7b527-6a6f-461a-a3ae-252089255b8f",
    "deepnote_cell_type": "markdown"
   }
  },
  {
   "cell_type": "markdown",
   "source": "## 3. Neural Network",
   "metadata": {
    "tags": [],
    "cell_id": "00029-256d89cf-894c-4bca-bd61-6f6b45c18dd6",
    "deepnote_cell_type": "text-cell-h2"
   }
  },
  {
   "cell_type": "markdown",
   "source": "We want to use our X_train on which we have applied the logarithm and normalized the inputs. However, to be able to use the batch correctly, we must have the inputs and outputs on the same tensor. To do this, without making a mistake, we will use panda again.",
   "metadata": {
    "tags": [],
    "cell_id": "00034-e221f182-c586-45fb-846f-b5e5b77f8a7a",
    "deepnote_cell_type": "markdown"
   }
  },
  {
   "cell_type": "code",
   "metadata": {
    "tags": [],
    "cell_id": "00035-e2189b95-d1a7-4435-a12a-4bd7f9edf1cd",
    "deepnote_to_be_reexecuted": false,
    "source_hash": "645406f5",
    "execution_start": 1622149288748,
    "execution_millis": 0,
    "deepnote_cell_type": "code"
   },
   "source": "# to panda\nX_train=pd.DataFrame(X_train)\nX_val=pd.DataFrame(X_val)\nX_test=pd.DataFrame(X_test)",
   "execution_count": null,
   "outputs": []
  },
  {
   "cell_type": "code",
   "metadata": {
    "tags": [],
    "cell_id": "00036-ddb5273d-6f38-45b3-8fc2-9bfc977b342c",
    "deepnote_to_be_reexecuted": false,
    "source_hash": "fcd92124",
    "execution_start": 1622149288749,
    "execution_millis": 2,
    "deepnote_cell_type": "code"
   },
   "source": "# add the output so it doesn't get lost in the batch\nX_train['sat1_col']=train_df['sat1_col']\nX_val['sat1_col']=val_df['sat1_col']\n\ntrain_data_new=X_train\nval_data_new=X_val\ntest_data_new=X_test",
   "execution_count": null,
   "outputs": []
  },
  {
   "cell_type": "code",
   "metadata": {
    "tags": [],
    "cell_id": "00037-a4c16842-91cb-48db-a498-381ba920b7b7",
    "deepnote_to_be_reexecuted": false,
    "source_hash": "9aa12893",
    "execution_start": 1622149288798,
    "execution_millis": 0,
    "deepnote_cell_type": "code"
   },
   "source": "# to torch\n\ntrain_data = torch.from_numpy(train_data_new.to_numpy())\nval_data = torch.from_numpy(val_data_new.to_numpy())\ntest_data = torch.from_numpy(test_data_new.to_numpy())",
   "execution_count": null,
   "outputs": []
  },
  {
   "cell_type": "code",
   "metadata": {
    "tags": [],
    "cell_id": "00030-24c778fc-97f7-43de-b5bb-09c59138dbb6",
    "deepnote_to_be_reexecuted": false,
    "source_hash": "624c787b",
    "execution_start": 1622149288842,
    "execution_millis": 0,
    "deepnote_cell_type": "code"
   },
   "source": "#DataLoader\nbatch_size = 128\ntrain_loader = torch.utils.data.DataLoader(train_data, batch_size=batch_size, shuffle=True)\nval_loader = torch.utils.data.DataLoader(val_data, batch_size=batch_size, shuffle=False)",
   "execution_count": null,
   "outputs": []
  },
  {
   "cell_type": "code",
   "metadata": {
    "tags": [],
    "cell_id": "00031-2c329856-010c-468c-832a-729c3a2133ae",
    "deepnote_to_be_reexecuted": false,
    "source_hash": "5fe98c13",
    "execution_start": 1622149288843,
    "execution_millis": 47,
    "deepnote_cell_type": "code"
   },
   "source": "class ThreeLayerNet(nn.Module) :\n    def __init__(self) :\n        super().__init__()\n        self.fc1 = nn.Linear(110, 30) \n        self.fc2 = nn.Linear(30, 30)\n        self.fc3 = nn.Linear(30,1)\n        self.norm1= nn.BatchNorm1d(num_features=110, eps=1e-08, momentum=0.1)\n        self.norm2= nn.BatchNorm1d(num_features=30, eps=1e-08, momentum=0.1)\n        self.drop = nn.Dropout(p=0.1)\n\n    def forward(self, x: torch.Tensor) -> torch.Tensor:\n        x = self.norm1(x)\n        x = F.relu(self.fc1(x))\n        x = self.norm2(x)\n        x = F.relu(self.fc2(x))\n        x = self.drop(x)\n        out = self.fc3(x)\n        return out\n\n    def predict(self, x: torch.Tensor) -> torch.Tensor:\n        pred = self.forward(x)\n        return pred\n        \nmodel = ThreeLayerNet()",
   "execution_count": null,
   "outputs": []
  },
  {
   "cell_type": "markdown",
   "source": "We kept the basic structure of a Three-Layer Net. \nThen we tried to improve it by adding normalization on each batch.\nTo avoid overfitting, we also added a dropout that randomly removes some variables. If p=0.1, it drops 10% of the parameters.",
   "metadata": {
    "tags": [],
    "cell_id": "00043-89d67819-921d-4107-a9ad-f3955dcb4a98",
    "deepnote_cell_type": "markdown"
   }
  },
  {
   "cell_type": "code",
   "metadata": {
    "tags": [],
    "cell_id": "00032-1a0d638b-06c5-4e13-8c62-d8e747d6ecc7",
    "deepnote_to_be_reexecuted": false,
    "source_hash": "76de6fd7",
    "execution_start": 1622149288891,
    "execution_millis": 0,
    "deepnote_cell_type": "code"
   },
   "source": "#loss function, optimizer & scheduler\nloss_fn = nn.MSELoss()\noptimizer = optim.Adam(model.parameters(), lr=1e-02, weight_decay=0.0)\nscheduler = optim.lr_scheduler.StepLR(optimizer,step_size=30, gamma=0.2)",
   "execution_count": null,
   "outputs": []
  },
  {
   "cell_type": "markdown",
   "source": "We used a sufficiently large learning rate at the beginning. Thanks to the scheduler, our learning rate is refined by increasing the number of epochs. \nIf the step_size is 30, every 30 epochs it mutliplies the lr by gamma. ",
   "metadata": {
    "tags": [],
    "cell_id": "00045-86e23b19-1acd-4d56-8949-b014f995b27d",
    "deepnote_cell_type": "markdown"
   }
  },
  {
   "cell_type": "code",
   "metadata": {
    "tags": [],
    "cell_id": "00033-46f866ce-89e9-4566-831a-aa8c44eb43f6",
    "deepnote_to_be_reexecuted": false,
    "source_hash": "ecf51685",
    "execution_start": 1622149288891,
    "execution_millis": 0,
    "deepnote_cell_type": "code"
   },
   "source": "def train(model: torch.nn.Module, train_loader: torch.utils.data.DataLoader, loss_fn: torch.nn.Module, \noptimizer: torch.optim.Optimizer, epochs: int):\n\n    loss_metric = metrics.LossMetric()\n\n    model.train()\n\n    for epoch in range (1, epochs+1):\n\n        pbar = tqdm(total=len(train_loader), leave=True)\n        pbar.set_description(f\"Epoch {epoch}\")\n\n        for data in train_loader:\n\n            X_train = data[:,:110].reshape(-1,110) # separate inputs and output \n            y_train = data[:, 110].reshape(-1,1)\n\n            optimizer.zero_grad()\n\n            out = model(X_train.float()).reshape(-1,1)\n\n            loss = loss_fn(out, y_train.float())\n\n            loss.backward()\n\n            optimizer.step()\n\n            loss_metric.update(loss.item(), data.shape[0])\n\n            pbar.update()\n\n        scheduler.step() # to change the lr\n        print(f\"Train loss : {loss_metric.compute():.3f}\")",
   "execution_count": null,
   "outputs": []
  },
  {
   "cell_type": "code",
   "metadata": {
    "tags": [],
    "cell_id": "00034-8cf11bda-8ec6-4719-acf0-516f97035f02",
    "deepnote_to_be_reexecuted": false,
    "source_hash": "49285dc2",
    "execution_start": 1622149288933,
    "execution_millis": 177602,
    "deepnote_cell_type": "code"
   },
   "source": "#Train the model \ntrain(model, train_loader, loss_fn, optimizer, epochs=150)",
   "execution_count": null,
   "outputs": [
    {
     "data": {
      "text/plain": "  0%|          | 0/99 [00:00<?, ?it/s]",
      "application/vnd.jupyter.widget-view+json": {
       "version_major": 2,
       "version_minor": 0,
       "model_id": "cc1bbb269cb84d31a0c2f2a965da1915"
      }
     },
     "metadata": {},
     "output_type": "display_data"
    },
    {
     "name": "stdout",
     "text": "Train loss : 0.323\n",
     "output_type": "stream"
    },
    {
     "data": {
      "text/plain": "  0%|          | 0/99 [00:00<?, ?it/s]",
      "application/vnd.jupyter.widget-view+json": {
       "version_major": 2,
       "version_minor": 0,
       "model_id": "139f7cf3613443238631525304fe4d2c"
      }
     },
     "metadata": {},
     "output_type": "display_data"
    },
    {
     "name": "stdout",
     "text": "Train loss : 0.253\n",
     "output_type": "stream"
    },
    {
     "data": {
      "text/plain": "  0%|          | 0/99 [00:00<?, ?it/s]",
      "application/vnd.jupyter.widget-view+json": {
       "version_major": 2,
       "version_minor": 0,
       "model_id": "ba4ed20ca45e4bb59e48892640f36f8d"
      }
     },
     "metadata": {},
     "output_type": "display_data"
    },
    {
     "name": "stdout",
     "text": "Train loss : 0.227\n",
     "output_type": "stream"
    },
    {
     "data": {
      "text/plain": "  0%|          | 0/99 [00:00<?, ?it/s]",
      "application/vnd.jupyter.widget-view+json": {
       "version_major": 2,
       "version_minor": 0,
       "model_id": "347ae15eb353477fa12ed0b2b747bd03"
      }
     },
     "metadata": {},
     "output_type": "display_data"
    },
    {
     "name": "stdout",
     "text": "Train loss : 0.212\n",
     "output_type": "stream"
    },
    {
     "data": {
      "text/plain": "  0%|          | 0/99 [00:00<?, ?it/s]",
      "application/vnd.jupyter.widget-view+json": {
       "version_major": 2,
       "version_minor": 0,
       "model_id": "db79286c4d274f53acebbfe374d0463d"
      }
     },
     "metadata": {},
     "output_type": "display_data"
    },
    {
     "name": "stdout",
     "text": "Train loss : 0.202\n",
     "output_type": "stream"
    },
    {
     "data": {
      "text/plain": "  0%|          | 0/99 [00:00<?, ?it/s]",
      "application/vnd.jupyter.widget-view+json": {
       "version_major": 2,
       "version_minor": 0,
       "model_id": "2391010972fc4eefa78dbfafc5fe1e62"
      }
     },
     "metadata": {},
     "output_type": "display_data"
    },
    {
     "name": "stdout",
     "text": "Train loss : 0.196\n",
     "output_type": "stream"
    },
    {
     "data": {
      "text/plain": "  0%|          | 0/99 [00:00<?, ?it/s]",
      "application/vnd.jupyter.widget-view+json": {
       "version_major": 2,
       "version_minor": 0,
       "model_id": "3491efb20f1e418b85c1b16879b5c15f"
      }
     },
     "metadata": {},
     "output_type": "display_data"
    },
    {
     "name": "stdout",
     "text": "Train loss : 0.191\n",
     "output_type": "stream"
    },
    {
     "data": {
      "text/plain": "  0%|          | 0/99 [00:00<?, ?it/s]",
      "application/vnd.jupyter.widget-view+json": {
       "version_major": 2,
       "version_minor": 0,
       "model_id": "6d9acfe3e2dc48f897d519d3830ec4ae"
      }
     },
     "metadata": {},
     "output_type": "display_data"
    },
    {
     "name": "stdout",
     "text": "Train loss : 0.187\n",
     "output_type": "stream"
    },
    {
     "data": {
      "text/plain": "  0%|          | 0/99 [00:00<?, ?it/s]",
      "application/vnd.jupyter.widget-view+json": {
       "version_major": 2,
       "version_minor": 0,
       "model_id": "95e0ee08b37645e98f976b6a88c062b4"
      }
     },
     "metadata": {},
     "output_type": "display_data"
    },
    {
     "name": "stdout",
     "text": "Train loss : 0.184\n",
     "output_type": "stream"
    },
    {
     "data": {
      "text/plain": "  0%|          | 0/99 [00:00<?, ?it/s]",
      "application/vnd.jupyter.widget-view+json": {
       "version_major": 2,
       "version_minor": 0,
       "model_id": "6c5e4773ea414f0a9da4963cf0875613"
      }
     },
     "metadata": {},
     "output_type": "display_data"
    },
    {
     "name": "stdout",
     "text": "Train loss : 0.181\n",
     "output_type": "stream"
    },
    {
     "data": {
      "text/plain": "  0%|          | 0/99 [00:00<?, ?it/s]",
      "application/vnd.jupyter.widget-view+json": {
       "version_major": 2,
       "version_minor": 0,
       "model_id": "5f7e8037ef8140eb8027794eadb60f38"
      }
     },
     "metadata": {},
     "output_type": "display_data"
    },
    {
     "name": "stdout",
     "text": "Train loss : 0.179\n",
     "output_type": "stream"
    },
    {
     "data": {
      "text/plain": "  0%|          | 0/99 [00:00<?, ?it/s]",
      "application/vnd.jupyter.widget-view+json": {
       "version_major": 2,
       "version_minor": 0,
       "model_id": "6d31778273ca4fcf928eaed2c7ed47fe"
      }
     },
     "metadata": {},
     "output_type": "display_data"
    },
    {
     "name": "stdout",
     "text": "Train loss : 0.176\n",
     "output_type": "stream"
    },
    {
     "data": {
      "text/plain": "  0%|          | 0/99 [00:00<?, ?it/s]",
      "application/vnd.jupyter.widget-view+json": {
       "version_major": 2,
       "version_minor": 0,
       "model_id": "253af3357c9e42d7ac80907e2aa7da30"
      }
     },
     "metadata": {},
     "output_type": "display_data"
    },
    {
     "name": "stdout",
     "text": "Train loss : 0.175\n",
     "output_type": "stream"
    },
    {
     "data": {
      "text/plain": "  0%|          | 0/99 [00:00<?, ?it/s]",
      "application/vnd.jupyter.widget-view+json": {
       "version_major": 2,
       "version_minor": 0,
       "model_id": "07d96098a8f64ba59dc3484b7a96f21e"
      }
     },
     "metadata": {},
     "output_type": "display_data"
    },
    {
     "name": "stdout",
     "text": "Train loss : 0.173\n",
     "output_type": "stream"
    },
    {
     "data": {
      "text/plain": "  0%|          | 0/99 [00:00<?, ?it/s]",
      "application/vnd.jupyter.widget-view+json": {
       "version_major": 2,
       "version_minor": 0,
       "model_id": "65222133d4bd45b68500799a41054365"
      }
     },
     "metadata": {},
     "output_type": "display_data"
    },
    {
     "name": "stdout",
     "text": "Train loss : 0.172\n",
     "output_type": "stream"
    },
    {
     "data": {
      "text/plain": "  0%|          | 0/99 [00:00<?, ?it/s]",
      "application/vnd.jupyter.widget-view+json": {
       "version_major": 2,
       "version_minor": 0,
       "model_id": "13877fb8c1ae4e779e1ac8c057fe2dcb"
      }
     },
     "metadata": {},
     "output_type": "display_data"
    },
    {
     "name": "stdout",
     "text": "Train loss : 0.171\n",
     "output_type": "stream"
    },
    {
     "data": {
      "text/plain": "  0%|          | 0/99 [00:00<?, ?it/s]",
      "application/vnd.jupyter.widget-view+json": {
       "version_major": 2,
       "version_minor": 0,
       "model_id": "80850d5080cb4087a5b4bb3c12f8f44b"
      }
     },
     "metadata": {},
     "output_type": "display_data"
    },
    {
     "name": "stdout",
     "text": "Train loss : 0.170\n",
     "output_type": "stream"
    },
    {
     "data": {
      "text/plain": "  0%|          | 0/99 [00:00<?, ?it/s]",
      "application/vnd.jupyter.widget-view+json": {
       "version_major": 2,
       "version_minor": 0,
       "model_id": "c2536a42c5ee4a2980df0568898166cf"
      }
     },
     "metadata": {},
     "output_type": "display_data"
    },
    {
     "name": "stdout",
     "text": "Train loss : 0.169\n",
     "output_type": "stream"
    },
    {
     "data": {
      "text/plain": "  0%|          | 0/99 [00:00<?, ?it/s]",
      "application/vnd.jupyter.widget-view+json": {
       "version_major": 2,
       "version_minor": 0,
       "model_id": "75f460e0b1dc4f369d35e880f259429f"
      }
     },
     "metadata": {},
     "output_type": "display_data"
    },
    {
     "name": "stdout",
     "text": "Train loss : 0.168\n",
     "output_type": "stream"
    },
    {
     "data": {
      "text/plain": "  0%|          | 0/99 [00:00<?, ?it/s]",
      "application/vnd.jupyter.widget-view+json": {
       "version_major": 2,
       "version_minor": 0,
       "model_id": "96b983c4988e41fab852c81f65582d69"
      }
     },
     "metadata": {},
     "output_type": "display_data"
    },
    {
     "name": "stdout",
     "text": "Train loss : 0.167\n",
     "output_type": "stream"
    },
    {
     "data": {
      "text/plain": "  0%|          | 0/99 [00:00<?, ?it/s]",
      "application/vnd.jupyter.widget-view+json": {
       "version_major": 2,
       "version_minor": 0,
       "model_id": "a6c0ac9d3dd944c3b3155b765f58e93a"
      }
     },
     "metadata": {},
     "output_type": "display_data"
    },
    {
     "name": "stdout",
     "text": "Train loss : 0.166\n",
     "output_type": "stream"
    },
    {
     "data": {
      "text/plain": "  0%|          | 0/99 [00:00<?, ?it/s]",
      "application/vnd.jupyter.widget-view+json": {
       "version_major": 2,
       "version_minor": 0,
       "model_id": "0b990be3ace54491b7593750d281e8da"
      }
     },
     "metadata": {},
     "output_type": "display_data"
    },
    {
     "name": "stdout",
     "text": "Train loss : 0.165\n",
     "output_type": "stream"
    },
    {
     "data": {
      "text/plain": "  0%|          | 0/99 [00:00<?, ?it/s]",
      "application/vnd.jupyter.widget-view+json": {
       "version_major": 2,
       "version_minor": 0,
       "model_id": "8d8dfbc85a164a10b91c7fa285fcb67c"
      }
     },
     "metadata": {},
     "output_type": "display_data"
    },
    {
     "name": "stdout",
     "text": "Train loss : 0.164\n",
     "output_type": "stream"
    },
    {
     "data": {
      "text/plain": "  0%|          | 0/99 [00:00<?, ?it/s]",
      "application/vnd.jupyter.widget-view+json": {
       "version_major": 2,
       "version_minor": 0,
       "model_id": "748aa9e608d74f96a0950f562936d958"
      }
     },
     "metadata": {},
     "output_type": "display_data"
    },
    {
     "name": "stdout",
     "text": "Train loss : 0.164\n",
     "output_type": "stream"
    },
    {
     "data": {
      "text/plain": "  0%|          | 0/99 [00:00<?, ?it/s]",
      "application/vnd.jupyter.widget-view+json": {
       "version_major": 2,
       "version_minor": 0,
       "model_id": "138230fd7b364d1bbcdc9989b67e49ad"
      }
     },
     "metadata": {},
     "output_type": "display_data"
    },
    {
     "name": "stdout",
     "text": "Train loss : 0.163\n",
     "output_type": "stream"
    },
    {
     "data": {
      "text/plain": "  0%|          | 0/99 [00:00<?, ?it/s]",
      "application/vnd.jupyter.widget-view+json": {
       "version_major": 2,
       "version_minor": 0,
       "model_id": "12c55421ca514648bd45003c0a7a9479"
      }
     },
     "metadata": {},
     "output_type": "display_data"
    },
    {
     "name": "stdout",
     "text": "Train loss : 0.163\n",
     "output_type": "stream"
    },
    {
     "data": {
      "text/plain": "  0%|          | 0/99 [00:00<?, ?it/s]",
      "application/vnd.jupyter.widget-view+json": {
       "version_major": 2,
       "version_minor": 0,
       "model_id": "9b784244d86d4536a5b7410b39abfafc"
      }
     },
     "metadata": {},
     "output_type": "display_data"
    },
    {
     "name": "stdout",
     "text": "Train loss : 0.162\n",
     "output_type": "stream"
    },
    {
     "data": {
      "text/plain": "  0%|          | 0/99 [00:00<?, ?it/s]",
      "application/vnd.jupyter.widget-view+json": {
       "version_major": 2,
       "version_minor": 0,
       "model_id": "5fdac644ba214df9b2d0743e4472efc9"
      }
     },
     "metadata": {},
     "output_type": "display_data"
    },
    {
     "name": "stdout",
     "text": "Train loss : 0.162\n",
     "output_type": "stream"
    },
    {
     "data": {
      "text/plain": "  0%|          | 0/99 [00:00<?, ?it/s]",
      "application/vnd.jupyter.widget-view+json": {
       "version_major": 2,
       "version_minor": 0,
       "model_id": "23d8c5200cda4778b99c9f2806391be9"
      }
     },
     "metadata": {},
     "output_type": "display_data"
    },
    {
     "name": "stdout",
     "text": "Train loss : 0.161\n",
     "output_type": "stream"
    },
    {
     "data": {
      "text/plain": "  0%|          | 0/99 [00:00<?, ?it/s]",
      "application/vnd.jupyter.widget-view+json": {
       "version_major": 2,
       "version_minor": 0,
       "model_id": "a01ca27ae90e462f9af6864d6219872f"
      }
     },
     "metadata": {},
     "output_type": "display_data"
    },
    {
     "name": "stdout",
     "text": "Train loss : 0.161\n",
     "output_type": "stream"
    },
    {
     "data": {
      "text/plain": "  0%|          | 0/99 [00:00<?, ?it/s]",
      "application/vnd.jupyter.widget-view+json": {
       "version_major": 2,
       "version_minor": 0,
       "model_id": "e6b4addd5398406abc94d79ec3e4c47c"
      }
     },
     "metadata": {},
     "output_type": "display_data"
    },
    {
     "name": "stdout",
     "text": "Train loss : 0.160\n",
     "output_type": "stream"
    },
    {
     "data": {
      "text/plain": "  0%|          | 0/99 [00:00<?, ?it/s]",
      "application/vnd.jupyter.widget-view+json": {
       "version_major": 2,
       "version_minor": 0,
       "model_id": "89c8531a3a074c758707a9aaa9ad5176"
      }
     },
     "metadata": {},
     "output_type": "display_data"
    },
    {
     "name": "stdout",
     "text": "Train loss : 0.159\n",
     "output_type": "stream"
    },
    {
     "data": {
      "text/plain": "  0%|          | 0/99 [00:00<?, ?it/s]",
      "application/vnd.jupyter.widget-view+json": {
       "version_major": 2,
       "version_minor": 0,
       "model_id": "de12e1fb802e4890909a85c99096bf23"
      }
     },
     "metadata": {},
     "output_type": "display_data"
    },
    {
     "name": "stdout",
     "text": "Train loss : 0.159\n",
     "output_type": "stream"
    },
    {
     "data": {
      "text/plain": "  0%|          | 0/99 [00:00<?, ?it/s]",
      "application/vnd.jupyter.widget-view+json": {
       "version_major": 2,
       "version_minor": 0,
       "model_id": "6ad33575a0c14379a73ffbee7dc6d1b0"
      }
     },
     "metadata": {},
     "output_type": "display_data"
    },
    {
     "name": "stdout",
     "text": "Train loss : 0.158\n",
     "output_type": "stream"
    },
    {
     "data": {
      "text/plain": "  0%|          | 0/99 [00:00<?, ?it/s]",
      "application/vnd.jupyter.widget-view+json": {
       "version_major": 2,
       "version_minor": 0,
       "model_id": "c57dbe9c02c04d3d936670e2adfdfa0b"
      }
     },
     "metadata": {},
     "output_type": "display_data"
    },
    {
     "name": "stdout",
     "text": "Train loss : 0.158\n",
     "output_type": "stream"
    },
    {
     "data": {
      "text/plain": "  0%|          | 0/99 [00:00<?, ?it/s]",
      "application/vnd.jupyter.widget-view+json": {
       "version_major": 2,
       "version_minor": 0,
       "model_id": "1319867dac4342dab9c9382d511b7df2"
      }
     },
     "metadata": {},
     "output_type": "display_data"
    },
    {
     "name": "stdout",
     "text": "Train loss : 0.158\n",
     "output_type": "stream"
    },
    {
     "data": {
      "text/plain": "  0%|          | 0/99 [00:00<?, ?it/s]",
      "application/vnd.jupyter.widget-view+json": {
       "version_major": 2,
       "version_minor": 0,
       "model_id": "0f50a9401d9b4c4083ddb92a0f89d02a"
      }
     },
     "metadata": {},
     "output_type": "display_data"
    },
    {
     "name": "stdout",
     "text": "Train loss : 0.157\n",
     "output_type": "stream"
    },
    {
     "data": {
      "text/plain": "  0%|          | 0/99 [00:00<?, ?it/s]",
      "application/vnd.jupyter.widget-view+json": {
       "version_major": 2,
       "version_minor": 0,
       "model_id": "c9dc434d46764fbabbcfb9ef634528a7"
      }
     },
     "metadata": {},
     "output_type": "display_data"
    },
    {
     "name": "stdout",
     "text": "Train loss : 0.157\n",
     "output_type": "stream"
    },
    {
     "data": {
      "text/plain": "  0%|          | 0/99 [00:00<?, ?it/s]",
      "application/vnd.jupyter.widget-view+json": {
       "version_major": 2,
       "version_minor": 0,
       "model_id": "2bc64742eb02416d958f7375cbe5bd24"
      }
     },
     "metadata": {},
     "output_type": "display_data"
    },
    {
     "name": "stdout",
     "text": "Train loss : 0.156\n",
     "output_type": "stream"
    },
    {
     "data": {
      "text/plain": "  0%|          | 0/99 [00:00<?, ?it/s]",
      "application/vnd.jupyter.widget-view+json": {
       "version_major": 2,
       "version_minor": 0,
       "model_id": "652852c89374493db32b814568974e52"
      }
     },
     "metadata": {},
     "output_type": "display_data"
    },
    {
     "name": "stdout",
     "text": "Train loss : 0.156\n",
     "output_type": "stream"
    },
    {
     "data": {
      "text/plain": "  0%|          | 0/99 [00:00<?, ?it/s]",
      "application/vnd.jupyter.widget-view+json": {
       "version_major": 2,
       "version_minor": 0,
       "model_id": "476633f4e33e435bbe3230c8cc32a00c"
      }
     },
     "metadata": {},
     "output_type": "display_data"
    },
    {
     "name": "stdout",
     "text": "Train loss : 0.156\n",
     "output_type": "stream"
    },
    {
     "data": {
      "text/plain": "  0%|          | 0/99 [00:00<?, ?it/s]",
      "application/vnd.jupyter.widget-view+json": {
       "version_major": 2,
       "version_minor": 0,
       "model_id": "e8f24bc930944e44ac59e5a33906f69b"
      }
     },
     "metadata": {},
     "output_type": "display_data"
    },
    {
     "name": "stdout",
     "text": "Train loss : 0.155\n",
     "output_type": "stream"
    },
    {
     "data": {
      "text/plain": "  0%|          | 0/99 [00:00<?, ?it/s]",
      "application/vnd.jupyter.widget-view+json": {
       "version_major": 2,
       "version_minor": 0,
       "model_id": "7646fbcfe97d477c8e4b2051d60cef94"
      }
     },
     "metadata": {},
     "output_type": "display_data"
    },
    {
     "name": "stdout",
     "text": "Train loss : 0.155\n",
     "output_type": "stream"
    },
    {
     "data": {
      "text/plain": "  0%|          | 0/99 [00:00<?, ?it/s]",
      "application/vnd.jupyter.widget-view+json": {
       "version_major": 2,
       "version_minor": 0,
       "model_id": "96ce8c784ff146e6ad52fa48a40721a0"
      }
     },
     "metadata": {},
     "output_type": "display_data"
    },
    {
     "name": "stdout",
     "text": "Train loss : 0.155\n",
     "output_type": "stream"
    },
    {
     "data": {
      "text/plain": "  0%|          | 0/99 [00:00<?, ?it/s]",
      "application/vnd.jupyter.widget-view+json": {
       "version_major": 2,
       "version_minor": 0,
       "model_id": "bd25286ed77f46349e2380c915b8d344"
      }
     },
     "metadata": {},
     "output_type": "display_data"
    },
    {
     "name": "stdout",
     "text": "Train loss : 0.154\n",
     "output_type": "stream"
    },
    {
     "data": {
      "text/plain": "  0%|          | 0/99 [00:00<?, ?it/s]",
      "application/vnd.jupyter.widget-view+json": {
       "version_major": 2,
       "version_minor": 0,
       "model_id": "82886200995d4b01bf3dda2a571c1cd8"
      }
     },
     "metadata": {},
     "output_type": "display_data"
    },
    {
     "name": "stdout",
     "text": "Train loss : 0.154\n",
     "output_type": "stream"
    },
    {
     "data": {
      "text/plain": "  0%|          | 0/99 [00:00<?, ?it/s]",
      "application/vnd.jupyter.widget-view+json": {
       "version_major": 2,
       "version_minor": 0,
       "model_id": "367849e449bd4a3cbee26f6372768360"
      }
     },
     "metadata": {},
     "output_type": "display_data"
    },
    {
     "name": "stdout",
     "text": "Train loss : 0.154\n",
     "output_type": "stream"
    },
    {
     "data": {
      "text/plain": "  0%|          | 0/99 [00:00<?, ?it/s]",
      "application/vnd.jupyter.widget-view+json": {
       "version_major": 2,
       "version_minor": 0,
       "model_id": "6744f12a3561472780fe3afe59d97532"
      }
     },
     "metadata": {},
     "output_type": "display_data"
    },
    {
     "name": "stdout",
     "text": "Train loss : 0.153\n",
     "output_type": "stream"
    },
    {
     "data": {
      "text/plain": "  0%|          | 0/99 [00:00<?, ?it/s]",
      "application/vnd.jupyter.widget-view+json": {
       "version_major": 2,
       "version_minor": 0,
       "model_id": "ea135664bcd7417daf4b2cff36d2a3e4"
      }
     },
     "metadata": {},
     "output_type": "display_data"
    },
    {
     "name": "stdout",
     "text": "Train loss : 0.153\n",
     "output_type": "stream"
    },
    {
     "data": {
      "text/plain": "  0%|          | 0/99 [00:00<?, ?it/s]",
      "application/vnd.jupyter.widget-view+json": {
       "version_major": 2,
       "version_minor": 0,
       "model_id": "9652940ca9c44cacbefbb931d042bd4f"
      }
     },
     "metadata": {},
     "output_type": "display_data"
    },
    {
     "name": "stdout",
     "text": "Train loss : 0.153\n",
     "output_type": "stream"
    },
    {
     "data": {
      "text/plain": "  0%|          | 0/99 [00:00<?, ?it/s]",
      "application/vnd.jupyter.widget-view+json": {
       "version_major": 2,
       "version_minor": 0,
       "model_id": "2b9fed0eb0ae4f5297641d8885f65b9c"
      }
     },
     "metadata": {},
     "output_type": "display_data"
    },
    {
     "name": "stdout",
     "text": "Train loss : 0.153\n",
     "output_type": "stream"
    },
    {
     "data": {
      "text/plain": "  0%|          | 0/99 [00:00<?, ?it/s]",
      "application/vnd.jupyter.widget-view+json": {
       "version_major": 2,
       "version_minor": 0,
       "model_id": "e9505c2938e342b48ac3076bbbc4f0b5"
      }
     },
     "metadata": {},
     "output_type": "display_data"
    },
    {
     "name": "stdout",
     "text": "Train loss : 0.152\n",
     "output_type": "stream"
    },
    {
     "data": {
      "text/plain": "  0%|          | 0/99 [00:00<?, ?it/s]",
      "application/vnd.jupyter.widget-view+json": {
       "version_major": 2,
       "version_minor": 0,
       "model_id": "6bcf76c92d7945fd984c2e43c4bb627e"
      }
     },
     "metadata": {},
     "output_type": "display_data"
    },
    {
     "name": "stdout",
     "text": "Train loss : 0.152\n",
     "output_type": "stream"
    },
    {
     "data": {
      "text/plain": "  0%|          | 0/99 [00:00<?, ?it/s]",
      "application/vnd.jupyter.widget-view+json": {
       "version_major": 2,
       "version_minor": 0,
       "model_id": "6e8b0e157d3545d68e40866e9edb1e77"
      }
     },
     "metadata": {},
     "output_type": "display_data"
    },
    {
     "name": "stdout",
     "text": "Train loss : 0.152\n",
     "output_type": "stream"
    },
    {
     "data": {
      "text/plain": "  0%|          | 0/99 [00:00<?, ?it/s]",
      "application/vnd.jupyter.widget-view+json": {
       "version_major": 2,
       "version_minor": 0,
       "model_id": "f88b597886244a7c87561c80e256d751"
      }
     },
     "metadata": {},
     "output_type": "display_data"
    },
    {
     "name": "stdout",
     "text": "Train loss : 0.152\n",
     "output_type": "stream"
    },
    {
     "data": {
      "text/plain": "  0%|          | 0/99 [00:00<?, ?it/s]",
      "application/vnd.jupyter.widget-view+json": {
       "version_major": 2,
       "version_minor": 0,
       "model_id": "5016b752af09490a93ddda822131f3f5"
      }
     },
     "metadata": {},
     "output_type": "display_data"
    },
    {
     "name": "stdout",
     "text": "Train loss : 0.152\n",
     "output_type": "stream"
    },
    {
     "data": {
      "text/plain": "  0%|          | 0/99 [00:00<?, ?it/s]",
      "application/vnd.jupyter.widget-view+json": {
       "version_major": 2,
       "version_minor": 0,
       "model_id": "023b7435ab1b4390af0e5bea2c1a5e66"
      }
     },
     "metadata": {},
     "output_type": "display_data"
    },
    {
     "name": "stdout",
     "text": "Train loss : 0.151\n",
     "output_type": "stream"
    },
    {
     "data": {
      "text/plain": "  0%|          | 0/99 [00:00<?, ?it/s]",
      "application/vnd.jupyter.widget-view+json": {
       "version_major": 2,
       "version_minor": 0,
       "model_id": "0e26983ef49747248492a31a459b2122"
      }
     },
     "metadata": {},
     "output_type": "display_data"
    },
    {
     "name": "stdout",
     "text": "Train loss : 0.151\n",
     "output_type": "stream"
    },
    {
     "data": {
      "text/plain": "  0%|          | 0/99 [00:00<?, ?it/s]",
      "application/vnd.jupyter.widget-view+json": {
       "version_major": 2,
       "version_minor": 0,
       "model_id": "604382918aac416f867d7d845239a361"
      }
     },
     "metadata": {},
     "output_type": "display_data"
    },
    {
     "name": "stdout",
     "text": "Train loss : 0.151\n",
     "output_type": "stream"
    },
    {
     "data": {
      "text/plain": "  0%|          | 0/99 [00:00<?, ?it/s]",
      "application/vnd.jupyter.widget-view+json": {
       "version_major": 2,
       "version_minor": 0,
       "model_id": "ca8a6b564ff241ee9e9054d235891e81"
      }
     },
     "metadata": {},
     "output_type": "display_data"
    },
    {
     "name": "stdout",
     "text": "Train loss : 0.151\n",
     "output_type": "stream"
    },
    {
     "data": {
      "text/plain": "  0%|          | 0/99 [00:00<?, ?it/s]",
      "application/vnd.jupyter.widget-view+json": {
       "version_major": 2,
       "version_minor": 0,
       "model_id": "9d2c96522e684c809cc44625144a363b"
      }
     },
     "metadata": {},
     "output_type": "display_data"
    },
    {
     "name": "stdout",
     "text": "Train loss : 0.151\n",
     "output_type": "stream"
    },
    {
     "data": {
      "text/plain": "  0%|          | 0/99 [00:00<?, ?it/s]",
      "application/vnd.jupyter.widget-view+json": {
       "version_major": 2,
       "version_minor": 0,
       "model_id": "a31decd99f2c49708ea80678aaa1a92c"
      }
     },
     "metadata": {},
     "output_type": "display_data"
    },
    {
     "name": "stdout",
     "text": "Train loss : 0.150\n",
     "output_type": "stream"
    },
    {
     "data": {
      "text/plain": "  0%|          | 0/99 [00:00<?, ?it/s]",
      "application/vnd.jupyter.widget-view+json": {
       "version_major": 2,
       "version_minor": 0,
       "model_id": "f75d4423a4c24fa480f1e9acc8c4e7e3"
      }
     },
     "metadata": {},
     "output_type": "display_data"
    },
    {
     "name": "stdout",
     "text": "Train loss : 0.150\n",
     "output_type": "stream"
    },
    {
     "data": {
      "text/plain": "  0%|          | 0/99 [00:00<?, ?it/s]",
      "application/vnd.jupyter.widget-view+json": {
       "version_major": 2,
       "version_minor": 0,
       "model_id": "aef8a692469f47e79d1872a5b8af06f2"
      }
     },
     "metadata": {},
     "output_type": "display_data"
    },
    {
     "name": "stdout",
     "text": "Train loss : 0.150\n",
     "output_type": "stream"
    },
    {
     "data": {
      "text/plain": "  0%|          | 0/99 [00:00<?, ?it/s]",
      "application/vnd.jupyter.widget-view+json": {
       "version_major": 2,
       "version_minor": 0,
       "model_id": "bc38b9bb7b3b441683f144b00ab84fac"
      }
     },
     "metadata": {},
     "output_type": "display_data"
    },
    {
     "name": "stdout",
     "text": "Train loss : 0.150\n",
     "output_type": "stream"
    },
    {
     "data": {
      "text/plain": "  0%|          | 0/99 [00:00<?, ?it/s]",
      "application/vnd.jupyter.widget-view+json": {
       "version_major": 2,
       "version_minor": 0,
       "model_id": "d2de56310c35426a80f285e94a7d3995"
      }
     },
     "metadata": {},
     "output_type": "display_data"
    },
    {
     "name": "stdout",
     "text": "Train loss : 0.150\n",
     "output_type": "stream"
    },
    {
     "data": {
      "text/plain": "  0%|          | 0/99 [00:00<?, ?it/s]",
      "application/vnd.jupyter.widget-view+json": {
       "version_major": 2,
       "version_minor": 0,
       "model_id": "2491caf1ab724455b10518f724feccc3"
      }
     },
     "metadata": {},
     "output_type": "display_data"
    },
    {
     "name": "stdout",
     "text": "Train loss : 0.149\n",
     "output_type": "stream"
    },
    {
     "data": {
      "text/plain": "  0%|          | 0/99 [00:00<?, ?it/s]",
      "application/vnd.jupyter.widget-view+json": {
       "version_major": 2,
       "version_minor": 0,
       "model_id": "30e6f4fdd0c148fdbe281100841728ec"
      }
     },
     "metadata": {},
     "output_type": "display_data"
    },
    {
     "name": "stdout",
     "text": "Train loss : 0.149\n",
     "output_type": "stream"
    },
    {
     "data": {
      "text/plain": "  0%|          | 0/99 [00:00<?, ?it/s]",
      "application/vnd.jupyter.widget-view+json": {
       "version_major": 2,
       "version_minor": 0,
       "model_id": "78672c3f6c52469bbd28334e44ca3725"
      }
     },
     "metadata": {},
     "output_type": "display_data"
    },
    {
     "name": "stdout",
     "text": "Train loss : 0.149\n",
     "output_type": "stream"
    },
    {
     "data": {
      "text/plain": "  0%|          | 0/99 [00:00<?, ?it/s]",
      "application/vnd.jupyter.widget-view+json": {
       "version_major": 2,
       "version_minor": 0,
       "model_id": "c64fd3b117e143359449f6e901858e1e"
      }
     },
     "metadata": {},
     "output_type": "display_data"
    },
    {
     "name": "stdout",
     "text": "Train loss : 0.149\n",
     "output_type": "stream"
    },
    {
     "data": {
      "text/plain": "  0%|          | 0/99 [00:00<?, ?it/s]",
      "application/vnd.jupyter.widget-view+json": {
       "version_major": 2,
       "version_minor": 0,
       "model_id": "68414b8463c649f59f425b8e399c5d91"
      }
     },
     "metadata": {},
     "output_type": "display_data"
    },
    {
     "name": "stdout",
     "text": "Train loss : 0.149\n",
     "output_type": "stream"
    },
    {
     "data": {
      "text/plain": "  0%|          | 0/99 [00:00<?, ?it/s]",
      "application/vnd.jupyter.widget-view+json": {
       "version_major": 2,
       "version_minor": 0,
       "model_id": "be88498191fa4988928dc7794ba628fb"
      }
     },
     "metadata": {},
     "output_type": "display_data"
    },
    {
     "name": "stdout",
     "text": "Train loss : 0.149\n",
     "output_type": "stream"
    },
    {
     "data": {
      "text/plain": "  0%|          | 0/99 [00:00<?, ?it/s]",
      "application/vnd.jupyter.widget-view+json": {
       "version_major": 2,
       "version_minor": 0,
       "model_id": "4e6c4199a6a14afa87ee6f833991e30f"
      }
     },
     "metadata": {},
     "output_type": "display_data"
    },
    {
     "name": "stdout",
     "text": "Train loss : 0.148\n",
     "output_type": "stream"
    },
    {
     "data": {
      "text/plain": "  0%|          | 0/99 [00:00<?, ?it/s]",
      "application/vnd.jupyter.widget-view+json": {
       "version_major": 2,
       "version_minor": 0,
       "model_id": "b0c1f9837c8f46008afe68bfdef4d920"
      }
     },
     "metadata": {},
     "output_type": "display_data"
    },
    {
     "name": "stdout",
     "text": "Train loss : 0.148\n",
     "output_type": "stream"
    },
    {
     "data": {
      "text/plain": "  0%|          | 0/99 [00:00<?, ?it/s]",
      "application/vnd.jupyter.widget-view+json": {
       "version_major": 2,
       "version_minor": 0,
       "model_id": "2bc9ae8b957b4fc190bf4e091c1ff8e1"
      }
     },
     "metadata": {},
     "output_type": "display_data"
    },
    {
     "name": "stdout",
     "text": "Train loss : 0.148\n",
     "output_type": "stream"
    },
    {
     "data": {
      "text/plain": "  0%|          | 0/99 [00:00<?, ?it/s]",
      "application/vnd.jupyter.widget-view+json": {
       "version_major": 2,
       "version_minor": 0,
       "model_id": "eb2fdaf8958a479093e1aded69ecb2d1"
      }
     },
     "metadata": {},
     "output_type": "display_data"
    },
    {
     "name": "stdout",
     "text": "Train loss : 0.148\n",
     "output_type": "stream"
    },
    {
     "data": {
      "text/plain": "  0%|          | 0/99 [00:00<?, ?it/s]",
      "application/vnd.jupyter.widget-view+json": {
       "version_major": 2,
       "version_minor": 0,
       "model_id": "8ed66687237049d996559ae3766f57e5"
      }
     },
     "metadata": {},
     "output_type": "display_data"
    },
    {
     "name": "stdout",
     "text": "Train loss : 0.148\n",
     "output_type": "stream"
    },
    {
     "data": {
      "text/plain": "  0%|          | 0/99 [00:00<?, ?it/s]",
      "application/vnd.jupyter.widget-view+json": {
       "version_major": 2,
       "version_minor": 0,
       "model_id": "1082845aa8ed4f1b89eecaeab6000e68"
      }
     },
     "metadata": {},
     "output_type": "display_data"
    },
    {
     "name": "stdout",
     "text": "Train loss : 0.148\n",
     "output_type": "stream"
    },
    {
     "data": {
      "text/plain": "  0%|          | 0/99 [00:00<?, ?it/s]",
      "application/vnd.jupyter.widget-view+json": {
       "version_major": 2,
       "version_minor": 0,
       "model_id": "2e69e0dc3cb1411da07b76bff0d91824"
      }
     },
     "metadata": {},
     "output_type": "display_data"
    },
    {
     "name": "stdout",
     "text": "Train loss : 0.148\n",
     "output_type": "stream"
    },
    {
     "data": {
      "text/plain": "  0%|          | 0/99 [00:00<?, ?it/s]",
      "application/vnd.jupyter.widget-view+json": {
       "version_major": 2,
       "version_minor": 0,
       "model_id": "02e74b4ccd7c4402a6f2a0f558e16175"
      }
     },
     "metadata": {},
     "output_type": "display_data"
    },
    {
     "name": "stdout",
     "text": "Train loss : 0.147\n",
     "output_type": "stream"
    },
    {
     "data": {
      "text/plain": "  0%|          | 0/99 [00:00<?, ?it/s]",
      "application/vnd.jupyter.widget-view+json": {
       "version_major": 2,
       "version_minor": 0,
       "model_id": "d7f14f3f43e441c3819de80fdee52c20"
      }
     },
     "metadata": {},
     "output_type": "display_data"
    },
    {
     "name": "stdout",
     "text": "Train loss : 0.147\n",
     "output_type": "stream"
    },
    {
     "data": {
      "text/plain": "  0%|          | 0/99 [00:00<?, ?it/s]",
      "application/vnd.jupyter.widget-view+json": {
       "version_major": 2,
       "version_minor": 0,
       "model_id": "a89c23ffe4eb4b63ad60e88cf0618bca"
      }
     },
     "metadata": {},
     "output_type": "display_data"
    },
    {
     "name": "stdout",
     "text": "Train loss : 0.147\n",
     "output_type": "stream"
    },
    {
     "data": {
      "text/plain": "  0%|          | 0/99 [00:00<?, ?it/s]",
      "application/vnd.jupyter.widget-view+json": {
       "version_major": 2,
       "version_minor": 0,
       "model_id": "a70fb77b2bbd4f48a651e60932510d40"
      }
     },
     "metadata": {},
     "output_type": "display_data"
    },
    {
     "name": "stdout",
     "text": "Train loss : 0.147\n",
     "output_type": "stream"
    },
    {
     "data": {
      "text/plain": "  0%|          | 0/99 [00:00<?, ?it/s]",
      "application/vnd.jupyter.widget-view+json": {
       "version_major": 2,
       "version_minor": 0,
       "model_id": "24eba629c3d34aad87dff1fa0ac6f241"
      }
     },
     "metadata": {},
     "output_type": "display_data"
    },
    {
     "name": "stdout",
     "text": "Train loss : 0.147\n",
     "output_type": "stream"
    },
    {
     "data": {
      "text/plain": "  0%|          | 0/99 [00:00<?, ?it/s]",
      "application/vnd.jupyter.widget-view+json": {
       "version_major": 2,
       "version_minor": 0,
       "model_id": "41b261e9db7a4dfd875b40163fedf0f7"
      }
     },
     "metadata": {},
     "output_type": "display_data"
    },
    {
     "name": "stdout",
     "text": "Train loss : 0.147\n",
     "output_type": "stream"
    },
    {
     "data": {
      "text/plain": "  0%|          | 0/99 [00:00<?, ?it/s]",
      "application/vnd.jupyter.widget-view+json": {
       "version_major": 2,
       "version_minor": 0,
       "model_id": "ccb7229484ad46d5bb549b52ab9a2293"
      }
     },
     "metadata": {},
     "output_type": "display_data"
    },
    {
     "name": "stdout",
     "text": "Train loss : 0.147\n",
     "output_type": "stream"
    },
    {
     "data": {
      "text/plain": "  0%|          | 0/99 [00:00<?, ?it/s]",
      "application/vnd.jupyter.widget-view+json": {
       "version_major": 2,
       "version_minor": 0,
       "model_id": "1dc77d3d62f24e71bae9c23591e16695"
      }
     },
     "metadata": {},
     "output_type": "display_data"
    },
    {
     "name": "stdout",
     "text": "Train loss : 0.146\n",
     "output_type": "stream"
    },
    {
     "data": {
      "text/plain": "  0%|          | 0/99 [00:00<?, ?it/s]",
      "application/vnd.jupyter.widget-view+json": {
       "version_major": 2,
       "version_minor": 0,
       "model_id": "0a228a6a934646ef922bd21c96ea5beb"
      }
     },
     "metadata": {},
     "output_type": "display_data"
    },
    {
     "name": "stdout",
     "text": "Train loss : 0.146\n",
     "output_type": "stream"
    },
    {
     "data": {
      "text/plain": "  0%|          | 0/99 [00:00<?, ?it/s]",
      "application/vnd.jupyter.widget-view+json": {
       "version_major": 2,
       "version_minor": 0,
       "model_id": "27d63a76566649549a172a97a5c297d6"
      }
     },
     "metadata": {},
     "output_type": "display_data"
    },
    {
     "name": "stdout",
     "text": "Train loss : 0.146\n",
     "output_type": "stream"
    },
    {
     "data": {
      "text/plain": "  0%|          | 0/99 [00:00<?, ?it/s]",
      "application/vnd.jupyter.widget-view+json": {
       "version_major": 2,
       "version_minor": 0,
       "model_id": "54e3ce4be2e9463786cf1effd247e083"
      }
     },
     "metadata": {},
     "output_type": "display_data"
    },
    {
     "name": "stdout",
     "text": "Train loss : 0.146\n",
     "output_type": "stream"
    },
    {
     "data": {
      "text/plain": "  0%|          | 0/99 [00:00<?, ?it/s]",
      "application/vnd.jupyter.widget-view+json": {
       "version_major": 2,
       "version_minor": 0,
       "model_id": "66216cc8e454499abb59b7b99175b706"
      }
     },
     "metadata": {},
     "output_type": "display_data"
    },
    {
     "name": "stdout",
     "text": "Train loss : 0.146\n",
     "output_type": "stream"
    },
    {
     "data": {
      "text/plain": "  0%|          | 0/99 [00:00<?, ?it/s]",
      "application/vnd.jupyter.widget-view+json": {
       "version_major": 2,
       "version_minor": 0,
       "model_id": "7da27b2d419444e5afd18d2a71969d77"
      }
     },
     "metadata": {},
     "output_type": "display_data"
    },
    {
     "name": "stdout",
     "text": "Train loss : 0.146\n",
     "output_type": "stream"
    },
    {
     "data": {
      "text/plain": "  0%|          | 0/99 [00:00<?, ?it/s]",
      "application/vnd.jupyter.widget-view+json": {
       "version_major": 2,
       "version_minor": 0,
       "model_id": "a300551357814abcade3e905265618a9"
      }
     },
     "metadata": {},
     "output_type": "display_data"
    },
    {
     "name": "stdout",
     "text": "Train loss : 0.146\n",
     "output_type": "stream"
    },
    {
     "data": {
      "text/plain": "  0%|          | 0/99 [00:00<?, ?it/s]",
      "application/vnd.jupyter.widget-view+json": {
       "version_major": 2,
       "version_minor": 0,
       "model_id": "cdf7dc33d43f4b04b2e52e9f75e2b567"
      }
     },
     "metadata": {},
     "output_type": "display_data"
    },
    {
     "name": "stdout",
     "text": "Train loss : 0.146\n",
     "output_type": "stream"
    },
    {
     "data": {
      "text/plain": "  0%|          | 0/99 [00:00<?, ?it/s]",
      "application/vnd.jupyter.widget-view+json": {
       "version_major": 2,
       "version_minor": 0,
       "model_id": "f1501ac44cfa4cd5aad7c1c1556a3778"
      }
     },
     "metadata": {},
     "output_type": "display_data"
    },
    {
     "name": "stdout",
     "text": "Train loss : 0.146\n",
     "output_type": "stream"
    },
    {
     "data": {
      "text/plain": "  0%|          | 0/99 [00:00<?, ?it/s]",
      "application/vnd.jupyter.widget-view+json": {
       "version_major": 2,
       "version_minor": 0,
       "model_id": "c5ef099bf8244f439b459bbcf5404944"
      }
     },
     "metadata": {},
     "output_type": "display_data"
    },
    {
     "name": "stdout",
     "text": "Train loss : 0.146\n",
     "output_type": "stream"
    },
    {
     "data": {
      "text/plain": "  0%|          | 0/99 [00:00<?, ?it/s]",
      "application/vnd.jupyter.widget-view+json": {
       "version_major": 2,
       "version_minor": 0,
       "model_id": "c04f770b6a1140cebcdae16ef27ecf1f"
      }
     },
     "metadata": {},
     "output_type": "display_data"
    },
    {
     "name": "stdout",
     "text": "Train loss : 0.145\n",
     "output_type": "stream"
    },
    {
     "data": {
      "text/plain": "  0%|          | 0/99 [00:00<?, ?it/s]",
      "application/vnd.jupyter.widget-view+json": {
       "version_major": 2,
       "version_minor": 0,
       "model_id": "83d1993cca114d5b846222915fca4aff"
      }
     },
     "metadata": {},
     "output_type": "display_data"
    },
    {
     "name": "stdout",
     "text": "Train loss : 0.145\n",
     "output_type": "stream"
    },
    {
     "data": {
      "text/plain": "  0%|          | 0/99 [00:00<?, ?it/s]",
      "application/vnd.jupyter.widget-view+json": {
       "version_major": 2,
       "version_minor": 0,
       "model_id": "505ed62ae8cd4645b9c0ce0750a4be6a"
      }
     },
     "metadata": {},
     "output_type": "display_data"
    },
    {
     "name": "stdout",
     "text": "Train loss : 0.145\n",
     "output_type": "stream"
    },
    {
     "data": {
      "text/plain": "  0%|          | 0/99 [00:00<?, ?it/s]",
      "application/vnd.jupyter.widget-view+json": {
       "version_major": 2,
       "version_minor": 0,
       "model_id": "5335a26a0f8148ac82993d7b730b71f0"
      }
     },
     "metadata": {},
     "output_type": "display_data"
    },
    {
     "name": "stdout",
     "text": "Train loss : 0.145\n",
     "output_type": "stream"
    },
    {
     "data": {
      "text/plain": "  0%|          | 0/99 [00:00<?, ?it/s]",
      "application/vnd.jupyter.widget-view+json": {
       "version_major": 2,
       "version_minor": 0,
       "model_id": "d5c9ee94f1a74e40a31dee5c43bd26f9"
      }
     },
     "metadata": {},
     "output_type": "display_data"
    },
    {
     "name": "stdout",
     "text": "Train loss : 0.145\n",
     "output_type": "stream"
    },
    {
     "data": {
      "text/plain": "  0%|          | 0/99 [00:00<?, ?it/s]",
      "application/vnd.jupyter.widget-view+json": {
       "version_major": 2,
       "version_minor": 0,
       "model_id": "0f1d48244ea04a4ca95efdacb4de1f05"
      }
     },
     "metadata": {},
     "output_type": "display_data"
    },
    {
     "name": "stdout",
     "text": "Train loss : 0.145\n",
     "output_type": "stream"
    },
    {
     "data": {
      "text/plain": "  0%|          | 0/99 [00:00<?, ?it/s]",
      "application/vnd.jupyter.widget-view+json": {
       "version_major": 2,
       "version_minor": 0,
       "model_id": "fe5d20cba8254bdeb1c79a129a55719a"
      }
     },
     "metadata": {},
     "output_type": "display_data"
    },
    {
     "name": "stdout",
     "text": "Train loss : 0.145\n",
     "output_type": "stream"
    },
    {
     "data": {
      "text/plain": "  0%|          | 0/99 [00:00<?, ?it/s]",
      "application/vnd.jupyter.widget-view+json": {
       "version_major": 2,
       "version_minor": 0,
       "model_id": "4d0a1f6e1db745269abad5540d993241"
      }
     },
     "metadata": {},
     "output_type": "display_data"
    },
    {
     "name": "stdout",
     "text": "Train loss : 0.145\n",
     "output_type": "stream"
    },
    {
     "data": {
      "text/plain": "  0%|          | 0/99 [00:00<?, ?it/s]",
      "application/vnd.jupyter.widget-view+json": {
       "version_major": 2,
       "version_minor": 0,
       "model_id": "28c635a844434aafb816ddf7908370e6"
      }
     },
     "metadata": {},
     "output_type": "display_data"
    },
    {
     "name": "stdout",
     "text": "Train loss : 0.145\n",
     "output_type": "stream"
    },
    {
     "data": {
      "text/plain": "  0%|          | 0/99 [00:00<?, ?it/s]",
      "application/vnd.jupyter.widget-view+json": {
       "version_major": 2,
       "version_minor": 0,
       "model_id": "bf6c7a4be1804c08b65ae02d6e4e9fcd"
      }
     },
     "metadata": {},
     "output_type": "display_data"
    },
    {
     "name": "stdout",
     "text": "Train loss : 0.145\n",
     "output_type": "stream"
    },
    {
     "data": {
      "text/plain": "  0%|          | 0/99 [00:00<?, ?it/s]",
      "application/vnd.jupyter.widget-view+json": {
       "version_major": 2,
       "version_minor": 0,
       "model_id": "aab3db383bf4404ea215fb3a37d2d4bd"
      }
     },
     "metadata": {},
     "output_type": "display_data"
    },
    {
     "name": "stdout",
     "text": "Train loss : 0.144\n",
     "output_type": "stream"
    },
    {
     "data": {
      "text/plain": "  0%|          | 0/99 [00:00<?, ?it/s]",
      "application/vnd.jupyter.widget-view+json": {
       "version_major": 2,
       "version_minor": 0,
       "model_id": "af1f422e425a4730966b03a6180a2e61"
      }
     },
     "metadata": {},
     "output_type": "display_data"
    },
    {
     "name": "stdout",
     "text": "Train loss : 0.144\n",
     "output_type": "stream"
    },
    {
     "data": {
      "text/plain": "  0%|          | 0/99 [00:00<?, ?it/s]",
      "application/vnd.jupyter.widget-view+json": {
       "version_major": 2,
       "version_minor": 0,
       "model_id": "db4dafa445a54af8bea444791ca94a07"
      }
     },
     "metadata": {},
     "output_type": "display_data"
    },
    {
     "name": "stdout",
     "text": "Train loss : 0.144\n",
     "output_type": "stream"
    },
    {
     "data": {
      "text/plain": "  0%|          | 0/99 [00:00<?, ?it/s]",
      "application/vnd.jupyter.widget-view+json": {
       "version_major": 2,
       "version_minor": 0,
       "model_id": "67261f379c2b43adb36409cf747961e2"
      }
     },
     "metadata": {},
     "output_type": "display_data"
    },
    {
     "name": "stdout",
     "text": "Train loss : 0.144\n",
     "output_type": "stream"
    },
    {
     "data": {
      "text/plain": "  0%|          | 0/99 [00:00<?, ?it/s]",
      "application/vnd.jupyter.widget-view+json": {
       "version_major": 2,
       "version_minor": 0,
       "model_id": "0379361b4dde44cbbe0e6e132a238cdf"
      }
     },
     "metadata": {},
     "output_type": "display_data"
    },
    {
     "name": "stdout",
     "text": "Train loss : 0.144\n",
     "output_type": "stream"
    },
    {
     "data": {
      "text/plain": "  0%|          | 0/99 [00:00<?, ?it/s]",
      "application/vnd.jupyter.widget-view+json": {
       "version_major": 2,
       "version_minor": 0,
       "model_id": "146c089873204f4e88b98da4c3f495b3"
      }
     },
     "metadata": {},
     "output_type": "display_data"
    },
    {
     "name": "stdout",
     "text": "Train loss : 0.144\n",
     "output_type": "stream"
    },
    {
     "data": {
      "text/plain": "  0%|          | 0/99 [00:00<?, ?it/s]",
      "application/vnd.jupyter.widget-view+json": {
       "version_major": 2,
       "version_minor": 0,
       "model_id": "632e1ad1ef65487b8bd67b5389efeedf"
      }
     },
     "metadata": {},
     "output_type": "display_data"
    },
    {
     "name": "stdout",
     "text": "Train loss : 0.144\n",
     "output_type": "stream"
    },
    {
     "data": {
      "text/plain": "  0%|          | 0/99 [00:00<?, ?it/s]",
      "application/vnd.jupyter.widget-view+json": {
       "version_major": 2,
       "version_minor": 0,
       "model_id": "4ce0ef379f354828a30325c741df39d0"
      }
     },
     "metadata": {},
     "output_type": "display_data"
    },
    {
     "name": "stdout",
     "text": "Train loss : 0.144\n",
     "output_type": "stream"
    },
    {
     "data": {
      "text/plain": "  0%|          | 0/99 [00:00<?, ?it/s]",
      "application/vnd.jupyter.widget-view+json": {
       "version_major": 2,
       "version_minor": 0,
       "model_id": "37ff40ebc1bf4fa0ad00393049328ac7"
      }
     },
     "metadata": {},
     "output_type": "display_data"
    },
    {
     "name": "stdout",
     "text": "Train loss : 0.144\n",
     "output_type": "stream"
    },
    {
     "data": {
      "text/plain": "  0%|          | 0/99 [00:00<?, ?it/s]",
      "application/vnd.jupyter.widget-view+json": {
       "version_major": 2,
       "version_minor": 0,
       "model_id": "506031047d3844cca7cd57c4cf07f857"
      }
     },
     "metadata": {},
     "output_type": "display_data"
    },
    {
     "name": "stdout",
     "text": "Train loss : 0.144\n",
     "output_type": "stream"
    },
    {
     "data": {
      "text/plain": "  0%|          | 0/99 [00:00<?, ?it/s]",
      "application/vnd.jupyter.widget-view+json": {
       "version_major": 2,
       "version_minor": 0,
       "model_id": "901083963a8748548daaa0dcea93220c"
      }
     },
     "metadata": {},
     "output_type": "display_data"
    },
    {
     "name": "stdout",
     "text": "Train loss : 0.144\n",
     "output_type": "stream"
    },
    {
     "data": {
      "text/plain": "  0%|          | 0/99 [00:00<?, ?it/s]",
      "application/vnd.jupyter.widget-view+json": {
       "version_major": 2,
       "version_minor": 0,
       "model_id": "9ead0d66f6db4112be0a4f9304985f13"
      }
     },
     "metadata": {},
     "output_type": "display_data"
    },
    {
     "name": "stdout",
     "text": "Train loss : 0.144\n",
     "output_type": "stream"
    },
    {
     "data": {
      "text/plain": "  0%|          | 0/99 [00:00<?, ?it/s]",
      "application/vnd.jupyter.widget-view+json": {
       "version_major": 2,
       "version_minor": 0,
       "model_id": "0b3f15a100ff4b3dadc997ee942fe902"
      }
     },
     "metadata": {},
     "output_type": "display_data"
    },
    {
     "name": "stdout",
     "text": "Train loss : 0.144\n",
     "output_type": "stream"
    },
    {
     "data": {
      "text/plain": "  0%|          | 0/99 [00:00<?, ?it/s]",
      "application/vnd.jupyter.widget-view+json": {
       "version_major": 2,
       "version_minor": 0,
       "model_id": "914a1e956db34b42ba8c92643eb1bcd5"
      }
     },
     "metadata": {},
     "output_type": "display_data"
    },
    {
     "name": "stdout",
     "text": "Train loss : 0.144\n",
     "output_type": "stream"
    },
    {
     "data": {
      "text/plain": "  0%|          | 0/99 [00:00<?, ?it/s]",
      "application/vnd.jupyter.widget-view+json": {
       "version_major": 2,
       "version_minor": 0,
       "model_id": "b4a330156f9e4c9b89bf1c5a87457091"
      }
     },
     "metadata": {},
     "output_type": "display_data"
    },
    {
     "name": "stdout",
     "text": "Train loss : 0.143\n",
     "output_type": "stream"
    },
    {
     "data": {
      "text/plain": "  0%|          | 0/99 [00:00<?, ?it/s]",
      "application/vnd.jupyter.widget-view+json": {
       "version_major": 2,
       "version_minor": 0,
       "model_id": "2e1a56cc34f8485d834313579ed3b1b9"
      }
     },
     "metadata": {},
     "output_type": "display_data"
    },
    {
     "name": "stdout",
     "text": "Train loss : 0.143\n",
     "output_type": "stream"
    },
    {
     "data": {
      "text/plain": "  0%|          | 0/99 [00:00<?, ?it/s]",
      "application/vnd.jupyter.widget-view+json": {
       "version_major": 2,
       "version_minor": 0,
       "model_id": "1e7ea228694c4a9c82aca9a11920911f"
      }
     },
     "metadata": {},
     "output_type": "display_data"
    },
    {
     "name": "stdout",
     "text": "Train loss : 0.143\n",
     "output_type": "stream"
    },
    {
     "data": {
      "text/plain": "  0%|          | 0/99 [00:00<?, ?it/s]",
      "application/vnd.jupyter.widget-view+json": {
       "version_major": 2,
       "version_minor": 0,
       "model_id": "6002e72fce3d40b8b050ba565f055bb4"
      }
     },
     "metadata": {},
     "output_type": "display_data"
    },
    {
     "name": "stdout",
     "text": "Train loss : 0.143\n",
     "output_type": "stream"
    },
    {
     "data": {
      "text/plain": "  0%|          | 0/99 [00:00<?, ?it/s]",
      "application/vnd.jupyter.widget-view+json": {
       "version_major": 2,
       "version_minor": 0,
       "model_id": "0fe7d218723b4cb39107fb376566a718"
      }
     },
     "metadata": {},
     "output_type": "display_data"
    },
    {
     "name": "stdout",
     "text": "Train loss : 0.143\n",
     "output_type": "stream"
    },
    {
     "data": {
      "text/plain": "  0%|          | 0/99 [00:00<?, ?it/s]",
      "application/vnd.jupyter.widget-view+json": {
       "version_major": 2,
       "version_minor": 0,
       "model_id": "36f002ae8038476d944f23f5ef590539"
      }
     },
     "metadata": {},
     "output_type": "display_data"
    },
    {
     "name": "stdout",
     "text": "Train loss : 0.143\n",
     "output_type": "stream"
    },
    {
     "data": {
      "text/plain": "  0%|          | 0/99 [00:00<?, ?it/s]",
      "application/vnd.jupyter.widget-view+json": {
       "version_major": 2,
       "version_minor": 0,
       "model_id": "f4854752f56c4d1aa02dc3c2abbe90ff"
      }
     },
     "metadata": {},
     "output_type": "display_data"
    },
    {
     "name": "stdout",
     "text": "Train loss : 0.143\n",
     "output_type": "stream"
    },
    {
     "data": {
      "text/plain": "  0%|          | 0/99 [00:00<?, ?it/s]",
      "application/vnd.jupyter.widget-view+json": {
       "version_major": 2,
       "version_minor": 0,
       "model_id": "75771fb11a9f4794926cbaa6f7b3197b"
      }
     },
     "metadata": {},
     "output_type": "display_data"
    },
    {
     "name": "stdout",
     "text": "Train loss : 0.143\n",
     "output_type": "stream"
    },
    {
     "data": {
      "text/plain": "  0%|          | 0/99 [00:00<?, ?it/s]",
      "application/vnd.jupyter.widget-view+json": {
       "version_major": 2,
       "version_minor": 0,
       "model_id": "ea8d86bb4e364f26aa1ff5a955c887cb"
      }
     },
     "metadata": {},
     "output_type": "display_data"
    },
    {
     "name": "stdout",
     "text": "Train loss : 0.143\n",
     "output_type": "stream"
    },
    {
     "data": {
      "text/plain": "  0%|          | 0/99 [00:00<?, ?it/s]",
      "application/vnd.jupyter.widget-view+json": {
       "version_major": 2,
       "version_minor": 0,
       "model_id": "00b81e5b91684e57bec19d5358fc2909"
      }
     },
     "metadata": {},
     "output_type": "display_data"
    },
    {
     "name": "stdout",
     "text": "Train loss : 0.143\n",
     "output_type": "stream"
    },
    {
     "data": {
      "text/plain": "  0%|          | 0/99 [00:00<?, ?it/s]",
      "application/vnd.jupyter.widget-view+json": {
       "version_major": 2,
       "version_minor": 0,
       "model_id": "428b0cef96da4c42afcc61c2109112f1"
      }
     },
     "metadata": {},
     "output_type": "display_data"
    },
    {
     "name": "stdout",
     "text": "Train loss : 0.143\n",
     "output_type": "stream"
    },
    {
     "data": {
      "text/plain": "  0%|          | 0/99 [00:00<?, ?it/s]",
      "application/vnd.jupyter.widget-view+json": {
       "version_major": 2,
       "version_minor": 0,
       "model_id": "78ffd0c95e9543e9aa96833789c2c1da"
      }
     },
     "metadata": {},
     "output_type": "display_data"
    },
    {
     "name": "stdout",
     "text": "Train loss : 0.143\n",
     "output_type": "stream"
    },
    {
     "data": {
      "text/plain": "  0%|          | 0/99 [00:00<?, ?it/s]",
      "application/vnd.jupyter.widget-view+json": {
       "version_major": 2,
       "version_minor": 0,
       "model_id": "ba64e5634d8d40018afc08558ab0ebfb"
      }
     },
     "metadata": {},
     "output_type": "display_data"
    },
    {
     "name": "stdout",
     "text": "Train loss : 0.143\n",
     "output_type": "stream"
    },
    {
     "data": {
      "text/plain": "  0%|          | 0/99 [00:00<?, ?it/s]",
      "application/vnd.jupyter.widget-view+json": {
       "version_major": 2,
       "version_minor": 0,
       "model_id": "70b819c9eabc4cdb911a06a58fc7509e"
      }
     },
     "metadata": {},
     "output_type": "display_data"
    },
    {
     "name": "stdout",
     "text": "Train loss : 0.143\n",
     "output_type": "stream"
    },
    {
     "data": {
      "text/plain": "  0%|          | 0/99 [00:00<?, ?it/s]",
      "application/vnd.jupyter.widget-view+json": {
       "version_major": 2,
       "version_minor": 0,
       "model_id": "4c880b2ae6cd42158586f780a2f26308"
      }
     },
     "metadata": {},
     "output_type": "display_data"
    },
    {
     "name": "stdout",
     "text": "Train loss : 0.143\n",
     "output_type": "stream"
    },
    {
     "data": {
      "text/plain": "  0%|          | 0/99 [00:00<?, ?it/s]",
      "application/vnd.jupyter.widget-view+json": {
       "version_major": 2,
       "version_minor": 0,
       "model_id": "84da856ba0644180821685acc6b405cd"
      }
     },
     "metadata": {},
     "output_type": "display_data"
    },
    {
     "name": "stdout",
     "text": "Train loss : 0.143\n",
     "output_type": "stream"
    },
    {
     "data": {
      "text/plain": "  0%|          | 0/99 [00:00<?, ?it/s]",
      "application/vnd.jupyter.widget-view+json": {
       "version_major": 2,
       "version_minor": 0,
       "model_id": "60aad9a767d346ec9d37bfe36e340f7e"
      }
     },
     "metadata": {},
     "output_type": "display_data"
    },
    {
     "name": "stdout",
     "text": "Train loss : 0.142\n",
     "output_type": "stream"
    },
    {
     "data": {
      "text/plain": "  0%|          | 0/99 [00:00<?, ?it/s]",
      "application/vnd.jupyter.widget-view+json": {
       "version_major": 2,
       "version_minor": 0,
       "model_id": "8726a958c9e147e7b4c3df9282a2b770"
      }
     },
     "metadata": {},
     "output_type": "display_data"
    },
    {
     "name": "stdout",
     "text": "Train loss : 0.142\n",
     "output_type": "stream"
    },
    {
     "data": {
      "text/plain": "  0%|          | 0/99 [00:00<?, ?it/s]",
      "application/vnd.jupyter.widget-view+json": {
       "version_major": 2,
       "version_minor": 0,
       "model_id": "d86168d42d924e748ae920d2b8de61cd"
      }
     },
     "metadata": {},
     "output_type": "display_data"
    },
    {
     "name": "stdout",
     "text": "Train loss : 0.142\n",
     "output_type": "stream"
    },
    {
     "data": {
      "text/plain": "  0%|          | 0/99 [00:00<?, ?it/s]",
      "application/vnd.jupyter.widget-view+json": {
       "version_major": 2,
       "version_minor": 0,
       "model_id": "52232e73617045c6ac509232592013c2"
      }
     },
     "metadata": {},
     "output_type": "display_data"
    },
    {
     "name": "stdout",
     "text": "Train loss : 0.142\n",
     "output_type": "stream"
    },
    {
     "data": {
      "text/plain": "  0%|          | 0/99 [00:00<?, ?it/s]",
      "application/vnd.jupyter.widget-view+json": {
       "version_major": 2,
       "version_minor": 0,
       "model_id": "df176a9aa6d94fb9a04a38b53c4a62a6"
      }
     },
     "metadata": {},
     "output_type": "display_data"
    },
    {
     "name": "stdout",
     "text": "Train loss : 0.142\n",
     "output_type": "stream"
    },
    {
     "data": {
      "text/plain": "  0%|          | 0/99 [00:00<?, ?it/s]",
      "application/vnd.jupyter.widget-view+json": {
       "version_major": 2,
       "version_minor": 0,
       "model_id": "e3bc5cdddbdf40eab1308aceefe0fcb9"
      }
     },
     "metadata": {},
     "output_type": "display_data"
    },
    {
     "name": "stdout",
     "text": "Train loss : 0.142\n",
     "output_type": "stream"
    },
    {
     "data": {
      "text/plain": "  0%|          | 0/99 [00:00<?, ?it/s]",
      "application/vnd.jupyter.widget-view+json": {
       "version_major": 2,
       "version_minor": 0,
       "model_id": "583d6af0c0c04064a5a3bb57fb61e200"
      }
     },
     "metadata": {},
     "output_type": "display_data"
    },
    {
     "name": "stdout",
     "text": "Train loss : 0.142\n",
     "output_type": "stream"
    },
    {
     "data": {
      "text/plain": "  0%|          | 0/99 [00:00<?, ?it/s]",
      "application/vnd.jupyter.widget-view+json": {
       "version_major": 2,
       "version_minor": 0,
       "model_id": "0f275ed9441f46db94161f76bfde6495"
      }
     },
     "metadata": {},
     "output_type": "display_data"
    },
    {
     "name": "stdout",
     "text": "Train loss : 0.142\n",
     "output_type": "stream"
    },
    {
     "data": {
      "text/plain": "  0%|          | 0/99 [00:00<?, ?it/s]",
      "application/vnd.jupyter.widget-view+json": {
       "version_major": 2,
       "version_minor": 0,
       "model_id": "cc44f38b88d04efeaddbcc69b8f72e60"
      }
     },
     "metadata": {},
     "output_type": "display_data"
    },
    {
     "name": "stdout",
     "text": "Train loss : 0.142\n",
     "output_type": "stream"
    },
    {
     "data": {
      "text/plain": "  0%|          | 0/99 [00:00<?, ?it/s]",
      "application/vnd.jupyter.widget-view+json": {
       "version_major": 2,
       "version_minor": 0,
       "model_id": "e33cd1a676e249bf89117f3a5f5ae871"
      }
     },
     "metadata": {},
     "output_type": "display_data"
    },
    {
     "name": "stdout",
     "text": "Train loss : 0.142\n",
     "output_type": "stream"
    },
    {
     "data": {
      "text/plain": "  0%|          | 0/99 [00:00<?, ?it/s]",
      "application/vnd.jupyter.widget-view+json": {
       "version_major": 2,
       "version_minor": 0,
       "model_id": "0bf7c38c3ce44e0bb07a4782119a08ce"
      }
     },
     "metadata": {},
     "output_type": "display_data"
    },
    {
     "name": "stdout",
     "text": "Train loss : 0.142\n",
     "output_type": "stream"
    },
    {
     "data": {
      "text/plain": "  0%|          | 0/99 [00:00<?, ?it/s]",
      "application/vnd.jupyter.widget-view+json": {
       "version_major": 2,
       "version_minor": 0,
       "model_id": "edd8e44ce35f46a4b6153a4c7474ce1c"
      }
     },
     "metadata": {},
     "output_type": "display_data"
    },
    {
     "name": "stdout",
     "text": "Train loss : 0.142\n",
     "output_type": "stream"
    },
    {
     "data": {
      "text/plain": "  0%|          | 0/99 [00:00<?, ?it/s]",
      "application/vnd.jupyter.widget-view+json": {
       "version_major": 2,
       "version_minor": 0,
       "model_id": "959ceae7fa8140ac8a415379af2935c8"
      }
     },
     "metadata": {},
     "output_type": "display_data"
    },
    {
     "name": "stdout",
     "text": "Train loss : 0.142\n",
     "output_type": "stream"
    },
    {
     "data": {
      "text/plain": "  0%|          | 0/99 [00:00<?, ?it/s]",
      "application/vnd.jupyter.widget-view+json": {
       "version_major": 2,
       "version_minor": 0,
       "model_id": "137643f63c174ef99851e53a65cbf1f6"
      }
     },
     "metadata": {},
     "output_type": "display_data"
    },
    {
     "name": "stdout",
     "text": "Train loss : 0.142\n",
     "output_type": "stream"
    }
   ]
  },
  {
   "cell_type": "markdown",
   "source": "The visualisation doesn't work very well but the code runs well to the end. ",
   "metadata": {
    "tags": [],
    "cell_id": "00048-ff9dafd1-780e-4f65-bb7a-db27cfab98f0",
    "deepnote_cell_type": "markdown"
   }
  },
  {
   "cell_type": "code",
   "metadata": {
    "tags": [],
    "cell_id": "00035-d3223f1d-522e-42de-935d-c1219d36868b",
    "deepnote_to_be_reexecuted": false,
    "source_hash": "65e89e45",
    "execution_start": 1622149466534,
    "execution_millis": 199,
    "deepnote_cell_type": "code"
   },
   "source": "def validation(model: torch.nn.Module, val_loader: torch.utils.data.DataLoader):\n\n    loss_metric = metrics.LossMetric()\n\n    pbar = tqdm(total = len(val_loader), leave=True)\n    \n    model.eval()\n\n    with torch.no_grad():\n\n        for data in val_loader :\n            X_val = data[:, :110].reshape(-1, 110)\n            y_val = data[:, 110].reshape(-1,1)\n\n            out = model(X_val.float()).reshape(-1,1)\n\n            loss = loss_fn(out, y_val.float())\n            loss_metric.update(loss.item(), data.shape[0])\n\n            pbar.update()\n\n    print(f\"Loss : {loss_metric.compute():.4f}\")\n\nvalidation(model, val_loader)",
   "execution_count": null,
   "outputs": [
    {
     "data": {
      "text/plain": "  0%|          | 0/12 [00:00<?, ?it/s]",
      "application/vnd.jupyter.widget-view+json": {
       "version_major": 2,
       "version_minor": 0,
       "model_id": "e50b3cceadb8489cb3f59bc5bd7abe3f"
      }
     },
     "metadata": {},
     "output_type": "display_data"
    },
    {
     "name": "stdout",
     "text": "Loss : 0.1343\n",
     "output_type": "stream"
    }
   ]
  },
  {
   "cell_type": "code",
   "metadata": {
    "tags": [],
    "cell_id": "00036-5296b9a4-42e7-4ac4-830f-1d9bda6d25e2",
    "deepnote_to_be_reexecuted": false,
    "source_hash": "9058aac0",
    "execution_start": 1622149466740,
    "execution_millis": 13,
    "deepnote_cell_type": "code"
   },
   "source": "#output\npredictions = model.predict(test_data.float()).reshape(-1,1)\nprint(predictions)\npredictions.type()",
   "execution_count": null,
   "outputs": [
    {
     "name": "stdout",
     "text": "tensor([[0.5293],\n        [1.1697],\n        [1.4241],\n        ...,\n        [0.9800],\n        [1.2310],\n        [1.8558]], grad_fn=<ViewBackward>)\n",
     "output_type": "stream"
    },
    {
     "output_type": "execute_result",
     "execution_count": 33,
     "data": {
      "text/plain": "'torch.FloatTensor'"
     },
     "metadata": {}
    }
   ]
  },
  {
   "cell_type": "code",
   "metadata": {
    "tags": [],
    "cell_id": "00037-91a5741f-977b-4eae-871f-86031014c589",
    "deepnote_to_be_reexecuted": false,
    "source_hash": "2b32a57",
    "execution_start": 1622149466759,
    "execution_millis": 3,
    "deepnote_cell_type": "code"
   },
   "source": "np_pred = predictions.cpu().detach().numpy()",
   "execution_count": null,
   "outputs": []
  },
  {
   "cell_type": "code",
   "metadata": {
    "tags": [],
    "cell_id": "00038-f9d906eb-4e26-4830-8ad1-a5796e9d3c4f",
    "deepnote_to_be_reexecuted": false,
    "source_hash": "fac80d55",
    "execution_start": 1622149466766,
    "execution_millis": 82,
    "deepnote_cell_type": "code"
   },
   "source": "#converting numpy predictions to CSV\nnp.savetxt('NN1340.csv', np_pred, delimiter=',', header='sat1_col')",
   "execution_count": null,
   "outputs": []
  },
  {
   "cell_type": "markdown",
   "source": "### 4. Discussion",
   "metadata": {
    "tags": [],
    "cell_id": "00041-15d1dba3-f5d4-44c6-b986-6f492f503746",
    "deepnote_cell_type": "text-cell-h3"
   }
  },
  {
   "cell_type": "markdown",
   "source": "_Which machine learning techniques did you try? Which of them worked the best, and\nwhy do you think this is the case?_\n\nWe tried several techniques. \n\nAt first, we tried simple **linear regression** techniques (gradient descent, least square method). This allowed us to become familiar with the data, and to pre-process it. However, this was not precise enough. It did not allow us to pass the 0.160MSE mark for the challenge. \n\nWe then tried to complexify our code. This is when we discovered the **scikit-learn** library. We implemented a KNN which just allowed us to pass the challenge condition, with a MSE of 0.159. We then looked on the internet for a faster and more efficient method. In parallel to the course, we discovered decision trees and became interested in GradientBoosting. The simple version of GradientBoosting cannot have more than 100 parameters, so we had to choose the correlated data. To go even faster, we chose **HistGradientBoosting**, which allowed us to get our best score then on A.I. crowd. (0.152MSE)\n\nWe wanted to implement a **Neural Network** from the beginning. So we decided to use a Three-Layer-Net to start with and build on that. \nWe used the one we made in class, but we had to change several parameters.   \n\nWe decided, given the speed of the test, not to necessarily correlate our base data. \nWe therefore left it as is. (We used the correlation for the GradientBoosting)\nFor the use of the batch size and the shuffle, we had to reconsider how to define our inputs and outputs and to check the sizes.\nContrary to the example in the course, we are doing a linear regression model.\nWe therefore had to redefine our criteria to be able to observe the _loss_ instead of the accuracy\n\nWe added _batchnorms_ to our Neural Network. To normalise the batches and not all the data.\nWe also added a _dropout_ function to prevent overfitting. \n\nIt also seemed interesting to us to vary the learning rate according to the epoch. \nThis is why we used a scheduler. Every 30 or 40 epochs (step_size), \nit makes our learning rate smaller by multiplying it by gamma (=0.1 or 0.2)\n\n\n_The Neural Network definitely worked better than the other techniques._ \nWe thought we reached a maximum accuracy level with the other techniques. GradientBoosting gave us good results, but despite changing the parameters it did not evolve much (MSE around 0.152 on A.I. crowd).\nThe Neural Network allows us to do more in less time, so it is much more interesting, and thanks to the implementation of two layers of batch normalisation and a scheduler for the train learning rate, we managed to get a 0.139 MSE on A.I. Crowd, while the validation loss was 0.133. After that, however we changed the hyperparameters, we never got better, and we did not find any other implementation to optimize our network.\n\n\n",
   "metadata": {
    "tags": [],
    "cell_id": "00042-0a3f9275-2c22-44db-b4ed-562b2bd379ce",
    "deepnote_cell_type": "markdown"
   }
  },
  {
   "cell_type": "markdown",
   "source": "",
   "metadata": {
    "tags": [],
    "cell_id": "00054-3111718e-45ab-465a-afd0-836b31c82ce5",
    "deepnote_cell_type": "markdown"
   }
  },
  {
   "cell_type": "markdown",
   "source": "<a style='text-decoration:none;line-height:16px;display:flex;color:#5B5B62;padding:10px;justify-content:end;' href='https://deepnote.com?utm_source=created-in-deepnote-cell&projectId=6a7f4082-30e9-459a-b7a3-b829bab26631' target=\"_blank\">\n<img alt='Created in deepnote.com' style='display:inline;max-height:16px;margin:0px;margin-right:7.5px;' src='data:image/svg+xml;base64,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' > </img>\nCreated in <span style='font-weight:600;margin-left:4px;'>Deepnote</span></a>",
   "metadata": {
    "tags": [],
    "created_in_deepnote_cell": true,
    "deepnote_cell_type": "markdown"
   }
  }
 ],
 "nbformat": 4,
 "nbformat_minor": 2,
 "metadata": {
  "orig_nbformat": 2,
  "deepnote": {
   "is_reactive": false
  },
  "deepnote_notebook_id": "ebd2c229-b475-41af-a646-75218d9d3c19",
  "deepnote_execution_queue": []
 }
}